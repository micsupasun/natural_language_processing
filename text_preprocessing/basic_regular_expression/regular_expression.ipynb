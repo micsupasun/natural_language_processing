{
  "nbformat": 4,
  "nbformat_minor": 0,
  "metadata": {
    "colab": {
      "provenance": []
    },
    "kernelspec": {
      "name": "python3",
      "display_name": "Python 3"
    },
    "language_info": {
      "name": "python"
    }
  },
  "cells": [
    {
      "cell_type": "markdown",
      "source": [
        "Return a match where the specified characters are at the beginning or at the end of a word"
      ],
      "metadata": {
        "id": "fy3PuK7xaGIj"
      }
    },
    {
      "cell_type": "code",
      "execution_count": null,
      "metadata": {
        "colab": {
          "base_uri": "https://localhost:8080/"
        },
        "id": "3S5lJXCGaASR",
        "outputId": "fa201710-1981-4c29-e5bd-e44ede778b22"
      },
      "outputs": [
        {
          "output_type": "stream",
          "name": "stdout",
          "text": [
            "['', '', '', '', '', '', '', '']\n",
            "['ain', 'ain']\n"
          ]
        }
      ],
      "source": [
        "import re\n",
        "\n",
        "message = \"The rain in Spain\"\n",
        "\n",
        "result_start = re.findall(r\"\\b\", message)\n",
        "print(result_start)\n",
        "\n",
        "result_end = re.findall(r\"ain\\b\", message)\n",
        "print(result_end)"
      ]
    },
    {
      "cell_type": "markdown",
      "source": [
        "Return a match for any two-digit numbers from 00 and 59"
      ],
      "metadata": {
        "id": "6kUcnU9kyZrA"
      }
    },
    {
      "cell_type": "code",
      "source": [
        "message = \"8 times before 11:45 AM\"\n",
        "result = re.findall(\"[0-5][0-9]\", message)\n",
        "print(result)"
      ],
      "metadata": {
        "colab": {
          "base_uri": "https://localhost:8080/"
        },
        "id": "HKU_VDXXaoD0",
        "outputId": "d3855acc-21c2-4f88-8c71-e173ee69b587"
      },
      "execution_count": null,
      "outputs": [
        {
          "output_type": "stream",
          "name": "stdout",
          "text": [
            "['11', '45']\n"
          ]
        }
      ]
    },
    {
      "cell_type": "markdown",
      "source": [
        "Extract email sub-strings from document"
      ],
      "metadata": {
        "id": "vD6doMlgymu2"
      }
    },
    {
      "cell_type": "code",
      "source": [
        "message = \"Hi my name is Somchai and email address is Somchai.example@tu.ac.th and my friend's email is apirak@gmail.com\"\n",
        "result = re.findall(\"([a-zA-Z0-9_.+-]+@[a-zA-Z0-9-]+\\.[a-zA-Z0-9-.]+)\",message)\n",
        "print(result)"
      ],
      "metadata": {
        "colab": {
          "base_uri": "https://localhost:8080/"
        },
        "id": "y46c8DfpyrHB",
        "outputId": "5c681327-578c-400c-90e9-39e6c04671a5"
      },
      "execution_count": null,
      "outputs": [
        {
          "output_type": "stream",
          "name": "stdout",
          "text": [
            "['Somchai.example@tu.ac.th', 'apirak@gmail.com']\n"
          ]
        }
      ]
    },
    {
      "cell_type": "markdown",
      "source": [
        "Extract URL from document"
      ],
      "metadata": {
        "id": "TmLKdRP6ysSe"
      }
    },
    {
      "cell_type": "code",
      "source": [
        "message = \"สเตฟานี่ได้รับรางวัลแกรมมี่ 3 รางวัลในฐานะศิลปินเดี่ยวแล้วเธอยังได้รับอีกหลายรางวัล อย่างเช่น รางวัลอเมริกามิวสิกอะวอร์ด\"\n",
        "result = re.findall(\"\\d+\", message)\n",
        "print(result)"
      ],
      "metadata": {
        "colab": {
          "base_uri": "https://localhost:8080/"
        },
        "id": "BLZCf-6FyxL7",
        "outputId": "1b769104-5ff8-4749-b1fe-aa244b51a203"
      },
      "execution_count": null,
      "outputs": [
        {
          "output_type": "stream",
          "name": "stdout",
          "text": [
            "['3']\n"
          ]
        }
      ]
    },
    {
      "cell_type": "markdown",
      "source": [
        "Fine text inside HTML tag"
      ],
      "metadata": {
        "id": "3Aae2pj6ATDj"
      }
    },
    {
      "cell_type": "code",
      "source": [
        "message = \"\"\"\n",
        "<a>test</a>\n",
        "\"\"\"\n",
        "result = re.findall('<a[^>]*>([^<]+)</a>', message)\n",
        "print('\\n'.join(result))"
      ],
      "metadata": {
        "colab": {
          "base_uri": "https://localhost:8080/"
        },
        "id": "lKjANjG03Dnq",
        "outputId": "361cb1d3-7cea-45fd-e95c-ffda87a7e940"
      },
      "execution_count": null,
      "outputs": [
        {
          "output_type": "stream",
          "name": "stdout",
          "text": [
            "test\n"
          ]
        }
      ]
    },
    {
      "cell_type": "code",
      "source": [],
      "metadata": {
        "id": "HeByjKKKA2zN"
      },
      "execution_count": null,
      "outputs": []
    }
  ]
}