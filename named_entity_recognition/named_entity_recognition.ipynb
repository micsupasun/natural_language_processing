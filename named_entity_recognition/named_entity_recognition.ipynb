{
  "nbformat": 4,
  "nbformat_minor": 0,
  "metadata": {
    "colab": {
      "provenance": []
    },
    "kernelspec": {
      "name": "python3",
      "display_name": "Python 3"
    },
    "language_info": {
      "name": "python"
    }
  },
  "cells": [
    {
      "cell_type": "markdown",
      "source": [
        "# NLTK"
      ],
      "metadata": {
        "id": "N_HP1O-dDpw-"
      }
    },
    {
      "cell_type": "code",
      "execution_count": null,
      "metadata": {
        "colab": {
          "base_uri": "https://localhost:8080/"
        },
        "id": "_6fST_WEDX3M",
        "outputId": "62aa2a8e-50d2-4d21-a8e2-aabe5d5a0c75"
      },
      "outputs": [
        {
          "output_type": "stream",
          "name": "stderr",
          "text": [
            "[nltk_data] Downloading package punkt to /root/nltk_data...\n",
            "[nltk_data]   Unzipping tokenizers/punkt.zip.\n",
            "[nltk_data] Downloading package averaged_perceptron_tagger to\n",
            "[nltk_data]     /root/nltk_data...\n",
            "[nltk_data]   Unzipping taggers/averaged_perceptron_tagger.zip.\n",
            "[nltk_data] Downloading package maxent_ne_chunker to\n",
            "[nltk_data]     /root/nltk_data...\n",
            "[nltk_data]   Unzipping chunkers/maxent_ne_chunker.zip.\n",
            "[nltk_data] Downloading package words to /root/nltk_data...\n",
            "[nltk_data]   Unzipping corpora/words.zip.\n"
          ]
        },
        {
          "output_type": "execute_result",
          "data": {
            "text/plain": [
              "True"
            ]
          },
          "metadata": {},
          "execution_count": 2
        }
      ],
      "source": [
        "import nltk\n",
        "nltk.download('punkt')\n",
        "nltk.download('averaged_perceptron_tagger')\n",
        "nltk.download('maxent_ne_chunker')\n",
        "nltk.download('words')"
      ]
    },
    {
      "cell_type": "code",
      "source": [
        "text = \"The UK will host the 26th UN Climate Change of the Parties (COP26) in Glasgow on 31 October - 12 November 2021\""
      ],
      "metadata": {
        "id": "lmdPbpryD70W"
      },
      "execution_count": null,
      "outputs": []
    },
    {
      "cell_type": "code",
      "source": [
        "for sent in nltk.sent_tokenize(text):\n",
        "  for chunk in nltk.ne_chunk(nltk.pos_tag(nltk.word_tokenize(sent))):\n",
        "    if hasattr(chunk, 'label'):\n",
        "      print(chunk.label(), ' '.join(c[0] for c in chunk))"
      ],
      "metadata": {
        "colab": {
          "base_uri": "https://localhost:8080/"
        },
        "id": "vGpB1n6qEOL6",
        "outputId": "43eda6e3-e3ca-4c93-ccb5-0855170a988e"
      },
      "execution_count": null,
      "outputs": [
        {
          "output_type": "stream",
          "name": "stdout",
          "text": [
            "ORGANIZATION UK\n",
            "PERSON Climate Change\n",
            "GPE Parties\n",
            "ORGANIZATION COP26\n",
            "GPE Glasgow\n"
          ]
        }
      ]
    },
    {
      "cell_type": "markdown",
      "source": [
        "# SPACY"
      ],
      "metadata": {
        "id": "W7LQrMG_FPC9"
      }
    },
    {
      "cell_type": "code",
      "source": [
        "import spacy\n",
        "nlp = spacy.load('en_core_web_sm')\n",
        "text = \"The UK will host the 26th UN Climate Change of the Parties (COP26) in Glasgow on 31 October - 12 November 2021\"\n",
        "doc = nlp(text)\n",
        "print(f\"{'Entity':<50}\\t{'Start':<15}\\t{'End':<15}\\t{'Label':<15}\")\n",
        "for ent in doc.ents:\n",
        "  print(f\"{ent.text:<50}\\t{ent.start_char:<15}\\t{ent.end_char:<15}\\t{ent.label_:<15}\")"
      ],
      "metadata": {
        "colab": {
          "base_uri": "https://localhost:8080/"
        },
        "id": "1tUlSsq9E2mM",
        "outputId": "6eb4da14-fe7c-48e4-8d75-699db5a40d8a"
      },
      "execution_count": null,
      "outputs": [
        {
          "output_type": "stream",
          "name": "stdout",
          "text": [
            "Entity                                            \tStart          \tEnd            \tLabel          \n",
            "UK                                                \t4              \t6              \tGPE            \n",
            "26th                                              \t21             \t25             \tORDINAL        \n",
            "UN Climate Change of the Parties                  \t26             \t58             \tORG            \n",
            "Glasgow                                           \t70             \t77             \tGPE            \n",
            "31 October - 12 November 2021                     \t81             \t110            \tDATE           \n"
          ]
        }
      ]
    },
    {
      "cell_type": "markdown",
      "source": [
        "# BERT"
      ],
      "metadata": {
        "id": "kfIaycbbGrM5"
      }
    },
    {
      "cell_type": "code",
      "source": [
        "!pip install transformers"
      ],
      "metadata": {
        "colab": {
          "base_uri": "https://localhost:8080/"
        },
        "id": "COlrOCAzG5xs",
        "outputId": "f6ecd566-b592-48dc-acd5-3b3cbe6a11ca"
      },
      "execution_count": null,
      "outputs": [
        {
          "output_type": "stream",
          "name": "stdout",
          "text": [
            "Looking in indexes: https://pypi.org/simple, https://us-python.pkg.dev/colab-wheels/public/simple/\n",
            "Collecting transformers\n",
            "  Downloading transformers-4.29.2-py3-none-any.whl (7.1 MB)\n",
            "\u001b[2K     \u001b[90m━━━━━━━━━━━━━━━━━━━━━━━━━━━━━━━━━━━━━━━━\u001b[0m \u001b[32m7.1/7.1 MB\u001b[0m \u001b[31m49.8 MB/s\u001b[0m eta \u001b[36m0:00:00\u001b[0m\n",
            "\u001b[?25hRequirement already satisfied: filelock in /usr/local/lib/python3.10/dist-packages (from transformers) (3.12.0)\n",
            "Collecting huggingface-hub<1.0,>=0.14.1 (from transformers)\n",
            "  Downloading huggingface_hub-0.15.1-py3-none-any.whl (236 kB)\n",
            "\u001b[2K     \u001b[90m━━━━━━━━━━━━━━━━━━━━━━━━━━━━━━━━━━━━━━\u001b[0m \u001b[32m236.8/236.8 kB\u001b[0m \u001b[31m24.2 MB/s\u001b[0m eta \u001b[36m0:00:00\u001b[0m\n",
            "\u001b[?25hRequirement already satisfied: numpy>=1.17 in /usr/local/lib/python3.10/dist-packages (from transformers) (1.22.4)\n",
            "Requirement already satisfied: packaging>=20.0 in /usr/local/lib/python3.10/dist-packages (from transformers) (23.1)\n",
            "Requirement already satisfied: pyyaml>=5.1 in /usr/local/lib/python3.10/dist-packages (from transformers) (6.0)\n",
            "Requirement already satisfied: regex!=2019.12.17 in /usr/local/lib/python3.10/dist-packages (from transformers) (2022.10.31)\n",
            "Requirement already satisfied: requests in /usr/local/lib/python3.10/dist-packages (from transformers) (2.27.1)\n",
            "Collecting tokenizers!=0.11.3,<0.14,>=0.11.1 (from transformers)\n",
            "  Downloading tokenizers-0.13.3-cp310-cp310-manylinux_2_17_x86_64.manylinux2014_x86_64.whl (7.8 MB)\n",
            "\u001b[2K     \u001b[90m━━━━━━━━━━━━━━━━━━━━━━━━━━━━━━━━━━━━━━━━\u001b[0m \u001b[32m7.8/7.8 MB\u001b[0m \u001b[31m77.4 MB/s\u001b[0m eta \u001b[36m0:00:00\u001b[0m\n",
            "\u001b[?25hRequirement already satisfied: tqdm>=4.27 in /usr/local/lib/python3.10/dist-packages (from transformers) (4.65.0)\n",
            "Requirement already satisfied: fsspec in /usr/local/lib/python3.10/dist-packages (from huggingface-hub<1.0,>=0.14.1->transformers) (2023.4.0)\n",
            "Requirement already satisfied: typing-extensions>=3.7.4.3 in /usr/local/lib/python3.10/dist-packages (from huggingface-hub<1.0,>=0.14.1->transformers) (4.5.0)\n",
            "Requirement already satisfied: urllib3<1.27,>=1.21.1 in /usr/local/lib/python3.10/dist-packages (from requests->transformers) (1.26.15)\n",
            "Requirement already satisfied: certifi>=2017.4.17 in /usr/local/lib/python3.10/dist-packages (from requests->transformers) (2022.12.7)\n",
            "Requirement already satisfied: charset-normalizer~=2.0.0 in /usr/local/lib/python3.10/dist-packages (from requests->transformers) (2.0.12)\n",
            "Requirement already satisfied: idna<4,>=2.5 in /usr/local/lib/python3.10/dist-packages (from requests->transformers) (3.4)\n",
            "Installing collected packages: tokenizers, huggingface-hub, transformers\n",
            "Successfully installed huggingface-hub-0.15.1 tokenizers-0.13.3 transformers-4.29.2\n"
          ]
        }
      ]
    },
    {
      "cell_type": "code",
      "source": [
        "from transformers import AutoTokenizer, AutoModelForTokenClassification, pipeline\n",
        "tokenizer = AutoTokenizer.from_pretrained(\"dslim/bert-base-NER\")\n",
        "model = AutoModelForTokenClassification.from_pretrained(\"dslim/bert-base-NER\")\n",
        "\n",
        "nlp = pipeline(\"ner\",model=model, tokenizer=tokenizer)\n",
        "text = \"The UK will host the 26th UN Climate Change of the Parties (COP26) in Glasgow on 31 October - 12 November 2021\"\n"
      ],
      "metadata": {
        "id": "lDuiT3faGinP"
      },
      "execution_count": null,
      "outputs": []
    },
    {
      "cell_type": "code",
      "source": [
        "ner_results = nlp(text)\n",
        "for ne in ner_results:\n",
        "  print(ne)"
      ],
      "metadata": {
        "colab": {
          "base_uri": "https://localhost:8080/"
        },
        "id": "5d3BtIBKHgf0",
        "outputId": "acf16f92-b495-491a-85ef-d081bad050fd"
      },
      "execution_count": null,
      "outputs": [
        {
          "output_type": "stream",
          "name": "stdout",
          "text": [
            "{'entity': 'B-LOC', 'score': 0.99947864, 'index': 2, 'word': 'UK', 'start': 4, 'end': 6}\n",
            "{'entity': 'B-MISC', 'score': 0.8333227, 'index': 7, 'word': 'UN', 'start': 26, 'end': 28}\n",
            "{'entity': 'I-MISC', 'score': 0.97171885, 'index': 8, 'word': 'Climate', 'start': 29, 'end': 36}\n",
            "{'entity': 'I-MISC', 'score': 0.7681219, 'index': 9, 'word': 'Change', 'start': 37, 'end': 43}\n",
            "{'entity': 'I-MISC', 'score': 0.89536256, 'index': 10, 'word': 'of', 'start': 44, 'end': 46}\n",
            "{'entity': 'I-MISC', 'score': 0.9358373, 'index': 11, 'word': 'the', 'start': 47, 'end': 50}\n",
            "{'entity': 'I-MISC', 'score': 0.90816504, 'index': 12, 'word': 'Parties', 'start': 51, 'end': 58}\n",
            "{'entity': 'B-MISC', 'score': 0.9764014, 'index': 14, 'word': 'CO', 'start': 60, 'end': 62}\n",
            "{'entity': 'B-LOC', 'score': 0.99941874, 'index': 19, 'word': 'Glasgow', 'start': 70, 'end': 77}\n"
          ]
        }
      ]
    },
    {
      "cell_type": "markdown",
      "source": [
        "# PyThaiNLP"
      ],
      "metadata": {
        "id": "i9CapgMbILtn"
      }
    },
    {
      "cell_type": "code",
      "source": [
        "!pip3 install pythainlp[ner]"
      ],
      "metadata": {
        "colab": {
          "base_uri": "https://localhost:8080/"
        },
        "id": "XCvFws93H5Dp",
        "outputId": "a06d61de-8ba5-42b7-b69a-3674039d31d5"
      },
      "execution_count": null,
      "outputs": [
        {
          "output_type": "stream",
          "name": "stdout",
          "text": [
            "Looking in indexes: https://pypi.org/simple, https://us-python.pkg.dev/colab-wheels/public/simple/\n",
            "Requirement already satisfied: pythainlp[ner] in /usr/local/lib/python3.10/dist-packages (4.0.2)\n",
            "\u001b[33mWARNING: pythainlp 4.0.2 does not provide the extra 'ner'\u001b[0m\u001b[33m\n",
            "\u001b[0mRequirement already satisfied: requests>=2.22.0 in /usr/local/lib/python3.10/dist-packages (from pythainlp[ner]) (2.27.1)\n",
            "Requirement already satisfied: urllib3<1.27,>=1.21.1 in /usr/local/lib/python3.10/dist-packages (from requests>=2.22.0->pythainlp[ner]) (1.26.15)\n",
            "Requirement already satisfied: certifi>=2017.4.17 in /usr/local/lib/python3.10/dist-packages (from requests>=2.22.0->pythainlp[ner]) (2022.12.7)\n",
            "Requirement already satisfied: charset-normalizer~=2.0.0 in /usr/local/lib/python3.10/dist-packages (from requests>=2.22.0->pythainlp[ner]) (2.0.12)\n",
            "Requirement already satisfied: idna<4,>=2.5 in /usr/local/lib/python3.10/dist-packages (from requests>=2.22.0->pythainlp[ner]) (3.4)\n"
          ]
        }
      ]
    },
    {
      "cell_type": "code",
      "source": [
        "!pip install python-crfsuite"
      ],
      "metadata": {
        "colab": {
          "base_uri": "https://localhost:8080/"
        },
        "id": "bdz_gaBhMbCG",
        "outputId": "9e723c59-70da-4065-ae88-33281247d90b"
      },
      "execution_count": null,
      "outputs": [
        {
          "output_type": "stream",
          "name": "stdout",
          "text": [
            "Looking in indexes: https://pypi.org/simple, https://us-python.pkg.dev/colab-wheels/public/simple/\n",
            "Collecting python-crfsuite\n",
            "  Downloading python_crfsuite-0.9.9-cp310-cp310-manylinux_2_17_x86_64.manylinux2014_x86_64.whl (993 kB)\n",
            "\u001b[2K     \u001b[90m━━━━━━━━━━━━━━━━━━━━━━━━━━━━━━━━━━━━━━\u001b[0m \u001b[32m993.5/993.5 kB\u001b[0m \u001b[31m13.1 MB/s\u001b[0m eta \u001b[36m0:00:00\u001b[0m\n",
            "\u001b[?25hInstalling collected packages: python-crfsuite\n",
            "Successfully installed python-crfsuite-0.9.9\n"
          ]
        }
      ]
    },
    {
      "cell_type": "code",
      "source": [
        "from pythainlp.tag import NER\n",
        "ner = NER(\"thainer\")\n",
        "text = \"กรมอุตุนิยมวิทยาประกาศ ประเทศไทยจะเข้าสู่ฤดูหนาวอย่างเป็นทางการในวันที่ 2 พฤศจิกายน 2564 และ จะสิ้นสุดประมาณปลายเดือนกุมภาพันธ์ 2565\"\n",
        "ner.tag(text)"
      ],
      "metadata": {
        "colab": {
          "base_uri": "https://localhost:8080/"
        },
        "id": "PBlkFPxpIVgD",
        "outputId": "e341a8dc-83c9-46ea-8880-fb9b49f2d07d"
      },
      "execution_count": null,
      "outputs": [
        {
          "output_type": "execute_result",
          "data": {
            "text/plain": [
              "[('กรมอุตุนิยมวิทยา', 'B-ORGANIZATION'),\n",
              " ('ประกาศ', 'O'),\n",
              " (' ', 'O'),\n",
              " ('ประเทศ', 'B-LOCATION'),\n",
              " ('ไทย', 'I-LOCATION'),\n",
              " ('จะ', 'O'),\n",
              " ('เข้าสู่', 'O'),\n",
              " ('ฤดูหนาว', 'O'),\n",
              " ('อย่าง', 'O'),\n",
              " ('เป็นทางการ', 'O'),\n",
              " ('ใน', 'O'),\n",
              " ('วันที่', 'O'),\n",
              " (' ', 'O'),\n",
              " ('2', 'B-DATE'),\n",
              " (' ', 'I-DATE'),\n",
              " ('พฤศจิกายน', 'I-DATE'),\n",
              " (' ', 'I-DATE'),\n",
              " ('2564', 'I-DATE'),\n",
              " (' ', 'O'),\n",
              " ('และ', 'O'),\n",
              " (' ', 'O'),\n",
              " ('จะ', 'O'),\n",
              " ('สิ้น', 'O'),\n",
              " ('สุดประมาณ', 'O'),\n",
              " ('ปลายเดือน', 'B-DATE'),\n",
              " ('กุมภาพันธ์', 'I-DATE'),\n",
              " (' ', 'I-DATE'),\n",
              " ('2565', 'I-DATE')]"
            ]
          },
          "metadata": {},
          "execution_count": 33
        }
      ]
    },
    {
      "cell_type": "code",
      "source": [],
      "metadata": {
        "id": "bg4l-4pwI0np"
      },
      "execution_count": null,
      "outputs": []
    }
  ]
}