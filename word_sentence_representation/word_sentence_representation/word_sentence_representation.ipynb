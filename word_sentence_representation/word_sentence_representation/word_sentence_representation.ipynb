{
  "cells": [
    {
      "cell_type": "markdown",
      "metadata": {
        "id": "_42Mt2dnV_Er"
      },
      "source": [
        "# One hot encoding"
      ]
    },
    {
      "cell_type": "code",
      "execution_count": null,
      "metadata": {
        "colab": {
          "base_uri": "https://localhost:8080/"
        },
        "id": "n1wIsViJVtXa",
        "outputId": "2957890f-9d65-41df-e708-c25cdb5fe563"
      },
      "outputs": [
        {
          "name": "stdout",
          "output_type": "stream",
          "text": [
            "Looking in indexes: https://pypi.org/simple, https://us-python.pkg.dev/colab-wheels/public/simple/\n",
            "Collecting pythainlp[full]\n",
            "  Downloading pythainlp-4.0.2-py3-none-any.whl (13.4 MB)\n",
            "\u001b[2K     \u001b[90m━━━━━━━━━━━━━━━━━━━━━━━━━━━━━━━━━━━━━━━\u001b[0m \u001b[32m13.4/13.4 MB\u001b[0m \u001b[31m107.9 MB/s\u001b[0m eta \u001b[36m0:00:00\u001b[0m\n",
            "\u001b[?25hRequirement already satisfied: requests>=2.22.0 in /usr/local/lib/python3.10/dist-packages (from pythainlp[full]) (2.27.1)\n",
            "Requirement already satisfied: PyYAML>=5.3.1 in /usr/local/lib/python3.10/dist-packages (from pythainlp[full]) (6.0)\n",
            "Collecting attacut>=1.0.4 (from pythainlp[full])\n",
            "  Downloading attacut-1.0.6-py3-none-any.whl (1.3 MB)\n",
            "\u001b[2K     \u001b[90m━━━━━━━━━━━━━━━━━━━━━━━━━━━━━━━━━━━━━━━━\u001b[0m \u001b[32m1.3/1.3 MB\u001b[0m \u001b[31m57.6 MB/s\u001b[0m eta \u001b[36m0:00:00\u001b[0m\n",
            "\u001b[?25hCollecting emoji>=0.5.1 (from pythainlp[full])\n",
            "  Downloading emoji-2.4.0.tar.gz (353 kB)\n",
            "\u001b[2K     \u001b[90m━━━━━━━━━━━━━━━━━━━━━━━━━━━━━━━━━━━━━━\u001b[0m \u001b[32m353.7/353.7 kB\u001b[0m \u001b[31m42.2 MB/s\u001b[0m eta \u001b[36m0:00:00\u001b[0m\n",
            "\u001b[?25h  Preparing metadata (setup.py) ... \u001b[?25l\u001b[?25hdone\n",
            "Collecting epitran>=1.1 (from pythainlp[full])\n",
            "  Downloading epitran-1.24-py2.py3-none-any.whl (164 kB)\n",
            "\u001b[2K     \u001b[90m━━━━━━━━━━━━━━━━━━━━━━━━━━━━━━━━━━━━━━\u001b[0m \u001b[32m164.9/164.9 kB\u001b[0m \u001b[31m22.3 MB/s\u001b[0m eta \u001b[36m0:00:00\u001b[0m\n",
            "\u001b[?25hCollecting fairseq>=0.10.0 (from pythainlp[full])\n",
            "  Downloading fairseq-0.12.2.tar.gz (9.6 MB)\n",
            "\u001b[2K     \u001b[90m━━━━━━━━━━━━━━━━━━━━━━━━━━━━━━━━━━━━━━━━\u001b[0m \u001b[32m9.6/9.6 MB\u001b[0m \u001b[31m115.7 MB/s\u001b[0m eta \u001b[36m0:00:00\u001b[0m\n",
            "\u001b[?25h  Installing build dependencies ... \u001b[?25l\u001b[?25hdone\n",
            "  Getting requirements to build wheel ... \u001b[?25l\u001b[?25hdone\n",
            "  Installing backend dependencies ... \u001b[?25l\u001b[?25hdone\n",
            "  Preparing metadata (pyproject.toml) ... \u001b[?25l\u001b[?25hdone\n",
            "Requirement already satisfied: gensim>=4.0.0 in /usr/local/lib/python3.10/dist-packages (from pythainlp[full]) (4.3.1)\n",
            "Requirement already satisfied: nltk>=3.3 in /usr/local/lib/python3.10/dist-packages (from pythainlp[full]) (3.8.1)\n",
            "Requirement already satisfied: numpy>=1.22 in /usr/local/lib/python3.10/dist-packages (from pythainlp[full]) (1.22.4)\n",
            "Requirement already satisfied: pandas>=0.24 in /usr/local/lib/python3.10/dist-packages (from pythainlp[full]) (1.5.3)\n",
            "Collecting pyicu>=2.3 (from pythainlp[full])\n",
            "  Downloading PyICU-2.11.tar.gz (257 kB)\n",
            "\u001b[2K     \u001b[90m━━━━━━━━━━━━━━━━━━━━━━━━━━━━━━━━━━━━━━\u001b[0m \u001b[32m257.9/257.9 kB\u001b[0m \u001b[31m32.3 MB/s\u001b[0m eta \u001b[36m0:00:00\u001b[0m\n",
            "\u001b[?25h  Installing build dependencies ... \u001b[?25l\u001b[?25hdone\n",
            "  Getting requirements to build wheel ... \u001b[?25l\u001b[?25hdone\n",
            "  Preparing metadata (pyproject.toml) ... \u001b[?25l\u001b[?25hdone\n",
            "Collecting sacremoses>=0.0.41 (from pythainlp[full])\n",
            "  Downloading sacremoses-0.0.53.tar.gz (880 kB)\n",
            "\u001b[2K     \u001b[90m━━━━━━━━━━━━━━━━━━━━━━━━━━━━━━━━━━━━━━\u001b[0m \u001b[32m880.6/880.6 kB\u001b[0m \u001b[31m63.3 MB/s\u001b[0m eta \u001b[36m0:00:00\u001b[0m\n",
            "\u001b[?25h  Preparing metadata (setup.py) ... \u001b[?25l\u001b[?25hdone\n",
            "Collecting sentencepiece>=0.1.91 (from pythainlp[full])\n",
            "  Downloading sentencepiece-0.1.99-cp310-cp310-manylinux_2_17_x86_64.manylinux2014_x86_64.whl (1.3 MB)\n",
            "\u001b[2K     \u001b[90m━━━━━━━━━━━━━━━━━━━━━━━━━━━━━━━━━━━━━━━━\u001b[0m \u001b[32m1.3/1.3 MB\u001b[0m \u001b[31m90.8 MB/s\u001b[0m eta \u001b[36m0:00:00\u001b[0m\n",
            "\u001b[?25hCollecting ssg>=0.0.8 (from pythainlp[full])\n",
            "  Downloading ssg-0.0.8-py3-none-any.whl (473 kB)\n",
            "\u001b[2K     \u001b[90m━━━━━━━━━━━━━━━━━━━━━━━━━━━━━━━━━━━━━━\u001b[0m \u001b[32m473.8/473.8 kB\u001b[0m \u001b[31m54.1 MB/s\u001b[0m eta \u001b[36m0:00:00\u001b[0m\n",
            "\u001b[?25hRequirement already satisfied: torch>=1.0.0 in /usr/local/lib/python3.10/dist-packages (from pythainlp[full]) (2.0.1+cu118)\n",
            "Collecting fastai<2.0 (from pythainlp[full])\n",
            "  Downloading fastai-1.0.61-py3-none-any.whl (239 kB)\n",
            "\u001b[2K     \u001b[90m━━━━━━━━━━━━━━━━━━━━━━━━━━━━━━━━━━━━━━\u001b[0m \u001b[32m239.2/239.2 kB\u001b[0m \u001b[31m32.3 MB/s\u001b[0m eta \u001b[36m0:00:00\u001b[0m\n",
            "\u001b[?25hCollecting bpemb>=0.3.2 (from pythainlp[full])\n",
            "  Downloading bpemb-0.3.4-py3-none-any.whl (19 kB)\n",
            "Collecting transformers>=4.22.1 (from pythainlp[full])\n",
            "  Downloading transformers-4.29.2-py3-none-any.whl (7.1 MB)\n",
            "\u001b[2K     \u001b[90m━━━━━━━━━━━━━━━━━━━━━━━━━━━━━━━━━━━━━━━━\u001b[0m \u001b[32m7.1/7.1 MB\u001b[0m \u001b[31m100.0 MB/s\u001b[0m eta \u001b[36m0:00:00\u001b[0m\n",
            "\u001b[?25hCollecting sefr-cut>=1.1 (from pythainlp[full])\n",
            "  Downloading SEFR_CUT-1.1-py3-none-any.whl (8.7 MB)\n",
            "\u001b[2K     \u001b[90m━━━━━━━━━━━━━━━━━━━━━━━━━━━━━━━━━━━━━━━━\u001b[0m \u001b[32m8.7/8.7 MB\u001b[0m \u001b[31m14.8 MB/s\u001b[0m eta \u001b[36m0:00:00\u001b[0m\n",
            "\u001b[?25hCollecting phunspell>=0.1.6 (from pythainlp[full])\n",
            "  Downloading phunspell-0.1.6.tar.gz (47.5 MB)\n",
            "\u001b[2K     \u001b[90m━━━━━━━━━━━━━━━━━━━━━━━━━━━━━━━━━━━━━━━━\u001b[0m \u001b[32m47.5/47.5 MB\u001b[0m \u001b[31m11.8 MB/s\u001b[0m eta \u001b[36m0:00:00\u001b[0m\n",
            "\u001b[?25h  Installing build dependencies ... \u001b[?25l\u001b[?25hdone\n",
            "  Getting requirements to build wheel ... \u001b[?25l\u001b[?25hdone\n",
            "  Preparing metadata (pyproject.toml) ... \u001b[?25l\u001b[?25hdone\n",
            "Collecting spylls>=0.1.5 (from pythainlp[full])\n",
            "  Downloading spylls-0.1.7-py2.py3-none-any.whl (1.5 MB)\n",
            "\u001b[2K     \u001b[90m━━━━━━━━━━━━━━━━━━━━━━━━━━━━━━━━━━━━━━━━\u001b[0m \u001b[32m1.5/1.5 MB\u001b[0m \u001b[31m87.5 MB/s\u001b[0m eta \u001b[36m0:00:00\u001b[0m\n",
            "\u001b[?25hCollecting symspellpy>=6.7.6 (from pythainlp[full])\n",
            "  Downloading symspellpy-6.7.7-py3-none-any.whl (2.6 MB)\n",
            "\u001b[2K     \u001b[90m━━━━━━━━━━━━━━━━━━━━━━━━━━━━━━━━━━━━━━━━\u001b[0m \u001b[32m2.6/2.6 MB\u001b[0m \u001b[31m70.0 MB/s\u001b[0m eta \u001b[36m0:00:00\u001b[0m\n",
            "\u001b[?25hCollecting oskut>=1.3 (from pythainlp[full])\n",
            "  Downloading OSKut-1.3-py3-none-any.whl (44.2 MB)\n",
            "\u001b[2K     \u001b[90m━━━━━━━━━━━━━━━━━━━━━━━━━━━━━━━━━━━━━━━━\u001b[0m \u001b[32m44.2/44.2 MB\u001b[0m \u001b[31m11.4 MB/s\u001b[0m eta \u001b[36m0:00:00\u001b[0m\n",
            "\u001b[?25hCollecting nlpo3>=1.2.2 (from pythainlp[full])\n",
            "  Downloading nlpo3-1.3.0-cp310-cp310-manylinux_2_17_x86_64.manylinux2014_x86_64.whl (1.7 MB)\n",
            "\u001b[2K     \u001b[90m━━━━━━━━━━━━━━━━━━━━━━━━━━━━━━━━━━━━━━━━\u001b[0m \u001b[32m1.7/1.7 MB\u001b[0m \u001b[31m101.7 MB/s\u001b[0m eta \u001b[36m0:00:00\u001b[0m\n",
            "\u001b[?25hCollecting onnxruntime>=1.10.0 (from pythainlp[full])\n",
            "  Downloading onnxruntime-1.15.0-cp310-cp310-manylinux_2_17_x86_64.manylinux2014_x86_64.whl (5.9 MB)\n",
            "\u001b[2K     \u001b[90m━━━━━━━━━━━━━━━━━━━━━━━━━━━━━━━━━━━━━━━━\u001b[0m \u001b[32m5.9/5.9 MB\u001b[0m \u001b[31m133.7 MB/s\u001b[0m eta \u001b[36m0:00:00\u001b[0m\n",
            "\u001b[?25hCollecting thai-nner (from pythainlp[full])\n",
            "  Downloading thai_nner-0.3-py3-none-any.whl (2.2 MB)\n",
            "\u001b[2K     \u001b[90m━━━━━━━━━━━━━━━━━━━━━━━━━━━━━━━━━━━━━━━━\u001b[0m \u001b[32m2.2/2.2 MB\u001b[0m \u001b[31m91.2 MB/s\u001b[0m eta \u001b[36m0:00:00\u001b[0m\n",
            "\u001b[?25hCollecting wunsen>=0.0.3 (from pythainlp[full])\n",
            "  Downloading wunsen-0.0.3-py3-none-any.whl (21 kB)\n",
            "Collecting spacy-thai>=0.7.1 (from pythainlp[full])\n",
            "  Downloading spacy_thai-0.7.3-py3-none-any.whl (6.0 MB)\n",
            "\u001b[2K     \u001b[90m━━━━━━━━━━━━━━━━━━━━━━━━━━━━━━━━━━━━━━━━\u001b[0m \u001b[32m6.0/6.0 MB\u001b[0m \u001b[31m18.9 MB/s\u001b[0m eta \u001b[36m0:00:00\u001b[0m\n",
            "\u001b[?25hCollecting ufal.chu-liu-edmonds>=1.0.2 (from pythainlp[full])\n",
            "  Downloading ufal.chu_liu_edmonds-1.0.2-cp310-cp310-manylinux_2_17_x86_64.manylinux2014_x86_64.whl (105 kB)\n",
            "\u001b[2K     \u001b[90m━━━━━━━━━━━━━━━━━━━━━━━━━━━━━━━━━━━━━━\u001b[0m \u001b[32m105.1/105.1 kB\u001b[0m \u001b[31m13.0 MB/s\u001b[0m eta \u001b[36m0:00:00\u001b[0m\n",
            "\u001b[?25hCollecting docopt>=0.6.2 (from attacut>=1.0.4->pythainlp[full])\n",
            "  Downloading docopt-0.6.2.tar.gz (25 kB)\n",
            "  Preparing metadata (setup.py) ... \u001b[?25l\u001b[?25hdone\n",
            "Collecting fire>=0.1.3 (from attacut>=1.0.4->pythainlp[full])\n",
            "  Downloading fire-0.5.0.tar.gz (88 kB)\n",
            "\u001b[2K     \u001b[90m━━━━━━━━━━━━━━━━━━━━━━━━━━━━━━━━━━━━━━━━\u001b[0m \u001b[32m88.3/88.3 kB\u001b[0m \u001b[31m11.2 MB/s\u001b[0m eta \u001b[36m0:00:00\u001b[0m\n",
            "\u001b[?25h  Preparing metadata (setup.py) ... \u001b[?25l\u001b[?25hdone\n",
            "Collecting nptyping>=0.2.0 (from attacut>=1.0.4->pythainlp[full])\n",
            "  Downloading nptyping-2.5.0-py3-none-any.whl (37 kB)\n",
            "Requirement already satisfied: six>=1.12.0 in /usr/local/lib/python3.10/dist-packages (from attacut>=1.0.4->pythainlp[full]) (1.16.0)\n",
            "Requirement already satisfied: tqdm in /usr/local/lib/python3.10/dist-packages (from bpemb>=0.3.2->pythainlp[full]) (4.65.0)\n",
            "Requirement already satisfied: setuptools in /usr/local/lib/python3.10/dist-packages (from epitran>=1.1->pythainlp[full]) (67.7.2)\n",
            "Requirement already satisfied: regex in /usr/local/lib/python3.10/dist-packages (from epitran>=1.1->pythainlp[full]) (2022.10.31)\n",
            "Collecting panphon>=0.20 (from epitran>=1.1->pythainlp[full])\n",
            "  Downloading panphon-0.20.0-py2.py3-none-any.whl (73 kB)\n",
            "\u001b[2K     \u001b[90m━━━━━━━━━━━━━━━━━━━━━━━━━━━━━━━━━━━━━━━━\u001b[0m \u001b[32m73.6/73.6 kB\u001b[0m \u001b[31m8.5 MB/s\u001b[0m eta \u001b[36m0:00:00\u001b[0m\n",
            "\u001b[?25hCollecting marisa-trie (from epitran>=1.1->pythainlp[full])\n",
            "  Downloading marisa_trie-0.8.0-cp310-cp310-manylinux_2_17_x86_64.manylinux2014_x86_64.whl (1.2 MB)\n",
            "\u001b[2K     \u001b[90m━━━━━━━━━━━━━━━━━━━━━━━━━━━━━━━━━━━━━━━━\u001b[0m \u001b[32m1.2/1.2 MB\u001b[0m \u001b[31m61.9 MB/s\u001b[0m eta \u001b[36m0:00:00\u001b[0m\n",
            "\u001b[?25hRequirement already satisfied: cffi in /usr/local/lib/python3.10/dist-packages (from fairseq>=0.10.0->pythainlp[full]) (1.15.1)\n",
            "Requirement already satisfied: cython in /usr/local/lib/python3.10/dist-packages (from fairseq>=0.10.0->pythainlp[full]) (0.29.34)\n",
            "Collecting hydra-core<1.1,>=1.0.7 (from fairseq>=0.10.0->pythainlp[full])\n",
            "  Downloading hydra_core-1.0.7-py3-none-any.whl (123 kB)\n",
            "\u001b[2K     \u001b[90m━━━━━━━━━━━━━━━━━━━━━━━━━━━━━━━━━━━━━━\u001b[0m \u001b[32m123.8/123.8 kB\u001b[0m \u001b[31m14.8 MB/s\u001b[0m eta \u001b[36m0:00:00\u001b[0m\n",
            "\u001b[?25hCollecting omegaconf<2.1 (from fairseq>=0.10.0->pythainlp[full])\n",
            "  Downloading omegaconf-2.0.6-py3-none-any.whl (36 kB)\n",
            "Collecting sacrebleu>=1.4.12 (from fairseq>=0.10.0->pythainlp[full])\n",
            "  Downloading sacrebleu-2.3.1-py3-none-any.whl (118 kB)\n",
            "\u001b[2K     \u001b[90m━━━━━━━━━━━━━━━━━━━━━━━━━━━━━━━━━━━━━━\u001b[0m \u001b[32m118.9/118.9 kB\u001b[0m \u001b[31m12.7 MB/s\u001b[0m eta \u001b[36m0:00:00\u001b[0m\n",
            "\u001b[?25hCollecting bitarray (from fairseq>=0.10.0->pythainlp[full])\n",
            "  Downloading bitarray-2.7.4-cp310-cp310-manylinux_2_17_x86_64.manylinux2014_x86_64.whl (273 kB)\n",
            "\u001b[2K     \u001b[90m━━━━━━━━━━━━━━━━━━━━━━━━━━━━━━━━━━━━━━\u001b[0m \u001b[32m273.7/273.7 kB\u001b[0m \u001b[31m30.6 MB/s\u001b[0m eta \u001b[36m0:00:00\u001b[0m\n",
            "\u001b[?25hRequirement already satisfied: torchaudio>=0.8.0 in /usr/local/lib/python3.10/dist-packages (from fairseq>=0.10.0->pythainlp[full]) (2.0.2+cu118)\n",
            "Collecting bottleneck (from fastai<2.0->pythainlp[full])\n",
            "  Downloading Bottleneck-1.3.7-cp310-cp310-manylinux_2_5_x86_64.manylinux1_x86_64.manylinux_2_17_x86_64.manylinux2014_x86_64.whl (354 kB)\n",
            "\u001b[2K     \u001b[90m━━━━━━━━━━━━━━━━━━━━━━━━━━━━━━━━━━━━━━\u001b[0m \u001b[32m354.0/354.0 kB\u001b[0m \u001b[31m42.6 MB/s\u001b[0m eta \u001b[36m0:00:00\u001b[0m\n",
            "\u001b[?25hRequirement already satisfied: fastprogress>=0.2.1 in /usr/local/lib/python3.10/dist-packages (from fastai<2.0->pythainlp[full]) (1.0.3)\n",
            "Requirement already satisfied: beautifulsoup4 in /usr/local/lib/python3.10/dist-packages (from fastai<2.0->pythainlp[full]) (4.11.2)\n",
            "Requirement already satisfied: matplotlib in /usr/local/lib/python3.10/dist-packages (from fastai<2.0->pythainlp[full]) (3.7.1)\n",
            "Requirement already satisfied: numexpr in /usr/local/lib/python3.10/dist-packages (from fastai<2.0->pythainlp[full]) (2.8.4)\n",
            "Collecting nvidia-ml-py3 (from fastai<2.0->pythainlp[full])\n",
            "  Downloading nvidia-ml-py3-7.352.0.tar.gz (19 kB)\n",
            "  Preparing metadata (setup.py) ... \u001b[?25l\u001b[?25hdone\n",
            "Requirement already satisfied: packaging in /usr/local/lib/python3.10/dist-packages (from fastai<2.0->pythainlp[full]) (23.1)\n",
            "Requirement already satisfied: Pillow in /usr/local/lib/python3.10/dist-packages (from fastai<2.0->pythainlp[full]) (8.4.0)\n",
            "Requirement already satisfied: scipy in /usr/local/lib/python3.10/dist-packages (from fastai<2.0->pythainlp[full]) (1.10.1)\n",
            "Requirement already satisfied: torchvision in /usr/local/lib/python3.10/dist-packages (from fastai<2.0->pythainlp[full]) (0.15.2+cu118)\n",
            "Requirement already satisfied: smart-open>=1.8.1 in /usr/local/lib/python3.10/dist-packages (from gensim>=4.0.0->pythainlp[full]) (6.3.0)\n",
            "Requirement already satisfied: click in /usr/local/lib/python3.10/dist-packages (from nltk>=3.3->pythainlp[full]) (8.1.3)\n",
            "Requirement already satisfied: joblib in /usr/local/lib/python3.10/dist-packages (from nltk>=3.3->pythainlp[full]) (1.2.0)\n",
            "Collecting coloredlogs (from onnxruntime>=1.10.0->pythainlp[full])\n",
            "  Downloading coloredlogs-15.0.1-py2.py3-none-any.whl (46 kB)\n",
            "\u001b[2K     \u001b[90m━━━━━━━━━━━━━━━━━━━━━━━━━━━━━━━━━━━━━━━━\u001b[0m \u001b[32m46.0/46.0 kB\u001b[0m \u001b[31m6.4 MB/s\u001b[0m eta \u001b[36m0:00:00\u001b[0m\n",
            "\u001b[?25hRequirement already satisfied: flatbuffers in /usr/local/lib/python3.10/dist-packages (from onnxruntime>=1.10.0->pythainlp[full]) (23.3.3)\n",
            "Requirement already satisfied: protobuf in /usr/local/lib/python3.10/dist-packages (from onnxruntime>=1.10.0->pythainlp[full]) (3.20.3)\n",
            "Requirement already satisfied: sympy in /usr/local/lib/python3.10/dist-packages (from onnxruntime>=1.10.0->pythainlp[full]) (1.11.1)\n",
            "Requirement already satisfied: tensorflow>=2.0.0 in /usr/local/lib/python3.10/dist-packages (from oskut>=1.3->pythainlp[full]) (2.12.0)\n",
            "Requirement already satisfied: scikit-learn in /usr/local/lib/python3.10/dist-packages (from oskut>=1.3->pythainlp[full]) (1.2.2)\n",
            "Collecting pyahocorasick<=1.4.0 (from oskut>=1.3->pythainlp[full])\n",
            "  Downloading pyahocorasick-1.4.0.tar.gz (312 kB)\n",
            "\u001b[2K     \u001b[90m━━━━━━━━━━━━━━━━━━━━━━━━━━━━━━━━━━━━━━\u001b[0m \u001b[32m312.1/312.1 kB\u001b[0m \u001b[31m39.8 MB/s\u001b[0m eta \u001b[36m0:00:00\u001b[0m\n",
            "\u001b[?25h  Preparing metadata (setup.py) ... \u001b[?25l\u001b[?25hdone\n",
            "Requirement already satisfied: python-dateutil>=2.8.1 in /usr/local/lib/python3.10/dist-packages (from pandas>=0.24->pythainlp[full]) (2.8.2)\n",
            "Requirement already satisfied: pytz>=2020.1 in /usr/local/lib/python3.10/dist-packages (from pandas>=0.24->pythainlp[full]) (2022.7.1)\n",
            "Requirement already satisfied: urllib3<1.27,>=1.21.1 in /usr/local/lib/python3.10/dist-packages (from requests>=2.22.0->pythainlp[full]) (1.26.15)\n",
            "Requirement already satisfied: certifi>=2017.4.17 in /usr/local/lib/python3.10/dist-packages (from requests>=2.22.0->pythainlp[full]) (2022.12.7)\n",
            "Requirement already satisfied: charset-normalizer~=2.0.0 in /usr/local/lib/python3.10/dist-packages (from requests>=2.22.0->pythainlp[full]) (2.0.12)\n",
            "Requirement already satisfied: idna<4,>=2.5 in /usr/local/lib/python3.10/dist-packages (from requests>=2.22.0->pythainlp[full]) (3.4)\n",
            "Collecting python-crfsuite (from sefr-cut>=1.1->pythainlp[full])\n",
            "  Downloading python_crfsuite-0.9.9-cp310-cp310-manylinux_2_17_x86_64.manylinux2014_x86_64.whl (993 kB)\n",
            "\u001b[2K     \u001b[90m━━━━━━━━━━━━━━━━━━━━━━━━━━━━━━━━━━━━━━\u001b[0m \u001b[32m993.5/993.5 kB\u001b[0m \u001b[31m81.2 MB/s\u001b[0m eta \u001b[36m0:00:00\u001b[0m\n",
            "\u001b[?25hCollecting deplacy>=2.0.3 (from spacy-thai>=0.7.1->pythainlp[full])\n",
            "  Downloading deplacy-2.0.5-py3-none-any.whl (22 kB)\n",
            "Requirement already satisfied: spacy>=2.2.2 in /usr/local/lib/python3.10/dist-packages (from spacy-thai>=0.7.1->pythainlp[full]) (3.5.2)\n",
            "Collecting ufal.udpipe>=1.2.0 (from spacy-thai>=0.7.1->pythainlp[full])\n",
            "  Downloading ufal.udpipe-1.3.0.1-cp310-cp310-manylinux_2_17_x86_64.manylinux2014_x86_64.whl (936 kB)\n",
            "\u001b[2K     \u001b[90m━━━━━━━━━━━━━━━━━━━━━━━━━━━━━━━━━━━━━━\u001b[0m \u001b[32m937.0/937.0 kB\u001b[0m \u001b[31m62.3 MB/s\u001b[0m eta \u001b[36m0:00:00\u001b[0m\n",
            "\u001b[?25hCollecting editdistpy>=0.1.3 (from symspellpy>=6.7.6->pythainlp[full])\n",
            "  Downloading editdistpy-0.1.3.tar.gz (57 kB)\n",
            "\u001b[2K     \u001b[90m━━━━━━━━━━━━━━━━━━━━━━━━━━━━━━━━━━━━━━━━\u001b[0m \u001b[32m57.2/57.2 kB\u001b[0m \u001b[31m6.7 MB/s\u001b[0m eta \u001b[36m0:00:00\u001b[0m\n",
            "\u001b[?25h  Installing build dependencies ... \u001b[?25l\u001b[?25hdone\n",
            "  Getting requirements to build wheel ... \u001b[?25l\u001b[?25hdone\n",
            "  Preparing metadata (pyproject.toml) ... \u001b[?25l\u001b[?25hdone\n",
            "Requirement already satisfied: filelock in /usr/local/lib/python3.10/dist-packages (from torch>=1.0.0->pythainlp[full]) (3.12.0)\n",
            "Requirement already satisfied: typing-extensions in /usr/local/lib/python3.10/dist-packages (from torch>=1.0.0->pythainlp[full]) (4.5.0)\n",
            "Requirement already satisfied: networkx in /usr/local/lib/python3.10/dist-packages (from torch>=1.0.0->pythainlp[full]) (3.1)\n",
            "Requirement already satisfied: jinja2 in /usr/local/lib/python3.10/dist-packages (from torch>=1.0.0->pythainlp[full]) (3.1.2)\n",
            "Requirement already satisfied: triton==2.0.0 in /usr/local/lib/python3.10/dist-packages (from torch>=1.0.0->pythainlp[full]) (2.0.0)\n",
            "Requirement already satisfied: cmake in /usr/local/lib/python3.10/dist-packages (from triton==2.0.0->torch>=1.0.0->pythainlp[full]) (3.25.2)\n",
            "Requirement already satisfied: lit in /usr/local/lib/python3.10/dist-packages (from triton==2.0.0->torch>=1.0.0->pythainlp[full]) (16.0.5)\n",
            "Collecting huggingface-hub<1.0,>=0.14.1 (from transformers>=4.22.1->pythainlp[full])\n",
            "  Downloading huggingface_hub-0.15.1-py3-none-any.whl (236 kB)\n",
            "\u001b[2K     \u001b[90m━━━━━━━━━━━━━━━━━━━━━━━━━━━━━━━━━━━━━━\u001b[0m \u001b[32m236.8/236.8 kB\u001b[0m \u001b[31m24.0 MB/s\u001b[0m eta \u001b[36m0:00:00\u001b[0m\n",
            "\u001b[?25hCollecting tokenizers!=0.11.3,<0.14,>=0.11.1 (from transformers>=4.22.1->pythainlp[full])\n",
            "  Downloading tokenizers-0.13.3-cp310-cp310-manylinux_2_17_x86_64.manylinux2014_x86_64.whl (7.8 MB)\n",
            "\u001b[2K     \u001b[90m━━━━━━━━━━━━━━━━━━━━━━━━━━━━━━━━━━━━━━━━\u001b[0m \u001b[32m7.8/7.8 MB\u001b[0m \u001b[31m107.3 MB/s\u001b[0m eta \u001b[36m0:00:00\u001b[0m\n",
            "\u001b[?25hCollecting khanaa>=0.0.6 (from wunsen>=0.0.3->pythainlp[full])\n",
            "  Downloading khanaa-0.0.6-py3-none-any.whl (12 kB)\n",
            "Requirement already satisfied: tensorboard>=1.14 in /usr/local/lib/python3.10/dist-packages (from thai-nner->pythainlp[full]) (2.12.2)\n",
            "Requirement already satisfied: termcolor in /usr/local/lib/python3.10/dist-packages (from fire>=0.1.3->attacut>=1.0.4->pythainlp[full]) (2.3.0)\n",
            "Requirement already satisfied: fsspec in /usr/local/lib/python3.10/dist-packages (from huggingface-hub<1.0,>=0.14.1->transformers>=4.22.1->pythainlp[full]) (2023.4.0)\n",
            "Collecting antlr4-python3-runtime==4.8 (from hydra-core<1.1,>=1.0.7->fairseq>=0.10.0->pythainlp[full])\n",
            "  Downloading antlr4-python3-runtime-4.8.tar.gz (112 kB)\n",
            "\u001b[2K     \u001b[90m━━━━━━━━━━━━━━━━━━━━━━━━━━━━━━━━━━━━━━\u001b[0m \u001b[32m112.4/112.4 kB\u001b[0m \u001b[31m14.1 MB/s\u001b[0m eta \u001b[36m0:00:00\u001b[0m\n",
            "\u001b[?25h  Preparing metadata (setup.py) ... \u001b[?25l\u001b[?25hdone\n",
            "Collecting unicodecsv (from panphon>=0.20->epitran>=1.1->pythainlp[full])\n",
            "  Downloading unicodecsv-0.14.1.tar.gz (10 kB)\n",
            "  Preparing metadata (setup.py) ... \u001b[?25l\u001b[?25hdone\n",
            "Requirement already satisfied: editdistance in /usr/local/lib/python3.10/dist-packages (from panphon>=0.20->epitran>=1.1->pythainlp[full]) (0.6.2)\n",
            "Collecting munkres (from panphon>=0.20->epitran>=1.1->pythainlp[full])\n",
            "  Downloading munkres-1.1.4-py2.py3-none-any.whl (7.0 kB)\n",
            "Collecting portalocker (from sacrebleu>=1.4.12->fairseq>=0.10.0->pythainlp[full])\n",
            "  Downloading portalocker-2.7.0-py2.py3-none-any.whl (15 kB)\n",
            "Requirement already satisfied: tabulate>=0.8.9 in /usr/local/lib/python3.10/dist-packages (from sacrebleu>=1.4.12->fairseq>=0.10.0->pythainlp[full]) (0.8.10)\n",
            "Collecting colorama (from sacrebleu>=1.4.12->fairseq>=0.10.0->pythainlp[full])\n",
            "  Downloading colorama-0.4.6-py2.py3-none-any.whl (25 kB)\n",
            "Requirement already satisfied: lxml in /usr/local/lib/python3.10/dist-packages (from sacrebleu>=1.4.12->fairseq>=0.10.0->pythainlp[full]) (4.9.2)\n",
            "Requirement already satisfied: spacy-legacy<3.1.0,>=3.0.11 in /usr/local/lib/python3.10/dist-packages (from spacy>=2.2.2->spacy-thai>=0.7.1->pythainlp[full]) (3.0.12)\n",
            "Requirement already satisfied: spacy-loggers<2.0.0,>=1.0.0 in /usr/local/lib/python3.10/dist-packages (from spacy>=2.2.2->spacy-thai>=0.7.1->pythainlp[full]) (1.0.4)\n",
            "Requirement already satisfied: murmurhash<1.1.0,>=0.28.0 in /usr/local/lib/python3.10/dist-packages (from spacy>=2.2.2->spacy-thai>=0.7.1->pythainlp[full]) (1.0.9)\n",
            "Requirement already satisfied: cymem<2.1.0,>=2.0.2 in /usr/local/lib/python3.10/dist-packages (from spacy>=2.2.2->spacy-thai>=0.7.1->pythainlp[full]) (2.0.7)\n",
            "Requirement already satisfied: preshed<3.1.0,>=3.0.2 in /usr/local/lib/python3.10/dist-packages (from spacy>=2.2.2->spacy-thai>=0.7.1->pythainlp[full]) (3.0.8)\n",
            "Requirement already satisfied: thinc<8.2.0,>=8.1.8 in /usr/local/lib/python3.10/dist-packages (from spacy>=2.2.2->spacy-thai>=0.7.1->pythainlp[full]) (8.1.9)\n",
            "Requirement already satisfied: wasabi<1.2.0,>=0.9.1 in /usr/local/lib/python3.10/dist-packages (from spacy>=2.2.2->spacy-thai>=0.7.1->pythainlp[full]) (1.1.1)\n",
            "Requirement already satisfied: srsly<3.0.0,>=2.4.3 in /usr/local/lib/python3.10/dist-packages (from spacy>=2.2.2->spacy-thai>=0.7.1->pythainlp[full]) (2.4.6)\n",
            "Requirement already satisfied: catalogue<2.1.0,>=2.0.6 in /usr/local/lib/python3.10/dist-packages (from spacy>=2.2.2->spacy-thai>=0.7.1->pythainlp[full]) (2.0.8)\n",
            "Requirement already satisfied: typer<0.8.0,>=0.3.0 in /usr/local/lib/python3.10/dist-packages (from spacy>=2.2.2->spacy-thai>=0.7.1->pythainlp[full]) (0.7.0)\n",
            "Requirement already satisfied: pathy>=0.10.0 in /usr/local/lib/python3.10/dist-packages (from spacy>=2.2.2->spacy-thai>=0.7.1->pythainlp[full]) (0.10.1)\n",
            "Requirement already satisfied: pydantic!=1.8,!=1.8.1,<1.11.0,>=1.7.4 in /usr/local/lib/python3.10/dist-packages (from spacy>=2.2.2->spacy-thai>=0.7.1->pythainlp[full]) (1.10.7)\n",
            "Requirement already satisfied: langcodes<4.0.0,>=3.2.0 in /usr/local/lib/python3.10/dist-packages (from spacy>=2.2.2->spacy-thai>=0.7.1->pythainlp[full]) (3.3.0)\n",
            "Requirement already satisfied: absl-py>=0.4 in /usr/local/lib/python3.10/dist-packages (from tensorboard>=1.14->thai-nner->pythainlp[full]) (1.4.0)\n",
            "Requirement already satisfied: grpcio>=1.48.2 in /usr/local/lib/python3.10/dist-packages (from tensorboard>=1.14->thai-nner->pythainlp[full]) (1.54.0)\n",
            "Requirement already satisfied: google-auth<3,>=1.6.3 in /usr/local/lib/python3.10/dist-packages (from tensorboard>=1.14->thai-nner->pythainlp[full]) (2.17.3)\n",
            "Requirement already satisfied: google-auth-oauthlib<1.1,>=0.5 in /usr/local/lib/python3.10/dist-packages (from tensorboard>=1.14->thai-nner->pythainlp[full]) (1.0.0)\n",
            "Requirement already satisfied: markdown>=2.6.8 in /usr/local/lib/python3.10/dist-packages (from tensorboard>=1.14->thai-nner->pythainlp[full]) (3.4.3)\n",
            "Requirement already satisfied: tensorboard-data-server<0.8.0,>=0.7.0 in /usr/local/lib/python3.10/dist-packages (from tensorboard>=1.14->thai-nner->pythainlp[full]) (0.7.0)\n",
            "Requirement already satisfied: tensorboard-plugin-wit>=1.6.0 in /usr/local/lib/python3.10/dist-packages (from tensorboard>=1.14->thai-nner->pythainlp[full]) (1.8.1)\n",
            "Requirement already satisfied: werkzeug>=1.0.1 in /usr/local/lib/python3.10/dist-packages (from tensorboard>=1.14->thai-nner->pythainlp[full]) (2.3.0)\n",
            "Requirement already satisfied: wheel>=0.26 in /usr/local/lib/python3.10/dist-packages (from tensorboard>=1.14->thai-nner->pythainlp[full]) (0.40.0)\n",
            "Requirement already satisfied: astunparse>=1.6.0 in /usr/local/lib/python3.10/dist-packages (from tensorflow>=2.0.0->oskut>=1.3->pythainlp[full]) (1.6.3)\n",
            "Requirement already satisfied: gast<=0.4.0,>=0.2.1 in /usr/local/lib/python3.10/dist-packages (from tensorflow>=2.0.0->oskut>=1.3->pythainlp[full]) (0.4.0)\n",
            "Requirement already satisfied: google-pasta>=0.1.1 in /usr/local/lib/python3.10/dist-packages (from tensorflow>=2.0.0->oskut>=1.3->pythainlp[full]) (0.2.0)\n",
            "Requirement already satisfied: h5py>=2.9.0 in /usr/local/lib/python3.10/dist-packages (from tensorflow>=2.0.0->oskut>=1.3->pythainlp[full]) (3.8.0)\n",
            "Requirement already satisfied: jax>=0.3.15 in /usr/local/lib/python3.10/dist-packages (from tensorflow>=2.0.0->oskut>=1.3->pythainlp[full]) (0.4.10)\n",
            "Requirement already satisfied: keras<2.13,>=2.12.0 in /usr/local/lib/python3.10/dist-packages (from tensorflow>=2.0.0->oskut>=1.3->pythainlp[full]) (2.12.0)\n",
            "Requirement already satisfied: libclang>=13.0.0 in /usr/local/lib/python3.10/dist-packages (from tensorflow>=2.0.0->oskut>=1.3->pythainlp[full]) (16.0.0)\n",
            "Requirement already satisfied: opt-einsum>=2.3.2 in /usr/local/lib/python3.10/dist-packages (from tensorflow>=2.0.0->oskut>=1.3->pythainlp[full]) (3.3.0)\n",
            "Requirement already satisfied: tensorflow-estimator<2.13,>=2.12.0 in /usr/local/lib/python3.10/dist-packages (from tensorflow>=2.0.0->oskut>=1.3->pythainlp[full]) (2.12.0)\n",
            "Requirement already satisfied: wrapt<1.15,>=1.11.0 in /usr/local/lib/python3.10/dist-packages (from tensorflow>=2.0.0->oskut>=1.3->pythainlp[full]) (1.14.1)\n",
            "Requirement already satisfied: tensorflow-io-gcs-filesystem>=0.23.1 in /usr/local/lib/python3.10/dist-packages (from tensorflow>=2.0.0->oskut>=1.3->pythainlp[full]) (0.32.0)\n",
            "Requirement already satisfied: soupsieve>1.2 in /usr/local/lib/python3.10/dist-packages (from beautifulsoup4->fastai<2.0->pythainlp[full]) (2.4.1)\n",
            "Requirement already satisfied: pycparser in /usr/local/lib/python3.10/dist-packages (from cffi->fairseq>=0.10.0->pythainlp[full]) (2.21)\n",
            "Collecting humanfriendly>=9.1 (from coloredlogs->onnxruntime>=1.10.0->pythainlp[full])\n",
            "  Downloading humanfriendly-10.0-py2.py3-none-any.whl (86 kB)\n",
            "\u001b[2K     \u001b[90m━━━━━━━━━━━━━━━━━━━━━━━━━━━━━━━━━━━━━━━━\u001b[0m \u001b[32m86.8/86.8 kB\u001b[0m \u001b[31m8.4 MB/s\u001b[0m eta \u001b[36m0:00:00\u001b[0m\n",
            "\u001b[?25hRequirement already satisfied: MarkupSafe>=2.0 in /usr/local/lib/python3.10/dist-packages (from jinja2->torch>=1.0.0->pythainlp[full]) (2.1.2)\n",
            "Requirement already satisfied: contourpy>=1.0.1 in /usr/local/lib/python3.10/dist-packages (from matplotlib->fastai<2.0->pythainlp[full]) (1.0.7)\n",
            "Requirement already satisfied: cycler>=0.10 in /usr/local/lib/python3.10/dist-packages (from matplotlib->fastai<2.0->pythainlp[full]) (0.11.0)\n",
            "Requirement already satisfied: fonttools>=4.22.0 in /usr/local/lib/python3.10/dist-packages (from matplotlib->fastai<2.0->pythainlp[full]) (4.39.3)\n",
            "Requirement already satisfied: kiwisolver>=1.0.1 in /usr/local/lib/python3.10/dist-packages (from matplotlib->fastai<2.0->pythainlp[full]) (1.4.4)\n",
            "Requirement already satisfied: pyparsing>=2.3.1 in /usr/local/lib/python3.10/dist-packages (from matplotlib->fastai<2.0->pythainlp[full]) (3.0.9)\n",
            "Requirement already satisfied: threadpoolctl>=2.0.0 in /usr/local/lib/python3.10/dist-packages (from scikit-learn->oskut>=1.3->pythainlp[full]) (3.1.0)\n",
            "Requirement already satisfied: mpmath>=0.19 in /usr/local/lib/python3.10/dist-packages (from sympy->onnxruntime>=1.10.0->pythainlp[full]) (1.3.0)\n",
            "Requirement already satisfied: cachetools<6.0,>=2.0.0 in /usr/local/lib/python3.10/dist-packages (from google-auth<3,>=1.6.3->tensorboard>=1.14->thai-nner->pythainlp[full]) (5.3.0)\n",
            "Requirement already satisfied: pyasn1-modules>=0.2.1 in /usr/local/lib/python3.10/dist-packages (from google-auth<3,>=1.6.3->tensorboard>=1.14->thai-nner->pythainlp[full]) (0.3.0)\n",
            "Requirement already satisfied: rsa<5,>=3.1.4 in /usr/local/lib/python3.10/dist-packages (from google-auth<3,>=1.6.3->tensorboard>=1.14->thai-nner->pythainlp[full]) (4.9)\n",
            "Requirement already satisfied: requests-oauthlib>=0.7.0 in /usr/local/lib/python3.10/dist-packages (from google-auth-oauthlib<1.1,>=0.5->tensorboard>=1.14->thai-nner->pythainlp[full]) (1.3.1)\n",
            "Requirement already satisfied: ml-dtypes>=0.1.0 in /usr/local/lib/python3.10/dist-packages (from jax>=0.3.15->tensorflow>=2.0.0->oskut>=1.3->pythainlp[full]) (0.1.0)\n",
            "Requirement already satisfied: blis<0.8.0,>=0.7.8 in /usr/local/lib/python3.10/dist-packages (from thinc<8.2.0,>=8.1.8->spacy>=2.2.2->spacy-thai>=0.7.1->pythainlp[full]) (0.7.9)\n",
            "Requirement already satisfied: confection<1.0.0,>=0.0.1 in /usr/local/lib/python3.10/dist-packages (from thinc<8.2.0,>=8.1.8->spacy>=2.2.2->spacy-thai>=0.7.1->pythainlp[full]) (0.0.4)\n",
            "Requirement already satisfied: pyasn1<0.6.0,>=0.4.6 in /usr/local/lib/python3.10/dist-packages (from pyasn1-modules>=0.2.1->google-auth<3,>=1.6.3->tensorboard>=1.14->thai-nner->pythainlp[full]) (0.5.0)\n",
            "Requirement already satisfied: oauthlib>=3.0.0 in /usr/local/lib/python3.10/dist-packages (from requests-oauthlib>=0.7.0->google-auth-oauthlib<1.1,>=0.5->tensorboard>=1.14->thai-nner->pythainlp[full]) (3.2.2)\n",
            "Building wheels for collected packages: emoji, fairseq, phunspell, pyicu, sacremoses, docopt, editdistpy, fire, antlr4-python3-runtime, pyahocorasick, nvidia-ml-py3, unicodecsv\n",
            "  Building wheel for emoji (setup.py) ... \u001b[?25l\u001b[?25hdone\n",
            "  Created wheel for emoji: filename=emoji-2.4.0-py2.py3-none-any.whl size=350809 sha256=424e40d9769139b3d69e84e9930042f1496aec230e3d99601cdf7532cd587436\n",
            "  Stored in directory: /root/.cache/pip/wheels/79/29/1c/234cae4632803c2ba4a76a71a679eb1383cf590775714e2a21\n",
            "  Building wheel for fairseq (pyproject.toml) ... \u001b[?25l\u001b[?25hdone\n",
            "  Created wheel for fairseq: filename=fairseq-0.12.2-cp310-cp310-linux_x86_64.whl size=11170789 sha256=074091d11f87607f13d4b0ee406c1391354a3e87d1f9e66031617840ec2e6526\n",
            "  Stored in directory: /root/.cache/pip/wheels/e4/35/55/9c66f65ec7c83fd6fbc2b9502a0ac81b2448a1196159dacc32\n",
            "  Building wheel for phunspell (pyproject.toml) ... \u001b[?25l\u001b[?25hdone\n",
            "  Created wheel for phunspell: filename=phunspell-0.1.6-py3-none-any.whl size=47556195 sha256=01483564265ce9f2ad56c5edddb7e6681790554c3f717f459efd02d3cd7a87cd\n",
            "  Stored in directory: /root/.cache/pip/wheels/fd/4b/8b/24576e5451edf7f3f6b15492ace089f4f4353e6289fb923a7d\n",
            "  Building wheel for pyicu (pyproject.toml) ... \u001b[?25l\u001b[?25hdone\n",
            "  Created wheel for pyicu: filename=PyICU-2.11-cp310-cp310-linux_x86_64.whl size=1856012 sha256=8d81773dc81fe1678d3ce714e703cfe336a51fe9b6dee534065bc17ed0cdaa54\n",
            "  Stored in directory: /root/.cache/pip/wheels/67/c3/00/2176cc05d3ea22935a9c78f1034b1a3e3697ef11ffb5cbe2f5\n",
            "  Building wheel for sacremoses (setup.py) ... \u001b[?25l\u001b[?25hdone\n",
            "  Created wheel for sacremoses: filename=sacremoses-0.0.53-py3-none-any.whl size=895241 sha256=f4da1a0047490da9c39761eb74ffce6cd60e128443b1812c8958be3c73115cde\n",
            "  Stored in directory: /root/.cache/pip/wheels/00/24/97/a2ea5324f36bc626e1ea0267f33db6aa80d157ee977e9e42fb\n",
            "  Building wheel for docopt (setup.py) ... \u001b[?25l\u001b[?25hdone\n",
            "  Created wheel for docopt: filename=docopt-0.6.2-py2.py3-none-any.whl size=13707 sha256=f8a1321810b987087549d6043c290e128b9c28ebe76ed4b2735a697366c896b0\n",
            "  Stored in directory: /root/.cache/pip/wheels/fc/ab/d4/5da2067ac95b36618c629a5f93f809425700506f72c9732fac\n",
            "  Building wheel for editdistpy (pyproject.toml) ... \u001b[?25l\u001b[?25hdone\n",
            "  Created wheel for editdistpy: filename=editdistpy-0.1.3-cp310-cp310-linux_x86_64.whl size=141753 sha256=aa38dad84c47b42411c232efc5e8e7aa4ee3f34ea1b836e186888bcebc87211a\n",
            "  Stored in directory: /root/.cache/pip/wheels/88/6a/a6/a1283cc145323a1fb3d475bd158ee60b248ab1985230d266fc\n",
            "  Building wheel for fire (setup.py) ... \u001b[?25l\u001b[?25hdone\n",
            "  Created wheel for fire: filename=fire-0.5.0-py2.py3-none-any.whl size=116932 sha256=bca99fde276e85ad9f9c1917edfe2f0a5582d80f8488cfaee2948a6409f007fe\n",
            "  Stored in directory: /root/.cache/pip/wheels/90/d4/f7/9404e5db0116bd4d43e5666eaa3e70ab53723e1e3ea40c9a95\n",
            "  Building wheel for antlr4-python3-runtime (setup.py) ... \u001b[?25l\u001b[?25hdone\n",
            "  Created wheel for antlr4-python3-runtime: filename=antlr4_python3_runtime-4.8-py3-none-any.whl size=141210 sha256=97144f044456f52544c2ea57148b8b639f957aad9f33340492da757b296699cb\n",
            "  Stored in directory: /root/.cache/pip/wheels/a7/20/bd/e1477d664f22d99989fd28ee1a43d6633dddb5cb9e801350d5\n",
            "  Building wheel for pyahocorasick (setup.py) ... \u001b[?25l\u001b[?25hdone\n",
            "  Created wheel for pyahocorasick: filename=pyahocorasick-1.4.0-cp310-cp310-linux_x86_64.whl size=94091 sha256=ca827af28568fd981b01d4a897dc3b81a9145a3efc9383fc3a7cae36e2a7bfc9\n",
            "  Stored in directory: /root/.cache/pip/wheels/d9/2c/59/a06c8cb22b93704fbb6c96a4bd68e71b43bb7a4bc2f0410d81\n",
            "  Building wheel for nvidia-ml-py3 (setup.py) ... \u001b[?25l\u001b[?25hdone\n",
            "  Created wheel for nvidia-ml-py3: filename=nvidia_ml_py3-7.352.0-py3-none-any.whl size=19171 sha256=56c3c0e7e86d965135c389653506d894c2a2d6ab53859426f1cc0ed9be3f012f\n",
            "  Stored in directory: /root/.cache/pip/wheels/5c/d8/c0/46899f8be7a75a2ffd197a23c8797700ea858b9b34819fbf9e\n",
            "  Building wheel for unicodecsv (setup.py) ... \u001b[?25l\u001b[?25hdone\n",
            "  Created wheel for unicodecsv: filename=unicodecsv-0.14.1-py3-none-any.whl size=10745 sha256=2496e81c8134b97d7de6dd08e73b4c7d3f86a3251e19db214f27865a3bdb7530\n",
            "  Stored in directory: /root/.cache/pip/wheels/9c/ea/66/8e45247b09052a933eb1a680b7c64802298faba58aac9b346b\n",
            "Successfully built emoji fairseq phunspell pyicu sacremoses docopt editdistpy fire antlr4-python3-runtime pyahocorasick nvidia-ml-py3 unicodecsv\n",
            "Installing collected packages: unicodecsv, ufal.udpipe, ufal.chu-liu-edmonds, tokenizers, sentencepiece, python-crfsuite, pyicu, pyahocorasick, nvidia-ml-py3, munkres, docopt, bitarray, antlr4-python3-runtime, spylls, sacremoses, portalocker, panphon, omegaconf, nptyping, nlpo3, marisa-trie, khanaa, humanfriendly, fire, emoji, editdistpy, deplacy, colorama, bottleneck, wunsen, symspellpy, ssg, sacrebleu, pythainlp, phunspell, hydra-core, huggingface-hub, epitran, coloredlogs, transformers, onnxruntime, bpemb, spacy-thai, sefr-cut, oskut, thai-nner, fastai, fairseq, attacut\n",
            "  Attempting uninstall: fastai\n",
            "    Found existing installation: fastai 2.7.12\n",
            "    Uninstalling fastai-2.7.12:\n",
            "      Successfully uninstalled fastai-2.7.12\n",
            "Successfully installed antlr4-python3-runtime-4.8 attacut-1.0.6 bitarray-2.7.4 bottleneck-1.3.7 bpemb-0.3.4 colorama-0.4.6 coloredlogs-15.0.1 deplacy-2.0.5 docopt-0.6.2 editdistpy-0.1.3 emoji-2.4.0 epitran-1.24 fairseq-0.12.2 fastai-1.0.61 fire-0.5.0 huggingface-hub-0.15.1 humanfriendly-10.0 hydra-core-1.0.7 khanaa-0.0.6 marisa-trie-0.8.0 munkres-1.1.4 nlpo3-1.3.0 nptyping-2.5.0 nvidia-ml-py3-7.352.0 omegaconf-2.0.6 onnxruntime-1.15.0 oskut-1.3 panphon-0.20.0 phunspell-0.1.6 portalocker-2.7.0 pyahocorasick-1.4.0 pyicu-2.11 pythainlp-4.0.2 python-crfsuite-0.9.9 sacrebleu-2.3.1 sacremoses-0.0.53 sefr-cut-1.1 sentencepiece-0.1.99 spacy-thai-0.7.3 spylls-0.1.7 ssg-0.0.8 symspellpy-6.7.7 thai-nner-0.3 tokenizers-0.13.3 transformers-4.29.2 ufal.chu-liu-edmonds-1.0.2 ufal.udpipe-1.3.0.1 unicodecsv-0.14.1 wunsen-0.0.3\n"
          ]
        }
      ],
      "source": [
        "!pip install pythainlp[full]"
      ]
    },
    {
      "cell_type": "code",
      "execution_count": null,
      "metadata": {
        "id": "tkDguMbsV0CC"
      },
      "outputs": [],
      "source": [
        "text = [\n",
        "    'ที่พักสวย วิวดีมาก',\n",
        "    'วิวสวย ที่พักดีมาก',\n",
        "    'ที่พักวิวสวย บรรยากาศดีได้ใจ',\n",
        "    'ที่พักสวย แถมวิวสุดปัง'\n",
        "]"
      ]
    },
    {
      "cell_type": "code",
      "execution_count": null,
      "metadata": {
        "id": "xUV5qA2MWUEi"
      },
      "outputs": [],
      "source": [
        "from pythainlp.tokenize import word_tokenize"
      ]
    },
    {
      "cell_type": "code",
      "execution_count": null,
      "metadata": {
        "colab": {
          "base_uri": "https://localhost:8080/"
        },
        "id": "sMkl2d_TWgUS",
        "outputId": "de9e165e-e6f1-4557-b810-f03a81b0b988"
      },
      "outputs": [
        {
          "name": "stdout",
          "output_type": "stream",
          "text": [
            "['ที่พัก', 'สวย', ' ', 'วิว', 'ดีมาก']\n",
            "['วิว', 'สวย', ' ', 'ที่พัก', 'ดีมาก']\n",
            "['ที่พัก', 'วิว', 'สวย', ' ', 'บรรยากาศ', 'ดี', 'ได้ใจ']\n",
            "['ที่พัก', 'สวย', ' ', 'แถม', 'วิว', 'สุด', 'ปัง']\n"
          ]
        }
      ],
      "source": [
        "## tokenization\n",
        "text_tokens = [word_tokenize(text=sent, engine=\"newmm\") for sent in text]\n",
        "for tk in text_tokens:\n",
        "  print(tk)"
      ]
    },
    {
      "cell_type": "code",
      "execution_count": null,
      "metadata": {
        "colab": {
          "base_uri": "https://localhost:8080/"
        },
        "id": "7iCW9SbRWwuV",
        "outputId": "30c72d8b-8c5a-489a-fdcc-8ef0f6714e3a"
      },
      "outputs": [
        {
          "name": "stdout",
          "output_type": "stream",
          "text": [
            "{'แถม', 'บรรยากาศ', 'ปัง', 'ได้ใจ', 'สวย', 'ที่พัก', 'ดี', 'ดีมาก', 'สุด', 'วิว', ' '}\n"
          ]
        }
      ],
      "source": [
        "## list unique word\n",
        "unique_word = set([w for sent in text_tokens for w in sent])\n",
        "print(unique_word)"
      ]
    },
    {
      "cell_type": "code",
      "execution_count": null,
      "metadata": {
        "colab": {
          "base_uri": "https://localhost:8080/"
        },
        "id": "zOeB-6dzXZTP",
        "outputId": "6c735d5e-b9ee-4eae-e515-c8dcd2671c27"
      },
      "outputs": [
        {
          "name": "stdout",
          "output_type": "stream",
          "text": [
            "{'แถม': 0, 'บรรยากาศ': 1, 'ปัง': 2, 'ได้ใจ': 3, 'สวย': 4, 'ที่พัก': 5, 'ดี': 6, 'ดีมาก': 7, 'สุด': 8, 'วิว': 9, ' ': 10}\n"
          ]
        }
      ],
      "source": [
        "# map id with dictionary\n",
        "total_word = len(unique_word)\n",
        "w2ids = {w:ids for w, ids in zip(unique_word, range(total_word))}\n",
        "print(w2ids)"
      ]
    },
    {
      "cell_type": "code",
      "execution_count": null,
      "metadata": {
        "id": "xCz1cR-pXsCZ"
      },
      "outputs": [],
      "source": [
        "# create one hot encoding function\n",
        "import numpy as np\n",
        "def one_hot_encode(x, n_classes):\n",
        "  return np.eye(n_classes)[x]"
      ]
    },
    {
      "cell_type": "code",
      "execution_count": null,
      "metadata": {
        "colab": {
          "base_uri": "https://localhost:8080/"
        },
        "id": "3mi9byMGlEMy",
        "outputId": "cc149806-f67d-49ce-a19e-9c260cf4d2c9"
      },
      "outputs": [
        {
          "name": "stdout",
          "output_type": "stream",
          "text": [
            "แถม        \t [1. 0. 0. 0. 0. 0. 0. 0. 0. 0. 0.]\n",
            "บรรยากาศ   \t [0. 1. 0. 0. 0. 0. 0. 0. 0. 0. 0.]\n",
            "ปัง        \t [0. 0. 1. 0. 0. 0. 0. 0. 0. 0. 0.]\n",
            "ได้ใจ      \t [0. 0. 0. 1. 0. 0. 0. 0. 0. 0. 0.]\n",
            "สวย        \t [0. 0. 0. 0. 1. 0. 0. 0. 0. 0. 0.]\n",
            "ที่พัก     \t [0. 0. 0. 0. 0. 1. 0. 0. 0. 0. 0.]\n",
            "ดี         \t [0. 0. 0. 0. 0. 0. 1. 0. 0. 0. 0.]\n",
            "ดีมาก      \t [0. 0. 0. 0. 0. 0. 0. 1. 0. 0. 0.]\n",
            "สุด        \t [0. 0. 0. 0. 0. 0. 0. 0. 1. 0. 0.]\n",
            "วิว        \t [0. 0. 0. 0. 0. 0. 0. 0. 0. 1. 0.]\n",
            "           \t [0. 0. 0. 0. 0. 0. 0. 0. 0. 0. 1.]\n"
          ]
        }
      ],
      "source": [
        "# generate one hot encoding with function\n",
        "for w, idx in w2ids.items():\n",
        "  print(f\"{w:<10}\",'\\t', one_hot_encode(idx, total_word))"
      ]
    },
    {
      "cell_type": "code",
      "execution_count": null,
      "metadata": {
        "colab": {
          "base_uri": "https://localhost:8080/"
        },
        "id": "Dyc-bacAlVJP",
        "outputId": "7d72667f-ed7b-4d4b-d485-6ba14dc73826"
      },
      "outputs": [
        {
          "name": "stdout",
          "output_type": "stream",
          "text": [
            "word \tid   \tencoding                                                                                            \n",
            "ที่พัก\t5    \t[0. 0. 0. 0. 0. 1. 0. 0. 0. 0. 0.]                                                                  \n",
            "สวย  \t4    \t[0. 0. 0. 0. 1. 0. 0. 0. 0. 0. 0.]                                                                  \n",
            "     \t10   \t[0. 0. 0. 0. 0. 0. 0. 0. 0. 0. 1.]                                                                  \n",
            "วิว  \t9    \t[0. 0. 0. 0. 0. 0. 0. 0. 0. 1. 0.]                                                                  \n",
            "ดีมาก\t7    \t[0. 0. 0. 0. 0. 0. 0. 1. 0. 0. 0.]                                                                  \n",
            "ที่พักสวย วิวดีมาก : [0. 0. 0. 0. 1. 1. 0. 1. 0. 1. 1.]\n"
          ]
        }
      ],
      "source": [
        "# generate sentence with one hot encoding in only row 0\n",
        "all_encoding = []\n",
        "## map id with dictionary\n",
        "tokens_ids = [w2ids[tk] for tk in text_tokens[0]]\n",
        "## create one hot encoding function\n",
        "tokens_encode = [one_hot_encode(id, total_word) for id in tokens_ids]\n",
        "print(f\"{'word':<5}\\t{'id':<5}\\t{'encoding':100}\")\n",
        "for tk, id, en in zip(text_tokens[0], tokens_ids, tokens_encode):\n",
        "  print(f\"{tk:<5}\\t{id:<5}\\t{str(en):<100}\")\n",
        "print(text[0],':',sum(tokens_encode))"
      ]
    },
    {
      "cell_type": "markdown",
      "metadata": {
        "id": "RRDDG-wKoMxX"
      },
      "source": [
        "# One-Hot Encoding (Pandas)"
      ]
    },
    {
      "cell_type": "code",
      "execution_count": null,
      "metadata": {
        "colab": {
          "base_uri": "https://localhost:8080/"
        },
        "id": "_hv-yvGTpGCD",
        "outputId": "8de12dec-9449-40d7-a278-8bab29101c0d"
      },
      "outputs": [
        {
          "name": "stdout",
          "output_type": "stream",
          "text": [
            "Looking in indexes: https://pypi.org/simple, https://us-python.pkg.dev/colab-wheels/public/simple/\n",
            "Requirement already satisfied: pythainlp[full] in /usr/local/lib/python3.10/dist-packages (4.0.2)\n",
            "Requirement already satisfied: requests>=2.22.0 in /usr/local/lib/python3.10/dist-packages (from pythainlp[full]) (2.27.1)\n",
            "Requirement already satisfied: PyYAML>=5.3.1 in /usr/local/lib/python3.10/dist-packages (from pythainlp[full]) (6.0)\n",
            "Requirement already satisfied: attacut>=1.0.4 in /usr/local/lib/python3.10/dist-packages (from pythainlp[full]) (1.0.6)\n",
            "Requirement already satisfied: emoji>=0.5.1 in /usr/local/lib/python3.10/dist-packages (from pythainlp[full]) (2.4.0)\n",
            "Requirement already satisfied: epitran>=1.1 in /usr/local/lib/python3.10/dist-packages (from pythainlp[full]) (1.24)\n",
            "Requirement already satisfied: fairseq>=0.10.0 in /usr/local/lib/python3.10/dist-packages (from pythainlp[full]) (0.12.2)\n",
            "Requirement already satisfied: gensim>=4.0.0 in /usr/local/lib/python3.10/dist-packages (from pythainlp[full]) (4.3.1)\n",
            "Requirement already satisfied: nltk>=3.3 in /usr/local/lib/python3.10/dist-packages (from pythainlp[full]) (3.8.1)\n",
            "Requirement already satisfied: numpy>=1.22 in /usr/local/lib/python3.10/dist-packages (from pythainlp[full]) (1.22.4)\n",
            "Requirement already satisfied: pandas>=0.24 in /usr/local/lib/python3.10/dist-packages (from pythainlp[full]) (1.5.3)\n",
            "Requirement already satisfied: pyicu>=2.3 in /usr/local/lib/python3.10/dist-packages (from pythainlp[full]) (2.11)\n",
            "Requirement already satisfied: sacremoses>=0.0.41 in /usr/local/lib/python3.10/dist-packages (from pythainlp[full]) (0.0.53)\n",
            "Requirement already satisfied: sentencepiece>=0.1.91 in /usr/local/lib/python3.10/dist-packages (from pythainlp[full]) (0.1.99)\n",
            "Requirement already satisfied: ssg>=0.0.8 in /usr/local/lib/python3.10/dist-packages (from pythainlp[full]) (0.0.8)\n",
            "Requirement already satisfied: torch>=1.0.0 in /usr/local/lib/python3.10/dist-packages (from pythainlp[full]) (2.0.1+cu118)\n",
            "Requirement already satisfied: fastai<2.0 in /usr/local/lib/python3.10/dist-packages (from pythainlp[full]) (1.0.61)\n",
            "Requirement already satisfied: bpemb>=0.3.2 in /usr/local/lib/python3.10/dist-packages (from pythainlp[full]) (0.3.4)\n",
            "Requirement already satisfied: transformers>=4.22.1 in /usr/local/lib/python3.10/dist-packages (from pythainlp[full]) (4.29.2)\n",
            "Requirement already satisfied: sefr-cut>=1.1 in /usr/local/lib/python3.10/dist-packages (from pythainlp[full]) (1.1)\n",
            "Requirement already satisfied: phunspell>=0.1.6 in /usr/local/lib/python3.10/dist-packages (from pythainlp[full]) (0.1.6)\n",
            "Requirement already satisfied: spylls>=0.1.5 in /usr/local/lib/python3.10/dist-packages (from pythainlp[full]) (0.1.7)\n",
            "Requirement already satisfied: symspellpy>=6.7.6 in /usr/local/lib/python3.10/dist-packages (from pythainlp[full]) (6.7.7)\n",
            "Requirement already satisfied: oskut>=1.3 in /usr/local/lib/python3.10/dist-packages (from pythainlp[full]) (1.3)\n",
            "Requirement already satisfied: nlpo3>=1.2.2 in /usr/local/lib/python3.10/dist-packages (from pythainlp[full]) (1.3.0)\n",
            "Requirement already satisfied: onnxruntime>=1.10.0 in /usr/local/lib/python3.10/dist-packages (from pythainlp[full]) (1.15.0)\n",
            "Requirement already satisfied: thai-nner in /usr/local/lib/python3.10/dist-packages (from pythainlp[full]) (0.3)\n",
            "Requirement already satisfied: wunsen>=0.0.3 in /usr/local/lib/python3.10/dist-packages (from pythainlp[full]) (0.0.3)\n",
            "Requirement already satisfied: spacy-thai>=0.7.1 in /usr/local/lib/python3.10/dist-packages (from pythainlp[full]) (0.7.3)\n",
            "Requirement already satisfied: ufal.chu-liu-edmonds>=1.0.2 in /usr/local/lib/python3.10/dist-packages (from pythainlp[full]) (1.0.2)\n",
            "Requirement already satisfied: docopt>=0.6.2 in /usr/local/lib/python3.10/dist-packages (from attacut>=1.0.4->pythainlp[full]) (0.6.2)\n",
            "Requirement already satisfied: fire>=0.1.3 in /usr/local/lib/python3.10/dist-packages (from attacut>=1.0.4->pythainlp[full]) (0.5.0)\n",
            "Requirement already satisfied: nptyping>=0.2.0 in /usr/local/lib/python3.10/dist-packages (from attacut>=1.0.4->pythainlp[full]) (2.5.0)\n",
            "Requirement already satisfied: six>=1.12.0 in /usr/local/lib/python3.10/dist-packages (from attacut>=1.0.4->pythainlp[full]) (1.16.0)\n",
            "Requirement already satisfied: tqdm in /usr/local/lib/python3.10/dist-packages (from bpemb>=0.3.2->pythainlp[full]) (4.65.0)\n",
            "Requirement already satisfied: setuptools in /usr/local/lib/python3.10/dist-packages (from epitran>=1.1->pythainlp[full]) (67.7.2)\n",
            "Requirement already satisfied: regex in /usr/local/lib/python3.10/dist-packages (from epitran>=1.1->pythainlp[full]) (2022.10.31)\n",
            "Requirement already satisfied: panphon>=0.20 in /usr/local/lib/python3.10/dist-packages (from epitran>=1.1->pythainlp[full]) (0.20.0)\n",
            "Requirement already satisfied: marisa-trie in /usr/local/lib/python3.10/dist-packages (from epitran>=1.1->pythainlp[full]) (0.8.0)\n",
            "Requirement already satisfied: cffi in /usr/local/lib/python3.10/dist-packages (from fairseq>=0.10.0->pythainlp[full]) (1.15.1)\n",
            "Requirement already satisfied: cython in /usr/local/lib/python3.10/dist-packages (from fairseq>=0.10.0->pythainlp[full]) (0.29.34)\n",
            "Requirement already satisfied: hydra-core<1.1,>=1.0.7 in /usr/local/lib/python3.10/dist-packages (from fairseq>=0.10.0->pythainlp[full]) (1.0.7)\n",
            "Requirement already satisfied: omegaconf<2.1 in /usr/local/lib/python3.10/dist-packages (from fairseq>=0.10.0->pythainlp[full]) (2.0.6)\n",
            "Requirement already satisfied: sacrebleu>=1.4.12 in /usr/local/lib/python3.10/dist-packages (from fairseq>=0.10.0->pythainlp[full]) (2.3.1)\n",
            "Requirement already satisfied: bitarray in /usr/local/lib/python3.10/dist-packages (from fairseq>=0.10.0->pythainlp[full]) (2.7.4)\n",
            "Requirement already satisfied: torchaudio>=0.8.0 in /usr/local/lib/python3.10/dist-packages (from fairseq>=0.10.0->pythainlp[full]) (2.0.2+cu118)\n",
            "Requirement already satisfied: bottleneck in /usr/local/lib/python3.10/dist-packages (from fastai<2.0->pythainlp[full]) (1.3.7)\n",
            "Requirement already satisfied: fastprogress>=0.2.1 in /usr/local/lib/python3.10/dist-packages (from fastai<2.0->pythainlp[full]) (1.0.3)\n",
            "Requirement already satisfied: beautifulsoup4 in /usr/local/lib/python3.10/dist-packages (from fastai<2.0->pythainlp[full]) (4.11.2)\n",
            "Requirement already satisfied: matplotlib in /usr/local/lib/python3.10/dist-packages (from fastai<2.0->pythainlp[full]) (3.7.1)\n",
            "Requirement already satisfied: numexpr in /usr/local/lib/python3.10/dist-packages (from fastai<2.0->pythainlp[full]) (2.8.4)\n",
            "Requirement already satisfied: nvidia-ml-py3 in /usr/local/lib/python3.10/dist-packages (from fastai<2.0->pythainlp[full]) (7.352.0)\n",
            "Requirement already satisfied: packaging in /usr/local/lib/python3.10/dist-packages (from fastai<2.0->pythainlp[full]) (23.1)\n",
            "Requirement already satisfied: Pillow in /usr/local/lib/python3.10/dist-packages (from fastai<2.0->pythainlp[full]) (8.4.0)\n",
            "Requirement already satisfied: scipy in /usr/local/lib/python3.10/dist-packages (from fastai<2.0->pythainlp[full]) (1.10.1)\n",
            "Requirement already satisfied: torchvision in /usr/local/lib/python3.10/dist-packages (from fastai<2.0->pythainlp[full]) (0.15.2+cu118)\n",
            "Requirement already satisfied: smart-open>=1.8.1 in /usr/local/lib/python3.10/dist-packages (from gensim>=4.0.0->pythainlp[full]) (6.3.0)\n",
            "Requirement already satisfied: click in /usr/local/lib/python3.10/dist-packages (from nltk>=3.3->pythainlp[full]) (8.1.3)\n",
            "Requirement already satisfied: joblib in /usr/local/lib/python3.10/dist-packages (from nltk>=3.3->pythainlp[full]) (1.2.0)\n",
            "Requirement already satisfied: coloredlogs in /usr/local/lib/python3.10/dist-packages (from onnxruntime>=1.10.0->pythainlp[full]) (15.0.1)\n",
            "Requirement already satisfied: flatbuffers in /usr/local/lib/python3.10/dist-packages (from onnxruntime>=1.10.0->pythainlp[full]) (23.3.3)\n",
            "Requirement already satisfied: protobuf in /usr/local/lib/python3.10/dist-packages (from onnxruntime>=1.10.0->pythainlp[full]) (3.20.3)\n",
            "Requirement already satisfied: sympy in /usr/local/lib/python3.10/dist-packages (from onnxruntime>=1.10.0->pythainlp[full]) (1.11.1)\n",
            "Requirement already satisfied: tensorflow>=2.0.0 in /usr/local/lib/python3.10/dist-packages (from oskut>=1.3->pythainlp[full]) (2.12.0)\n",
            "Requirement already satisfied: scikit-learn in /usr/local/lib/python3.10/dist-packages (from oskut>=1.3->pythainlp[full]) (1.2.2)\n",
            "Requirement already satisfied: pyahocorasick<=1.4.0 in /usr/local/lib/python3.10/dist-packages (from oskut>=1.3->pythainlp[full]) (1.4.0)\n",
            "Requirement already satisfied: python-dateutil>=2.8.1 in /usr/local/lib/python3.10/dist-packages (from pandas>=0.24->pythainlp[full]) (2.8.2)\n",
            "Requirement already satisfied: pytz>=2020.1 in /usr/local/lib/python3.10/dist-packages (from pandas>=0.24->pythainlp[full]) (2022.7.1)\n",
            "Requirement already satisfied: urllib3<1.27,>=1.21.1 in /usr/local/lib/python3.10/dist-packages (from requests>=2.22.0->pythainlp[full]) (1.26.15)\n",
            "Requirement already satisfied: certifi>=2017.4.17 in /usr/local/lib/python3.10/dist-packages (from requests>=2.22.0->pythainlp[full]) (2022.12.7)\n",
            "Requirement already satisfied: charset-normalizer~=2.0.0 in /usr/local/lib/python3.10/dist-packages (from requests>=2.22.0->pythainlp[full]) (2.0.12)\n",
            "Requirement already satisfied: idna<4,>=2.5 in /usr/local/lib/python3.10/dist-packages (from requests>=2.22.0->pythainlp[full]) (3.4)\n",
            "Requirement already satisfied: python-crfsuite in /usr/local/lib/python3.10/dist-packages (from sefr-cut>=1.1->pythainlp[full]) (0.9.9)\n",
            "Requirement already satisfied: deplacy>=2.0.3 in /usr/local/lib/python3.10/dist-packages (from spacy-thai>=0.7.1->pythainlp[full]) (2.0.5)\n",
            "Requirement already satisfied: spacy>=2.2.2 in /usr/local/lib/python3.10/dist-packages (from spacy-thai>=0.7.1->pythainlp[full]) (3.5.2)\n",
            "Requirement already satisfied: ufal.udpipe>=1.2.0 in /usr/local/lib/python3.10/dist-packages (from spacy-thai>=0.7.1->pythainlp[full]) (1.3.0.1)\n",
            "Requirement already satisfied: editdistpy>=0.1.3 in /usr/local/lib/python3.10/dist-packages (from symspellpy>=6.7.6->pythainlp[full]) (0.1.3)\n",
            "Requirement already satisfied: filelock in /usr/local/lib/python3.10/dist-packages (from torch>=1.0.0->pythainlp[full]) (3.12.0)\n",
            "Requirement already satisfied: typing-extensions in /usr/local/lib/python3.10/dist-packages (from torch>=1.0.0->pythainlp[full]) (4.5.0)\n",
            "Requirement already satisfied: networkx in /usr/local/lib/python3.10/dist-packages (from torch>=1.0.0->pythainlp[full]) (3.1)\n",
            "Requirement already satisfied: jinja2 in /usr/local/lib/python3.10/dist-packages (from torch>=1.0.0->pythainlp[full]) (3.1.2)\n",
            "Requirement already satisfied: triton==2.0.0 in /usr/local/lib/python3.10/dist-packages (from torch>=1.0.0->pythainlp[full]) (2.0.0)\n",
            "Requirement already satisfied: cmake in /usr/local/lib/python3.10/dist-packages (from triton==2.0.0->torch>=1.0.0->pythainlp[full]) (3.25.2)\n",
            "Requirement already satisfied: lit in /usr/local/lib/python3.10/dist-packages (from triton==2.0.0->torch>=1.0.0->pythainlp[full]) (16.0.5)\n",
            "Requirement already satisfied: huggingface-hub<1.0,>=0.14.1 in /usr/local/lib/python3.10/dist-packages (from transformers>=4.22.1->pythainlp[full]) (0.15.1)\n",
            "Requirement already satisfied: tokenizers!=0.11.3,<0.14,>=0.11.1 in /usr/local/lib/python3.10/dist-packages (from transformers>=4.22.1->pythainlp[full]) (0.13.3)\n",
            "Requirement already satisfied: khanaa>=0.0.6 in /usr/local/lib/python3.10/dist-packages (from wunsen>=0.0.3->pythainlp[full]) (0.0.6)\n",
            "Requirement already satisfied: tensorboard>=1.14 in /usr/local/lib/python3.10/dist-packages (from thai-nner->pythainlp[full]) (2.12.2)\n",
            "Requirement already satisfied: termcolor in /usr/local/lib/python3.10/dist-packages (from fire>=0.1.3->attacut>=1.0.4->pythainlp[full]) (2.3.0)\n",
            "Requirement already satisfied: fsspec in /usr/local/lib/python3.10/dist-packages (from huggingface-hub<1.0,>=0.14.1->transformers>=4.22.1->pythainlp[full]) (2023.4.0)\n",
            "Requirement already satisfied: antlr4-python3-runtime==4.8 in /usr/local/lib/python3.10/dist-packages (from hydra-core<1.1,>=1.0.7->fairseq>=0.10.0->pythainlp[full]) (4.8)\n",
            "Requirement already satisfied: unicodecsv in /usr/local/lib/python3.10/dist-packages (from panphon>=0.20->epitran>=1.1->pythainlp[full]) (0.14.1)\n",
            "Requirement already satisfied: editdistance in /usr/local/lib/python3.10/dist-packages (from panphon>=0.20->epitran>=1.1->pythainlp[full]) (0.6.2)\n",
            "Requirement already satisfied: munkres in /usr/local/lib/python3.10/dist-packages (from panphon>=0.20->epitran>=1.1->pythainlp[full]) (1.1.4)\n",
            "Requirement already satisfied: portalocker in /usr/local/lib/python3.10/dist-packages (from sacrebleu>=1.4.12->fairseq>=0.10.0->pythainlp[full]) (2.7.0)\n",
            "Requirement already satisfied: tabulate>=0.8.9 in /usr/local/lib/python3.10/dist-packages (from sacrebleu>=1.4.12->fairseq>=0.10.0->pythainlp[full]) (0.8.10)\n",
            "Requirement already satisfied: colorama in /usr/local/lib/python3.10/dist-packages (from sacrebleu>=1.4.12->fairseq>=0.10.0->pythainlp[full]) (0.4.6)\n",
            "Requirement already satisfied: lxml in /usr/local/lib/python3.10/dist-packages (from sacrebleu>=1.4.12->fairseq>=0.10.0->pythainlp[full]) (4.9.2)\n",
            "Requirement already satisfied: spacy-legacy<3.1.0,>=3.0.11 in /usr/local/lib/python3.10/dist-packages (from spacy>=2.2.2->spacy-thai>=0.7.1->pythainlp[full]) (3.0.12)\n",
            "Requirement already satisfied: spacy-loggers<2.0.0,>=1.0.0 in /usr/local/lib/python3.10/dist-packages (from spacy>=2.2.2->spacy-thai>=0.7.1->pythainlp[full]) (1.0.4)\n",
            "Requirement already satisfied: murmurhash<1.1.0,>=0.28.0 in /usr/local/lib/python3.10/dist-packages (from spacy>=2.2.2->spacy-thai>=0.7.1->pythainlp[full]) (1.0.9)\n",
            "Requirement already satisfied: cymem<2.1.0,>=2.0.2 in /usr/local/lib/python3.10/dist-packages (from spacy>=2.2.2->spacy-thai>=0.7.1->pythainlp[full]) (2.0.7)\n",
            "Requirement already satisfied: preshed<3.1.0,>=3.0.2 in /usr/local/lib/python3.10/dist-packages (from spacy>=2.2.2->spacy-thai>=0.7.1->pythainlp[full]) (3.0.8)\n",
            "Requirement already satisfied: thinc<8.2.0,>=8.1.8 in /usr/local/lib/python3.10/dist-packages (from spacy>=2.2.2->spacy-thai>=0.7.1->pythainlp[full]) (8.1.9)\n",
            "Requirement already satisfied: wasabi<1.2.0,>=0.9.1 in /usr/local/lib/python3.10/dist-packages (from spacy>=2.2.2->spacy-thai>=0.7.1->pythainlp[full]) (1.1.1)\n",
            "Requirement already satisfied: srsly<3.0.0,>=2.4.3 in /usr/local/lib/python3.10/dist-packages (from spacy>=2.2.2->spacy-thai>=0.7.1->pythainlp[full]) (2.4.6)\n",
            "Requirement already satisfied: catalogue<2.1.0,>=2.0.6 in /usr/local/lib/python3.10/dist-packages (from spacy>=2.2.2->spacy-thai>=0.7.1->pythainlp[full]) (2.0.8)\n",
            "Requirement already satisfied: typer<0.8.0,>=0.3.0 in /usr/local/lib/python3.10/dist-packages (from spacy>=2.2.2->spacy-thai>=0.7.1->pythainlp[full]) (0.7.0)\n",
            "Requirement already satisfied: pathy>=0.10.0 in /usr/local/lib/python3.10/dist-packages (from spacy>=2.2.2->spacy-thai>=0.7.1->pythainlp[full]) (0.10.1)\n",
            "Requirement already satisfied: pydantic!=1.8,!=1.8.1,<1.11.0,>=1.7.4 in /usr/local/lib/python3.10/dist-packages (from spacy>=2.2.2->spacy-thai>=0.7.1->pythainlp[full]) (1.10.7)\n",
            "Requirement already satisfied: langcodes<4.0.0,>=3.2.0 in /usr/local/lib/python3.10/dist-packages (from spacy>=2.2.2->spacy-thai>=0.7.1->pythainlp[full]) (3.3.0)\n",
            "Requirement already satisfied: absl-py>=0.4 in /usr/local/lib/python3.10/dist-packages (from tensorboard>=1.14->thai-nner->pythainlp[full]) (1.4.0)\n",
            "Requirement already satisfied: grpcio>=1.48.2 in /usr/local/lib/python3.10/dist-packages (from tensorboard>=1.14->thai-nner->pythainlp[full]) (1.54.0)\n",
            "Requirement already satisfied: google-auth<3,>=1.6.3 in /usr/local/lib/python3.10/dist-packages (from tensorboard>=1.14->thai-nner->pythainlp[full]) (2.17.3)\n",
            "Requirement already satisfied: google-auth-oauthlib<1.1,>=0.5 in /usr/local/lib/python3.10/dist-packages (from tensorboard>=1.14->thai-nner->pythainlp[full]) (1.0.0)\n",
            "Requirement already satisfied: markdown>=2.6.8 in /usr/local/lib/python3.10/dist-packages (from tensorboard>=1.14->thai-nner->pythainlp[full]) (3.4.3)\n",
            "Requirement already satisfied: tensorboard-data-server<0.8.0,>=0.7.0 in /usr/local/lib/python3.10/dist-packages (from tensorboard>=1.14->thai-nner->pythainlp[full]) (0.7.0)\n",
            "Requirement already satisfied: tensorboard-plugin-wit>=1.6.0 in /usr/local/lib/python3.10/dist-packages (from tensorboard>=1.14->thai-nner->pythainlp[full]) (1.8.1)\n",
            "Requirement already satisfied: werkzeug>=1.0.1 in /usr/local/lib/python3.10/dist-packages (from tensorboard>=1.14->thai-nner->pythainlp[full]) (2.3.0)\n",
            "Requirement already satisfied: wheel>=0.26 in /usr/local/lib/python3.10/dist-packages (from tensorboard>=1.14->thai-nner->pythainlp[full]) (0.40.0)\n",
            "Requirement already satisfied: astunparse>=1.6.0 in /usr/local/lib/python3.10/dist-packages (from tensorflow>=2.0.0->oskut>=1.3->pythainlp[full]) (1.6.3)\n",
            "Requirement already satisfied: gast<=0.4.0,>=0.2.1 in /usr/local/lib/python3.10/dist-packages (from tensorflow>=2.0.0->oskut>=1.3->pythainlp[full]) (0.4.0)\n",
            "Requirement already satisfied: google-pasta>=0.1.1 in /usr/local/lib/python3.10/dist-packages (from tensorflow>=2.0.0->oskut>=1.3->pythainlp[full]) (0.2.0)\n",
            "Requirement already satisfied: h5py>=2.9.0 in /usr/local/lib/python3.10/dist-packages (from tensorflow>=2.0.0->oskut>=1.3->pythainlp[full]) (3.8.0)\n",
            "Requirement already satisfied: jax>=0.3.15 in /usr/local/lib/python3.10/dist-packages (from tensorflow>=2.0.0->oskut>=1.3->pythainlp[full]) (0.4.10)\n",
            "Requirement already satisfied: keras<2.13,>=2.12.0 in /usr/local/lib/python3.10/dist-packages (from tensorflow>=2.0.0->oskut>=1.3->pythainlp[full]) (2.12.0)\n",
            "Requirement already satisfied: libclang>=13.0.0 in /usr/local/lib/python3.10/dist-packages (from tensorflow>=2.0.0->oskut>=1.3->pythainlp[full]) (16.0.0)\n",
            "Requirement already satisfied: opt-einsum>=2.3.2 in /usr/local/lib/python3.10/dist-packages (from tensorflow>=2.0.0->oskut>=1.3->pythainlp[full]) (3.3.0)\n",
            "Requirement already satisfied: tensorflow-estimator<2.13,>=2.12.0 in /usr/local/lib/python3.10/dist-packages (from tensorflow>=2.0.0->oskut>=1.3->pythainlp[full]) (2.12.0)\n",
            "Requirement already satisfied: wrapt<1.15,>=1.11.0 in /usr/local/lib/python3.10/dist-packages (from tensorflow>=2.0.0->oskut>=1.3->pythainlp[full]) (1.14.1)\n",
            "Requirement already satisfied: tensorflow-io-gcs-filesystem>=0.23.1 in /usr/local/lib/python3.10/dist-packages (from tensorflow>=2.0.0->oskut>=1.3->pythainlp[full]) (0.32.0)\n",
            "Requirement already satisfied: soupsieve>1.2 in /usr/local/lib/python3.10/dist-packages (from beautifulsoup4->fastai<2.0->pythainlp[full]) (2.4.1)\n",
            "Requirement already satisfied: pycparser in /usr/local/lib/python3.10/dist-packages (from cffi->fairseq>=0.10.0->pythainlp[full]) (2.21)\n",
            "Requirement already satisfied: humanfriendly>=9.1 in /usr/local/lib/python3.10/dist-packages (from coloredlogs->onnxruntime>=1.10.0->pythainlp[full]) (10.0)\n",
            "Requirement already satisfied: MarkupSafe>=2.0 in /usr/local/lib/python3.10/dist-packages (from jinja2->torch>=1.0.0->pythainlp[full]) (2.1.2)\n",
            "Requirement already satisfied: contourpy>=1.0.1 in /usr/local/lib/python3.10/dist-packages (from matplotlib->fastai<2.0->pythainlp[full]) (1.0.7)\n",
            "Requirement already satisfied: cycler>=0.10 in /usr/local/lib/python3.10/dist-packages (from matplotlib->fastai<2.0->pythainlp[full]) (0.11.0)\n",
            "Requirement already satisfied: fonttools>=4.22.0 in /usr/local/lib/python3.10/dist-packages (from matplotlib->fastai<2.0->pythainlp[full]) (4.39.3)\n",
            "Requirement already satisfied: kiwisolver>=1.0.1 in /usr/local/lib/python3.10/dist-packages (from matplotlib->fastai<2.0->pythainlp[full]) (1.4.4)\n",
            "Requirement already satisfied: pyparsing>=2.3.1 in /usr/local/lib/python3.10/dist-packages (from matplotlib->fastai<2.0->pythainlp[full]) (3.0.9)\n",
            "Requirement already satisfied: threadpoolctl>=2.0.0 in /usr/local/lib/python3.10/dist-packages (from scikit-learn->oskut>=1.3->pythainlp[full]) (3.1.0)\n",
            "Requirement already satisfied: mpmath>=0.19 in /usr/local/lib/python3.10/dist-packages (from sympy->onnxruntime>=1.10.0->pythainlp[full]) (1.3.0)\n",
            "Requirement already satisfied: cachetools<6.0,>=2.0.0 in /usr/local/lib/python3.10/dist-packages (from google-auth<3,>=1.6.3->tensorboard>=1.14->thai-nner->pythainlp[full]) (5.3.0)\n",
            "Requirement already satisfied: pyasn1-modules>=0.2.1 in /usr/local/lib/python3.10/dist-packages (from google-auth<3,>=1.6.3->tensorboard>=1.14->thai-nner->pythainlp[full]) (0.3.0)\n",
            "Requirement already satisfied: rsa<5,>=3.1.4 in /usr/local/lib/python3.10/dist-packages (from google-auth<3,>=1.6.3->tensorboard>=1.14->thai-nner->pythainlp[full]) (4.9)\n",
            "Requirement already satisfied: requests-oauthlib>=0.7.0 in /usr/local/lib/python3.10/dist-packages (from google-auth-oauthlib<1.1,>=0.5->tensorboard>=1.14->thai-nner->pythainlp[full]) (1.3.1)\n",
            "Requirement already satisfied: ml-dtypes>=0.1.0 in /usr/local/lib/python3.10/dist-packages (from jax>=0.3.15->tensorflow>=2.0.0->oskut>=1.3->pythainlp[full]) (0.1.0)\n",
            "Requirement already satisfied: blis<0.8.0,>=0.7.8 in /usr/local/lib/python3.10/dist-packages (from thinc<8.2.0,>=8.1.8->spacy>=2.2.2->spacy-thai>=0.7.1->pythainlp[full]) (0.7.9)\n",
            "Requirement already satisfied: confection<1.0.0,>=0.0.1 in /usr/local/lib/python3.10/dist-packages (from thinc<8.2.0,>=8.1.8->spacy>=2.2.2->spacy-thai>=0.7.1->pythainlp[full]) (0.0.4)\n",
            "Requirement already satisfied: pyasn1<0.6.0,>=0.4.6 in /usr/local/lib/python3.10/dist-packages (from pyasn1-modules>=0.2.1->google-auth<3,>=1.6.3->tensorboard>=1.14->thai-nner->pythainlp[full]) (0.5.0)\n",
            "Requirement already satisfied: oauthlib>=3.0.0 in /usr/local/lib/python3.10/dist-packages (from requests-oauthlib>=0.7.0->google-auth-oauthlib<1.1,>=0.5->tensorboard>=1.14->thai-nner->pythainlp[full]) (3.2.2)\n"
          ]
        }
      ],
      "source": [
        "!pip install pythainlp[full]"
      ]
    },
    {
      "cell_type": "code",
      "execution_count": null,
      "metadata": {
        "id": "uXhPW4p6pI3e"
      },
      "outputs": [],
      "source": [
        "text = [\n",
        "    'ที่พักสวย วิวดีมาก',\n",
        "    'วิวสวย ที่พักดีมาก',\n",
        "    'ที่พักวิวสวย บรรยากาศดีได้ใจ',\n",
        "    'ที่พักสวย แถมวิวสุดปัง'\n",
        "]"
      ]
    },
    {
      "cell_type": "code",
      "execution_count": null,
      "metadata": {
        "id": "SIeVaGfEpNk0"
      },
      "outputs": [],
      "source": [
        "from pythainlp.tokenize import word_tokenize"
      ]
    },
    {
      "cell_type": "code",
      "execution_count": null,
      "metadata": {
        "colab": {
          "base_uri": "https://localhost:8080/"
        },
        "id": "VVvwR5F2pRJx",
        "outputId": "1dd86586-3529-44fa-d810-4033c2e009bb"
      },
      "outputs": [
        {
          "name": "stdout",
          "output_type": "stream",
          "text": [
            "['ที่พัก', 'สวย', ' ', 'วิว', 'ดีมาก']\n",
            "['วิว', 'สวย', ' ', 'ที่พัก', 'ดีมาก']\n",
            "['ที่พัก', 'วิว', 'สวย', ' ', 'บรรยากาศ', 'ดี', 'ได้ใจ']\n",
            "['ที่พัก', 'สวย', ' ', 'แถม', 'วิว', 'สุด', 'ปัง']\n"
          ]
        }
      ],
      "source": [
        "## tokenization\n",
        "text_tokens = [word_tokenize(text=sent, engine=\"newmm\") for sent in text]\n",
        "for tk in text_tokens:\n",
        "  print(tk)"
      ]
    },
    {
      "cell_type": "code",
      "execution_count": null,
      "metadata": {
        "colab": {
          "base_uri": "https://localhost:8080/",
          "height": 174
        },
        "id": "dR6w_dWAm_Ae",
        "outputId": "76bdcd60-63be-4a60-d13b-bdb319d929f6"
      },
      "outputs": [
        {
          "data": {
            "text/html": [
              "\n",
              "  <div id=\"df-b9e03eb5-3b1c-48a4-b1f3-becd1dccb706\">\n",
              "    <div class=\"colab-df-container\">\n",
              "      <div>\n",
              "<style scoped>\n",
              "    .dataframe tbody tr th:only-of-type {\n",
              "        vertical-align: middle;\n",
              "    }\n",
              "\n",
              "    .dataframe tbody tr th {\n",
              "        vertical-align: top;\n",
              "    }\n",
              "\n",
              "    .dataframe thead th {\n",
              "        text-align: right;\n",
              "    }\n",
              "</style>\n",
              "<table border=\"1\" class=\"dataframe\">\n",
              "  <thead>\n",
              "    <tr style=\"text-align: right;\">\n",
              "      <th></th>\n",
              "      <th>text</th>\n",
              "    </tr>\n",
              "  </thead>\n",
              "  <tbody>\n",
              "    <tr>\n",
              "      <th>0</th>\n",
              "      <td>[ที่พัก, สวย,  , วิว, ดีมาก]</td>\n",
              "    </tr>\n",
              "    <tr>\n",
              "      <th>1</th>\n",
              "      <td>[วิว, สวย,  , ที่พัก, ดีมาก]</td>\n",
              "    </tr>\n",
              "    <tr>\n",
              "      <th>2</th>\n",
              "      <td>[ที่พัก, วิว, สวย,  , บรรยากาศ, ดี, ได้ใจ]</td>\n",
              "    </tr>\n",
              "    <tr>\n",
              "      <th>3</th>\n",
              "      <td>[ที่พัก, สวย,  , แถม, วิว, สุด, ปัง]</td>\n",
              "    </tr>\n",
              "  </tbody>\n",
              "</table>\n",
              "</div>\n",
              "      <button class=\"colab-df-convert\" onclick=\"convertToInteractive('df-b9e03eb5-3b1c-48a4-b1f3-becd1dccb706')\"\n",
              "              title=\"Convert this dataframe to an interactive table.\"\n",
              "              style=\"display:none;\">\n",
              "        \n",
              "  <svg xmlns=\"http://www.w3.org/2000/svg\" height=\"24px\"viewBox=\"0 0 24 24\"\n",
              "       width=\"24px\">\n",
              "    <path d=\"M0 0h24v24H0V0z\" fill=\"none\"/>\n",
              "    <path d=\"M18.56 5.44l.94 2.06.94-2.06 2.06-.94-2.06-.94-.94-2.06-.94 2.06-2.06.94zm-11 1L8.5 8.5l.94-2.06 2.06-.94-2.06-.94L8.5 2.5l-.94 2.06-2.06.94zm10 10l.94 2.06.94-2.06 2.06-.94-2.06-.94-.94-2.06-.94 2.06-2.06.94z\"/><path d=\"M17.41 7.96l-1.37-1.37c-.4-.4-.92-.59-1.43-.59-.52 0-1.04.2-1.43.59L10.3 9.45l-7.72 7.72c-.78.78-.78 2.05 0 2.83L4 21.41c.39.39.9.59 1.41.59.51 0 1.02-.2 1.41-.59l7.78-7.78 2.81-2.81c.8-.78.8-2.07 0-2.86zM5.41 20L4 18.59l7.72-7.72 1.47 1.35L5.41 20z\"/>\n",
              "  </svg>\n",
              "      </button>\n",
              "      \n",
              "  <style>\n",
              "    .colab-df-container {\n",
              "      display:flex;\n",
              "      flex-wrap:wrap;\n",
              "      gap: 12px;\n",
              "    }\n",
              "\n",
              "    .colab-df-convert {\n",
              "      background-color: #E8F0FE;\n",
              "      border: none;\n",
              "      border-radius: 50%;\n",
              "      cursor: pointer;\n",
              "      display: none;\n",
              "      fill: #1967D2;\n",
              "      height: 32px;\n",
              "      padding: 0 0 0 0;\n",
              "      width: 32px;\n",
              "    }\n",
              "\n",
              "    .colab-df-convert:hover {\n",
              "      background-color: #E2EBFA;\n",
              "      box-shadow: 0px 1px 2px rgba(60, 64, 67, 0.3), 0px 1px 3px 1px rgba(60, 64, 67, 0.15);\n",
              "      fill: #174EA6;\n",
              "    }\n",
              "\n",
              "    [theme=dark] .colab-df-convert {\n",
              "      background-color: #3B4455;\n",
              "      fill: #D2E3FC;\n",
              "    }\n",
              "\n",
              "    [theme=dark] .colab-df-convert:hover {\n",
              "      background-color: #434B5C;\n",
              "      box-shadow: 0px 1px 3px 1px rgba(0, 0, 0, 0.15);\n",
              "      filter: drop-shadow(0px 1px 2px rgba(0, 0, 0, 0.3));\n",
              "      fill: #FFFFFF;\n",
              "    }\n",
              "  </style>\n",
              "\n",
              "      <script>\n",
              "        const buttonEl =\n",
              "          document.querySelector('#df-b9e03eb5-3b1c-48a4-b1f3-becd1dccb706 button.colab-df-convert');\n",
              "        buttonEl.style.display =\n",
              "          google.colab.kernel.accessAllowed ? 'block' : 'none';\n",
              "\n",
              "        async function convertToInteractive(key) {\n",
              "          const element = document.querySelector('#df-b9e03eb5-3b1c-48a4-b1f3-becd1dccb706');\n",
              "          const dataTable =\n",
              "            await google.colab.kernel.invokeFunction('convertToInteractive',\n",
              "                                                     [key], {});\n",
              "          if (!dataTable) return;\n",
              "\n",
              "          const docLinkHtml = 'Like what you see? Visit the ' +\n",
              "            '<a target=\"_blank\" href=https://colab.research.google.com/notebooks/data_table.ipynb>data table notebook</a>'\n",
              "            + ' to learn more about interactive tables.';\n",
              "          element.innerHTML = '';\n",
              "          dataTable['output_type'] = 'display_data';\n",
              "          await google.colab.output.renderOutput(dataTable, element);\n",
              "          const docLink = document.createElement('div');\n",
              "          docLink.innerHTML = docLinkHtml;\n",
              "          element.appendChild(docLink);\n",
              "        }\n",
              "      </script>\n",
              "    </div>\n",
              "  </div>\n",
              "  "
            ],
            "text/plain": [
              "                                         text\n",
              "0                [ที่พัก, สวย,  , วิว, ดีมาก]\n",
              "1                [วิว, สวย,  , ที่พัก, ดีมาก]\n",
              "2  [ที่พัก, วิว, สวย,  , บรรยากาศ, ดี, ได้ใจ]\n",
              "3        [ที่พัก, สวย,  , แถม, วิว, สุด, ปัง]"
            ]
          },
          "execution_count": 5,
          "metadata": {},
          "output_type": "execute_result"
        }
      ],
      "source": [
        "# temp dataset with pandas\n",
        "import pandas as pd\n",
        "df = pd.DataFrame({'text':text_tokens})\n",
        "df"
      ]
    },
    {
      "cell_type": "code",
      "execution_count": null,
      "metadata": {
        "colab": {
          "base_uri": "https://localhost:8080/",
          "height": 230
        },
        "id": "Rr7s2mVIoBra",
        "outputId": "53cd9262-2427-40f3-e726-da483553bbed"
      },
      "outputs": [
        {
          "name": "stderr",
          "output_type": "stream",
          "text": [
            "<ipython-input-6-147ab8243a68>:2: FutureWarning: Using the level keyword in DataFrame and Series aggregations is deprecated and will be removed in a future version. Use groupby instead. df.sum(level=1) should use df.groupby(level=1).sum().\n",
            "  pd.get_dummies(df.text.apply(pd.Series).stack()).sum(level=0)\n"
          ]
        },
        {
          "data": {
            "text/html": [
              "\n",
              "  <div id=\"df-b66ba307-4f4a-4959-a2ea-a4fdd88c3f21\">\n",
              "    <div class=\"colab-df-container\">\n",
              "      <div>\n",
              "<style scoped>\n",
              "    .dataframe tbody tr th:only-of-type {\n",
              "        vertical-align: middle;\n",
              "    }\n",
              "\n",
              "    .dataframe tbody tr th {\n",
              "        vertical-align: top;\n",
              "    }\n",
              "\n",
              "    .dataframe thead th {\n",
              "        text-align: right;\n",
              "    }\n",
              "</style>\n",
              "<table border=\"1\" class=\"dataframe\">\n",
              "  <thead>\n",
              "    <tr style=\"text-align: right;\">\n",
              "      <th></th>\n",
              "      <th></th>\n",
              "      <th>ดี</th>\n",
              "      <th>ดีมาก</th>\n",
              "      <th>ที่พัก</th>\n",
              "      <th>บรรยากาศ</th>\n",
              "      <th>ปัง</th>\n",
              "      <th>วิว</th>\n",
              "      <th>สวย</th>\n",
              "      <th>สุด</th>\n",
              "      <th>แถม</th>\n",
              "      <th>ได้ใจ</th>\n",
              "    </tr>\n",
              "  </thead>\n",
              "  <tbody>\n",
              "    <tr>\n",
              "      <th>0</th>\n",
              "      <td>1</td>\n",
              "      <td>0</td>\n",
              "      <td>1</td>\n",
              "      <td>1</td>\n",
              "      <td>0</td>\n",
              "      <td>0</td>\n",
              "      <td>1</td>\n",
              "      <td>1</td>\n",
              "      <td>0</td>\n",
              "      <td>0</td>\n",
              "      <td>0</td>\n",
              "    </tr>\n",
              "    <tr>\n",
              "      <th>1</th>\n",
              "      <td>1</td>\n",
              "      <td>0</td>\n",
              "      <td>1</td>\n",
              "      <td>1</td>\n",
              "      <td>0</td>\n",
              "      <td>0</td>\n",
              "      <td>1</td>\n",
              "      <td>1</td>\n",
              "      <td>0</td>\n",
              "      <td>0</td>\n",
              "      <td>0</td>\n",
              "    </tr>\n",
              "    <tr>\n",
              "      <th>2</th>\n",
              "      <td>1</td>\n",
              "      <td>1</td>\n",
              "      <td>0</td>\n",
              "      <td>1</td>\n",
              "      <td>1</td>\n",
              "      <td>0</td>\n",
              "      <td>1</td>\n",
              "      <td>1</td>\n",
              "      <td>0</td>\n",
              "      <td>0</td>\n",
              "      <td>1</td>\n",
              "    </tr>\n",
              "    <tr>\n",
              "      <th>3</th>\n",
              "      <td>1</td>\n",
              "      <td>0</td>\n",
              "      <td>0</td>\n",
              "      <td>1</td>\n",
              "      <td>0</td>\n",
              "      <td>1</td>\n",
              "      <td>1</td>\n",
              "      <td>1</td>\n",
              "      <td>1</td>\n",
              "      <td>1</td>\n",
              "      <td>0</td>\n",
              "    </tr>\n",
              "  </tbody>\n",
              "</table>\n",
              "</div>\n",
              "      <button class=\"colab-df-convert\" onclick=\"convertToInteractive('df-b66ba307-4f4a-4959-a2ea-a4fdd88c3f21')\"\n",
              "              title=\"Convert this dataframe to an interactive table.\"\n",
              "              style=\"display:none;\">\n",
              "        \n",
              "  <svg xmlns=\"http://www.w3.org/2000/svg\" height=\"24px\"viewBox=\"0 0 24 24\"\n",
              "       width=\"24px\">\n",
              "    <path d=\"M0 0h24v24H0V0z\" fill=\"none\"/>\n",
              "    <path d=\"M18.56 5.44l.94 2.06.94-2.06 2.06-.94-2.06-.94-.94-2.06-.94 2.06-2.06.94zm-11 1L8.5 8.5l.94-2.06 2.06-.94-2.06-.94L8.5 2.5l-.94 2.06-2.06.94zm10 10l.94 2.06.94-2.06 2.06-.94-2.06-.94-.94-2.06-.94 2.06-2.06.94z\"/><path d=\"M17.41 7.96l-1.37-1.37c-.4-.4-.92-.59-1.43-.59-.52 0-1.04.2-1.43.59L10.3 9.45l-7.72 7.72c-.78.78-.78 2.05 0 2.83L4 21.41c.39.39.9.59 1.41.59.51 0 1.02-.2 1.41-.59l7.78-7.78 2.81-2.81c.8-.78.8-2.07 0-2.86zM5.41 20L4 18.59l7.72-7.72 1.47 1.35L5.41 20z\"/>\n",
              "  </svg>\n",
              "      </button>\n",
              "      \n",
              "  <style>\n",
              "    .colab-df-container {\n",
              "      display:flex;\n",
              "      flex-wrap:wrap;\n",
              "      gap: 12px;\n",
              "    }\n",
              "\n",
              "    .colab-df-convert {\n",
              "      background-color: #E8F0FE;\n",
              "      border: none;\n",
              "      border-radius: 50%;\n",
              "      cursor: pointer;\n",
              "      display: none;\n",
              "      fill: #1967D2;\n",
              "      height: 32px;\n",
              "      padding: 0 0 0 0;\n",
              "      width: 32px;\n",
              "    }\n",
              "\n",
              "    .colab-df-convert:hover {\n",
              "      background-color: #E2EBFA;\n",
              "      box-shadow: 0px 1px 2px rgba(60, 64, 67, 0.3), 0px 1px 3px 1px rgba(60, 64, 67, 0.15);\n",
              "      fill: #174EA6;\n",
              "    }\n",
              "\n",
              "    [theme=dark] .colab-df-convert {\n",
              "      background-color: #3B4455;\n",
              "      fill: #D2E3FC;\n",
              "    }\n",
              "\n",
              "    [theme=dark] .colab-df-convert:hover {\n",
              "      background-color: #434B5C;\n",
              "      box-shadow: 0px 1px 3px 1px rgba(0, 0, 0, 0.15);\n",
              "      filter: drop-shadow(0px 1px 2px rgba(0, 0, 0, 0.3));\n",
              "      fill: #FFFFFF;\n",
              "    }\n",
              "  </style>\n",
              "\n",
              "      <script>\n",
              "        const buttonEl =\n",
              "          document.querySelector('#df-b66ba307-4f4a-4959-a2ea-a4fdd88c3f21 button.colab-df-convert');\n",
              "        buttonEl.style.display =\n",
              "          google.colab.kernel.accessAllowed ? 'block' : 'none';\n",
              "\n",
              "        async function convertToInteractive(key) {\n",
              "          const element = document.querySelector('#df-b66ba307-4f4a-4959-a2ea-a4fdd88c3f21');\n",
              "          const dataTable =\n",
              "            await google.colab.kernel.invokeFunction('convertToInteractive',\n",
              "                                                     [key], {});\n",
              "          if (!dataTable) return;\n",
              "\n",
              "          const docLinkHtml = 'Like what you see? Visit the ' +\n",
              "            '<a target=\"_blank\" href=https://colab.research.google.com/notebooks/data_table.ipynb>data table notebook</a>'\n",
              "            + ' to learn more about interactive tables.';\n",
              "          element.innerHTML = '';\n",
              "          dataTable['output_type'] = 'display_data';\n",
              "          await google.colab.output.renderOutput(dataTable, element);\n",
              "          const docLink = document.createElement('div');\n",
              "          docLink.innerHTML = docLinkHtml;\n",
              "          element.appendChild(docLink);\n",
              "        }\n",
              "      </script>\n",
              "    </div>\n",
              "  </div>\n",
              "  "
            ],
            "text/plain": [
              "      ดี  ดีมาก  ที่พัก  บรรยากาศ  ปัง  วิว  สวย  สุด  แถม  ได้ใจ\n",
              "0  1   0      1       1         0    0    1    1    0    0      0\n",
              "1  1   0      1       1         0    0    1    1    0    0      0\n",
              "2  1   1      0       1         1    0    1    1    0    0      1\n",
              "3  1   0      0       1         0    1    1    1    1    1      0"
            ]
          },
          "execution_count": 6,
          "metadata": {},
          "output_type": "execute_result"
        }
      ],
      "source": [
        "# create one hot encoding with get dummie in pandas\n",
        "pd.get_dummies(df.text.apply(pd.Series).stack()).sum(level=0)"
      ]
    },
    {
      "cell_type": "markdown",
      "metadata": {
        "id": "KInwJsmUp4O5"
      },
      "source": [
        "# One-Hot Encoding with SCIKIT-LEARN"
      ]
    },
    {
      "cell_type": "code",
      "execution_count": null,
      "metadata": {
        "colab": {
          "base_uri": "https://localhost:8080/"
        },
        "id": "FwiDqEuwpt5Y",
        "outputId": "baa57166-7c4d-4017-a4a1-cd1508c52e5f"
      },
      "outputs": [
        {
          "name": "stdout",
          "output_type": "stream",
          "text": [
            "Looking in indexes: https://pypi.org/simple, https://us-python.pkg.dev/colab-wheels/public/simple/\n",
            "Requirement already satisfied: pythainlp[full] in /usr/local/lib/python3.10/dist-packages (4.0.2)\n",
            "Requirement already satisfied: requests>=2.22.0 in /usr/local/lib/python3.10/dist-packages (from pythainlp[full]) (2.27.1)\n",
            "Requirement already satisfied: PyYAML>=5.3.1 in /usr/local/lib/python3.10/dist-packages (from pythainlp[full]) (6.0)\n",
            "Requirement already satisfied: attacut>=1.0.4 in /usr/local/lib/python3.10/dist-packages (from pythainlp[full]) (1.0.6)\n",
            "Requirement already satisfied: emoji>=0.5.1 in /usr/local/lib/python3.10/dist-packages (from pythainlp[full]) (2.4.0)\n",
            "Requirement already satisfied: epitran>=1.1 in /usr/local/lib/python3.10/dist-packages (from pythainlp[full]) (1.24)\n",
            "Requirement already satisfied: fairseq>=0.10.0 in /usr/local/lib/python3.10/dist-packages (from pythainlp[full]) (0.12.2)\n",
            "Requirement already satisfied: gensim>=4.0.0 in /usr/local/lib/python3.10/dist-packages (from pythainlp[full]) (4.3.1)\n",
            "Requirement already satisfied: nltk>=3.3 in /usr/local/lib/python3.10/dist-packages (from pythainlp[full]) (3.8.1)\n",
            "Requirement already satisfied: numpy>=1.22 in /usr/local/lib/python3.10/dist-packages (from pythainlp[full]) (1.22.4)\n",
            "Requirement already satisfied: pandas>=0.24 in /usr/local/lib/python3.10/dist-packages (from pythainlp[full]) (1.5.3)\n",
            "Requirement already satisfied: pyicu>=2.3 in /usr/local/lib/python3.10/dist-packages (from pythainlp[full]) (2.11)\n",
            "Requirement already satisfied: sacremoses>=0.0.41 in /usr/local/lib/python3.10/dist-packages (from pythainlp[full]) (0.0.53)\n",
            "Requirement already satisfied: sentencepiece>=0.1.91 in /usr/local/lib/python3.10/dist-packages (from pythainlp[full]) (0.1.99)\n",
            "Requirement already satisfied: ssg>=0.0.8 in /usr/local/lib/python3.10/dist-packages (from pythainlp[full]) (0.0.8)\n",
            "Requirement already satisfied: torch>=1.0.0 in /usr/local/lib/python3.10/dist-packages (from pythainlp[full]) (2.0.1+cu118)\n",
            "Requirement already satisfied: fastai<2.0 in /usr/local/lib/python3.10/dist-packages (from pythainlp[full]) (1.0.61)\n",
            "Requirement already satisfied: bpemb>=0.3.2 in /usr/local/lib/python3.10/dist-packages (from pythainlp[full]) (0.3.4)\n",
            "Requirement already satisfied: transformers>=4.22.1 in /usr/local/lib/python3.10/dist-packages (from pythainlp[full]) (4.29.2)\n",
            "Requirement already satisfied: sefr-cut>=1.1 in /usr/local/lib/python3.10/dist-packages (from pythainlp[full]) (1.1)\n",
            "Requirement already satisfied: phunspell>=0.1.6 in /usr/local/lib/python3.10/dist-packages (from pythainlp[full]) (0.1.6)\n",
            "Requirement already satisfied: spylls>=0.1.5 in /usr/local/lib/python3.10/dist-packages (from pythainlp[full]) (0.1.7)\n",
            "Requirement already satisfied: symspellpy>=6.7.6 in /usr/local/lib/python3.10/dist-packages (from pythainlp[full]) (6.7.7)\n",
            "Requirement already satisfied: oskut>=1.3 in /usr/local/lib/python3.10/dist-packages (from pythainlp[full]) (1.3)\n",
            "Requirement already satisfied: nlpo3>=1.2.2 in /usr/local/lib/python3.10/dist-packages (from pythainlp[full]) (1.3.0)\n",
            "Requirement already satisfied: onnxruntime>=1.10.0 in /usr/local/lib/python3.10/dist-packages (from pythainlp[full]) (1.15.0)\n",
            "Requirement already satisfied: thai-nner in /usr/local/lib/python3.10/dist-packages (from pythainlp[full]) (0.3)\n",
            "Requirement already satisfied: wunsen>=0.0.3 in /usr/local/lib/python3.10/dist-packages (from pythainlp[full]) (0.0.3)\n",
            "Requirement already satisfied: spacy-thai>=0.7.1 in /usr/local/lib/python3.10/dist-packages (from pythainlp[full]) (0.7.3)\n",
            "Requirement already satisfied: ufal.chu-liu-edmonds>=1.0.2 in /usr/local/lib/python3.10/dist-packages (from pythainlp[full]) (1.0.2)\n",
            "Requirement already satisfied: docopt>=0.6.2 in /usr/local/lib/python3.10/dist-packages (from attacut>=1.0.4->pythainlp[full]) (0.6.2)\n",
            "Requirement already satisfied: fire>=0.1.3 in /usr/local/lib/python3.10/dist-packages (from attacut>=1.0.4->pythainlp[full]) (0.5.0)\n",
            "Requirement already satisfied: nptyping>=0.2.0 in /usr/local/lib/python3.10/dist-packages (from attacut>=1.0.4->pythainlp[full]) (2.5.0)\n",
            "Requirement already satisfied: six>=1.12.0 in /usr/local/lib/python3.10/dist-packages (from attacut>=1.0.4->pythainlp[full]) (1.16.0)\n",
            "Requirement already satisfied: tqdm in /usr/local/lib/python3.10/dist-packages (from bpemb>=0.3.2->pythainlp[full]) (4.65.0)\n",
            "Requirement already satisfied: setuptools in /usr/local/lib/python3.10/dist-packages (from epitran>=1.1->pythainlp[full]) (67.7.2)\n",
            "Requirement already satisfied: regex in /usr/local/lib/python3.10/dist-packages (from epitran>=1.1->pythainlp[full]) (2022.10.31)\n",
            "Requirement already satisfied: panphon>=0.20 in /usr/local/lib/python3.10/dist-packages (from epitran>=1.1->pythainlp[full]) (0.20.0)\n",
            "Requirement already satisfied: marisa-trie in /usr/local/lib/python3.10/dist-packages (from epitran>=1.1->pythainlp[full]) (0.8.0)\n",
            "Requirement already satisfied: cffi in /usr/local/lib/python3.10/dist-packages (from fairseq>=0.10.0->pythainlp[full]) (1.15.1)\n",
            "Requirement already satisfied: cython in /usr/local/lib/python3.10/dist-packages (from fairseq>=0.10.0->pythainlp[full]) (0.29.34)\n",
            "Requirement already satisfied: hydra-core<1.1,>=1.0.7 in /usr/local/lib/python3.10/dist-packages (from fairseq>=0.10.0->pythainlp[full]) (1.0.7)\n",
            "Requirement already satisfied: omegaconf<2.1 in /usr/local/lib/python3.10/dist-packages (from fairseq>=0.10.0->pythainlp[full]) (2.0.6)\n",
            "Requirement already satisfied: sacrebleu>=1.4.12 in /usr/local/lib/python3.10/dist-packages (from fairseq>=0.10.0->pythainlp[full]) (2.3.1)\n",
            "Requirement already satisfied: bitarray in /usr/local/lib/python3.10/dist-packages (from fairseq>=0.10.0->pythainlp[full]) (2.7.4)\n",
            "Requirement already satisfied: torchaudio>=0.8.0 in /usr/local/lib/python3.10/dist-packages (from fairseq>=0.10.0->pythainlp[full]) (2.0.2+cu118)\n",
            "Requirement already satisfied: bottleneck in /usr/local/lib/python3.10/dist-packages (from fastai<2.0->pythainlp[full]) (1.3.7)\n",
            "Requirement already satisfied: fastprogress>=0.2.1 in /usr/local/lib/python3.10/dist-packages (from fastai<2.0->pythainlp[full]) (1.0.3)\n",
            "Requirement already satisfied: beautifulsoup4 in /usr/local/lib/python3.10/dist-packages (from fastai<2.0->pythainlp[full]) (4.11.2)\n",
            "Requirement already satisfied: matplotlib in /usr/local/lib/python3.10/dist-packages (from fastai<2.0->pythainlp[full]) (3.7.1)\n",
            "Requirement already satisfied: numexpr in /usr/local/lib/python3.10/dist-packages (from fastai<2.0->pythainlp[full]) (2.8.4)\n",
            "Requirement already satisfied: nvidia-ml-py3 in /usr/local/lib/python3.10/dist-packages (from fastai<2.0->pythainlp[full]) (7.352.0)\n",
            "Requirement already satisfied: packaging in /usr/local/lib/python3.10/dist-packages (from fastai<2.0->pythainlp[full]) (23.1)\n",
            "Requirement already satisfied: Pillow in /usr/local/lib/python3.10/dist-packages (from fastai<2.0->pythainlp[full]) (8.4.0)\n",
            "Requirement already satisfied: scipy in /usr/local/lib/python3.10/dist-packages (from fastai<2.0->pythainlp[full]) (1.10.1)\n",
            "Requirement already satisfied: torchvision in /usr/local/lib/python3.10/dist-packages (from fastai<2.0->pythainlp[full]) (0.15.2+cu118)\n",
            "Requirement already satisfied: smart-open>=1.8.1 in /usr/local/lib/python3.10/dist-packages (from gensim>=4.0.0->pythainlp[full]) (6.3.0)\n",
            "Requirement already satisfied: click in /usr/local/lib/python3.10/dist-packages (from nltk>=3.3->pythainlp[full]) (8.1.3)\n",
            "Requirement already satisfied: joblib in /usr/local/lib/python3.10/dist-packages (from nltk>=3.3->pythainlp[full]) (1.2.0)\n",
            "Requirement already satisfied: coloredlogs in /usr/local/lib/python3.10/dist-packages (from onnxruntime>=1.10.0->pythainlp[full]) (15.0.1)\n",
            "Requirement already satisfied: flatbuffers in /usr/local/lib/python3.10/dist-packages (from onnxruntime>=1.10.0->pythainlp[full]) (23.3.3)\n",
            "Requirement already satisfied: protobuf in /usr/local/lib/python3.10/dist-packages (from onnxruntime>=1.10.0->pythainlp[full]) (3.20.3)\n",
            "Requirement already satisfied: sympy in /usr/local/lib/python3.10/dist-packages (from onnxruntime>=1.10.0->pythainlp[full]) (1.11.1)\n",
            "Requirement already satisfied: tensorflow>=2.0.0 in /usr/local/lib/python3.10/dist-packages (from oskut>=1.3->pythainlp[full]) (2.12.0)\n",
            "Requirement already satisfied: scikit-learn in /usr/local/lib/python3.10/dist-packages (from oskut>=1.3->pythainlp[full]) (1.2.2)\n",
            "Requirement already satisfied: pyahocorasick<=1.4.0 in /usr/local/lib/python3.10/dist-packages (from oskut>=1.3->pythainlp[full]) (1.4.0)\n",
            "Requirement already satisfied: python-dateutil>=2.8.1 in /usr/local/lib/python3.10/dist-packages (from pandas>=0.24->pythainlp[full]) (2.8.2)\n",
            "Requirement already satisfied: pytz>=2020.1 in /usr/local/lib/python3.10/dist-packages (from pandas>=0.24->pythainlp[full]) (2022.7.1)\n",
            "Requirement already satisfied: urllib3<1.27,>=1.21.1 in /usr/local/lib/python3.10/dist-packages (from requests>=2.22.0->pythainlp[full]) (1.26.15)\n",
            "Requirement already satisfied: certifi>=2017.4.17 in /usr/local/lib/python3.10/dist-packages (from requests>=2.22.0->pythainlp[full]) (2022.12.7)\n",
            "Requirement already satisfied: charset-normalizer~=2.0.0 in /usr/local/lib/python3.10/dist-packages (from requests>=2.22.0->pythainlp[full]) (2.0.12)\n",
            "Requirement already satisfied: idna<4,>=2.5 in /usr/local/lib/python3.10/dist-packages (from requests>=2.22.0->pythainlp[full]) (3.4)\n",
            "Requirement already satisfied: python-crfsuite in /usr/local/lib/python3.10/dist-packages (from sefr-cut>=1.1->pythainlp[full]) (0.9.9)\n",
            "Requirement already satisfied: deplacy>=2.0.3 in /usr/local/lib/python3.10/dist-packages (from spacy-thai>=0.7.1->pythainlp[full]) (2.0.5)\n",
            "Requirement already satisfied: spacy>=2.2.2 in /usr/local/lib/python3.10/dist-packages (from spacy-thai>=0.7.1->pythainlp[full]) (3.5.2)\n",
            "Requirement already satisfied: ufal.udpipe>=1.2.0 in /usr/local/lib/python3.10/dist-packages (from spacy-thai>=0.7.1->pythainlp[full]) (1.3.0.1)\n",
            "Requirement already satisfied: editdistpy>=0.1.3 in /usr/local/lib/python3.10/dist-packages (from symspellpy>=6.7.6->pythainlp[full]) (0.1.3)\n",
            "Requirement already satisfied: filelock in /usr/local/lib/python3.10/dist-packages (from torch>=1.0.0->pythainlp[full]) (3.12.0)\n",
            "Requirement already satisfied: typing-extensions in /usr/local/lib/python3.10/dist-packages (from torch>=1.0.0->pythainlp[full]) (4.5.0)\n",
            "Requirement already satisfied: networkx in /usr/local/lib/python3.10/dist-packages (from torch>=1.0.0->pythainlp[full]) (3.1)\n",
            "Requirement already satisfied: jinja2 in /usr/local/lib/python3.10/dist-packages (from torch>=1.0.0->pythainlp[full]) (3.1.2)\n",
            "Requirement already satisfied: triton==2.0.0 in /usr/local/lib/python3.10/dist-packages (from torch>=1.0.0->pythainlp[full]) (2.0.0)\n",
            "Requirement already satisfied: cmake in /usr/local/lib/python3.10/dist-packages (from triton==2.0.0->torch>=1.0.0->pythainlp[full]) (3.25.2)\n",
            "Requirement already satisfied: lit in /usr/local/lib/python3.10/dist-packages (from triton==2.0.0->torch>=1.0.0->pythainlp[full]) (16.0.5)\n",
            "Requirement already satisfied: huggingface-hub<1.0,>=0.14.1 in /usr/local/lib/python3.10/dist-packages (from transformers>=4.22.1->pythainlp[full]) (0.15.1)\n",
            "Requirement already satisfied: tokenizers!=0.11.3,<0.14,>=0.11.1 in /usr/local/lib/python3.10/dist-packages (from transformers>=4.22.1->pythainlp[full]) (0.13.3)\n",
            "Requirement already satisfied: khanaa>=0.0.6 in /usr/local/lib/python3.10/dist-packages (from wunsen>=0.0.3->pythainlp[full]) (0.0.6)\n",
            "Requirement already satisfied: tensorboard>=1.14 in /usr/local/lib/python3.10/dist-packages (from thai-nner->pythainlp[full]) (2.12.2)\n",
            "Requirement already satisfied: termcolor in /usr/local/lib/python3.10/dist-packages (from fire>=0.1.3->attacut>=1.0.4->pythainlp[full]) (2.3.0)\n",
            "Requirement already satisfied: fsspec in /usr/local/lib/python3.10/dist-packages (from huggingface-hub<1.0,>=0.14.1->transformers>=4.22.1->pythainlp[full]) (2023.4.0)\n",
            "Requirement already satisfied: antlr4-python3-runtime==4.8 in /usr/local/lib/python3.10/dist-packages (from hydra-core<1.1,>=1.0.7->fairseq>=0.10.0->pythainlp[full]) (4.8)\n",
            "Requirement already satisfied: unicodecsv in /usr/local/lib/python3.10/dist-packages (from panphon>=0.20->epitran>=1.1->pythainlp[full]) (0.14.1)\n",
            "Requirement already satisfied: editdistance in /usr/local/lib/python3.10/dist-packages (from panphon>=0.20->epitran>=1.1->pythainlp[full]) (0.6.2)\n",
            "Requirement already satisfied: munkres in /usr/local/lib/python3.10/dist-packages (from panphon>=0.20->epitran>=1.1->pythainlp[full]) (1.1.4)\n",
            "Requirement already satisfied: portalocker in /usr/local/lib/python3.10/dist-packages (from sacrebleu>=1.4.12->fairseq>=0.10.0->pythainlp[full]) (2.7.0)\n",
            "Requirement already satisfied: tabulate>=0.8.9 in /usr/local/lib/python3.10/dist-packages (from sacrebleu>=1.4.12->fairseq>=0.10.0->pythainlp[full]) (0.8.10)\n",
            "Requirement already satisfied: colorama in /usr/local/lib/python3.10/dist-packages (from sacrebleu>=1.4.12->fairseq>=0.10.0->pythainlp[full]) (0.4.6)\n",
            "Requirement already satisfied: lxml in /usr/local/lib/python3.10/dist-packages (from sacrebleu>=1.4.12->fairseq>=0.10.0->pythainlp[full]) (4.9.2)\n",
            "Requirement already satisfied: spacy-legacy<3.1.0,>=3.0.11 in /usr/local/lib/python3.10/dist-packages (from spacy>=2.2.2->spacy-thai>=0.7.1->pythainlp[full]) (3.0.12)\n",
            "Requirement already satisfied: spacy-loggers<2.0.0,>=1.0.0 in /usr/local/lib/python3.10/dist-packages (from spacy>=2.2.2->spacy-thai>=0.7.1->pythainlp[full]) (1.0.4)\n",
            "Requirement already satisfied: murmurhash<1.1.0,>=0.28.0 in /usr/local/lib/python3.10/dist-packages (from spacy>=2.2.2->spacy-thai>=0.7.1->pythainlp[full]) (1.0.9)\n",
            "Requirement already satisfied: cymem<2.1.0,>=2.0.2 in /usr/local/lib/python3.10/dist-packages (from spacy>=2.2.2->spacy-thai>=0.7.1->pythainlp[full]) (2.0.7)\n",
            "Requirement already satisfied: preshed<3.1.0,>=3.0.2 in /usr/local/lib/python3.10/dist-packages (from spacy>=2.2.2->spacy-thai>=0.7.1->pythainlp[full]) (3.0.8)\n",
            "Requirement already satisfied: thinc<8.2.0,>=8.1.8 in /usr/local/lib/python3.10/dist-packages (from spacy>=2.2.2->spacy-thai>=0.7.1->pythainlp[full]) (8.1.9)\n",
            "Requirement already satisfied: wasabi<1.2.0,>=0.9.1 in /usr/local/lib/python3.10/dist-packages (from spacy>=2.2.2->spacy-thai>=0.7.1->pythainlp[full]) (1.1.1)\n",
            "Requirement already satisfied: srsly<3.0.0,>=2.4.3 in /usr/local/lib/python3.10/dist-packages (from spacy>=2.2.2->spacy-thai>=0.7.1->pythainlp[full]) (2.4.6)\n",
            "Requirement already satisfied: catalogue<2.1.0,>=2.0.6 in /usr/local/lib/python3.10/dist-packages (from spacy>=2.2.2->spacy-thai>=0.7.1->pythainlp[full]) (2.0.8)\n",
            "Requirement already satisfied: typer<0.8.0,>=0.3.0 in /usr/local/lib/python3.10/dist-packages (from spacy>=2.2.2->spacy-thai>=0.7.1->pythainlp[full]) (0.7.0)\n",
            "Requirement already satisfied: pathy>=0.10.0 in /usr/local/lib/python3.10/dist-packages (from spacy>=2.2.2->spacy-thai>=0.7.1->pythainlp[full]) (0.10.1)\n",
            "Requirement already satisfied: pydantic!=1.8,!=1.8.1,<1.11.0,>=1.7.4 in /usr/local/lib/python3.10/dist-packages (from spacy>=2.2.2->spacy-thai>=0.7.1->pythainlp[full]) (1.10.7)\n",
            "Requirement already satisfied: langcodes<4.0.0,>=3.2.0 in /usr/local/lib/python3.10/dist-packages (from spacy>=2.2.2->spacy-thai>=0.7.1->pythainlp[full]) (3.3.0)\n",
            "Requirement already satisfied: absl-py>=0.4 in /usr/local/lib/python3.10/dist-packages (from tensorboard>=1.14->thai-nner->pythainlp[full]) (1.4.0)\n",
            "Requirement already satisfied: grpcio>=1.48.2 in /usr/local/lib/python3.10/dist-packages (from tensorboard>=1.14->thai-nner->pythainlp[full]) (1.54.0)\n",
            "Requirement already satisfied: google-auth<3,>=1.6.3 in /usr/local/lib/python3.10/dist-packages (from tensorboard>=1.14->thai-nner->pythainlp[full]) (2.17.3)\n",
            "Requirement already satisfied: google-auth-oauthlib<1.1,>=0.5 in /usr/local/lib/python3.10/dist-packages (from tensorboard>=1.14->thai-nner->pythainlp[full]) (1.0.0)\n",
            "Requirement already satisfied: markdown>=2.6.8 in /usr/local/lib/python3.10/dist-packages (from tensorboard>=1.14->thai-nner->pythainlp[full]) (3.4.3)\n",
            "Requirement already satisfied: tensorboard-data-server<0.8.0,>=0.7.0 in /usr/local/lib/python3.10/dist-packages (from tensorboard>=1.14->thai-nner->pythainlp[full]) (0.7.0)\n",
            "Requirement already satisfied: tensorboard-plugin-wit>=1.6.0 in /usr/local/lib/python3.10/dist-packages (from tensorboard>=1.14->thai-nner->pythainlp[full]) (1.8.1)\n",
            "Requirement already satisfied: werkzeug>=1.0.1 in /usr/local/lib/python3.10/dist-packages (from tensorboard>=1.14->thai-nner->pythainlp[full]) (2.3.0)\n",
            "Requirement already satisfied: wheel>=0.26 in /usr/local/lib/python3.10/dist-packages (from tensorboard>=1.14->thai-nner->pythainlp[full]) (0.40.0)\n",
            "Requirement already satisfied: astunparse>=1.6.0 in /usr/local/lib/python3.10/dist-packages (from tensorflow>=2.0.0->oskut>=1.3->pythainlp[full]) (1.6.3)\n",
            "Requirement already satisfied: gast<=0.4.0,>=0.2.1 in /usr/local/lib/python3.10/dist-packages (from tensorflow>=2.0.0->oskut>=1.3->pythainlp[full]) (0.4.0)\n",
            "Requirement already satisfied: google-pasta>=0.1.1 in /usr/local/lib/python3.10/dist-packages (from tensorflow>=2.0.0->oskut>=1.3->pythainlp[full]) (0.2.0)\n",
            "Requirement already satisfied: h5py>=2.9.0 in /usr/local/lib/python3.10/dist-packages (from tensorflow>=2.0.0->oskut>=1.3->pythainlp[full]) (3.8.0)\n",
            "Requirement already satisfied: jax>=0.3.15 in /usr/local/lib/python3.10/dist-packages (from tensorflow>=2.0.0->oskut>=1.3->pythainlp[full]) (0.4.10)\n",
            "Requirement already satisfied: keras<2.13,>=2.12.0 in /usr/local/lib/python3.10/dist-packages (from tensorflow>=2.0.0->oskut>=1.3->pythainlp[full]) (2.12.0)\n",
            "Requirement already satisfied: libclang>=13.0.0 in /usr/local/lib/python3.10/dist-packages (from tensorflow>=2.0.0->oskut>=1.3->pythainlp[full]) (16.0.0)\n",
            "Requirement already satisfied: opt-einsum>=2.3.2 in /usr/local/lib/python3.10/dist-packages (from tensorflow>=2.0.0->oskut>=1.3->pythainlp[full]) (3.3.0)\n",
            "Requirement already satisfied: tensorflow-estimator<2.13,>=2.12.0 in /usr/local/lib/python3.10/dist-packages (from tensorflow>=2.0.0->oskut>=1.3->pythainlp[full]) (2.12.0)\n",
            "Requirement already satisfied: wrapt<1.15,>=1.11.0 in /usr/local/lib/python3.10/dist-packages (from tensorflow>=2.0.0->oskut>=1.3->pythainlp[full]) (1.14.1)\n",
            "Requirement already satisfied: tensorflow-io-gcs-filesystem>=0.23.1 in /usr/local/lib/python3.10/dist-packages (from tensorflow>=2.0.0->oskut>=1.3->pythainlp[full]) (0.32.0)\n",
            "Requirement already satisfied: soupsieve>1.2 in /usr/local/lib/python3.10/dist-packages (from beautifulsoup4->fastai<2.0->pythainlp[full]) (2.4.1)\n",
            "Requirement already satisfied: pycparser in /usr/local/lib/python3.10/dist-packages (from cffi->fairseq>=0.10.0->pythainlp[full]) (2.21)\n",
            "Requirement already satisfied: humanfriendly>=9.1 in /usr/local/lib/python3.10/dist-packages (from coloredlogs->onnxruntime>=1.10.0->pythainlp[full]) (10.0)\n",
            "Requirement already satisfied: MarkupSafe>=2.0 in /usr/local/lib/python3.10/dist-packages (from jinja2->torch>=1.0.0->pythainlp[full]) (2.1.2)\n",
            "Requirement already satisfied: contourpy>=1.0.1 in /usr/local/lib/python3.10/dist-packages (from matplotlib->fastai<2.0->pythainlp[full]) (1.0.7)\n",
            "Requirement already satisfied: cycler>=0.10 in /usr/local/lib/python3.10/dist-packages (from matplotlib->fastai<2.0->pythainlp[full]) (0.11.0)\n",
            "Requirement already satisfied: fonttools>=4.22.0 in /usr/local/lib/python3.10/dist-packages (from matplotlib->fastai<2.0->pythainlp[full]) (4.39.3)\n",
            "Requirement already satisfied: kiwisolver>=1.0.1 in /usr/local/lib/python3.10/dist-packages (from matplotlib->fastai<2.0->pythainlp[full]) (1.4.4)\n",
            "Requirement already satisfied: pyparsing>=2.3.1 in /usr/local/lib/python3.10/dist-packages (from matplotlib->fastai<2.0->pythainlp[full]) (3.0.9)\n",
            "Requirement already satisfied: threadpoolctl>=2.0.0 in /usr/local/lib/python3.10/dist-packages (from scikit-learn->oskut>=1.3->pythainlp[full]) (3.1.0)\n",
            "Requirement already satisfied: mpmath>=0.19 in /usr/local/lib/python3.10/dist-packages (from sympy->onnxruntime>=1.10.0->pythainlp[full]) (1.3.0)\n",
            "Requirement already satisfied: cachetools<6.0,>=2.0.0 in /usr/local/lib/python3.10/dist-packages (from google-auth<3,>=1.6.3->tensorboard>=1.14->thai-nner->pythainlp[full]) (5.3.0)\n",
            "Requirement already satisfied: pyasn1-modules>=0.2.1 in /usr/local/lib/python3.10/dist-packages (from google-auth<3,>=1.6.3->tensorboard>=1.14->thai-nner->pythainlp[full]) (0.3.0)\n",
            "Requirement already satisfied: rsa<5,>=3.1.4 in /usr/local/lib/python3.10/dist-packages (from google-auth<3,>=1.6.3->tensorboard>=1.14->thai-nner->pythainlp[full]) (4.9)\n",
            "Requirement already satisfied: requests-oauthlib>=0.7.0 in /usr/local/lib/python3.10/dist-packages (from google-auth-oauthlib<1.1,>=0.5->tensorboard>=1.14->thai-nner->pythainlp[full]) (1.3.1)\n",
            "Requirement already satisfied: ml-dtypes>=0.1.0 in /usr/local/lib/python3.10/dist-packages (from jax>=0.3.15->tensorflow>=2.0.0->oskut>=1.3->pythainlp[full]) (0.1.0)\n",
            "Requirement already satisfied: blis<0.8.0,>=0.7.8 in /usr/local/lib/python3.10/dist-packages (from thinc<8.2.0,>=8.1.8->spacy>=2.2.2->spacy-thai>=0.7.1->pythainlp[full]) (0.7.9)\n",
            "Requirement already satisfied: confection<1.0.0,>=0.0.1 in /usr/local/lib/python3.10/dist-packages (from thinc<8.2.0,>=8.1.8->spacy>=2.2.2->spacy-thai>=0.7.1->pythainlp[full]) (0.0.4)\n",
            "Requirement already satisfied: pyasn1<0.6.0,>=0.4.6 in /usr/local/lib/python3.10/dist-packages (from pyasn1-modules>=0.2.1->google-auth<3,>=1.6.3->tensorboard>=1.14->thai-nner->pythainlp[full]) (0.5.0)\n",
            "Requirement already satisfied: oauthlib>=3.0.0 in /usr/local/lib/python3.10/dist-packages (from requests-oauthlib>=0.7.0->google-auth-oauthlib<1.1,>=0.5->tensorboard>=1.14->thai-nner->pythainlp[full]) (3.2.2)\n"
          ]
        }
      ],
      "source": [
        "!pip install pythainlp[full]"
      ]
    },
    {
      "cell_type": "code",
      "execution_count": null,
      "metadata": {
        "id": "U1GZALcyqCAQ"
      },
      "outputs": [],
      "source": [
        "text = [\n",
        "    'ที่พักสวย วิวดีมาก',\n",
        "    'วิวสวย ที่พักดีมาก',\n",
        "    'ที่พักวิวสวย บรรยากาศดีได้ใจ',\n",
        "    'ที่พักสวย แถมวิวสุดปัง'\n",
        "]"
      ]
    },
    {
      "cell_type": "code",
      "execution_count": null,
      "metadata": {
        "id": "cl-dnGpvqFbk"
      },
      "outputs": [],
      "source": [
        "from pythainlp.tokenize import word_tokenize"
      ]
    },
    {
      "cell_type": "code",
      "execution_count": null,
      "metadata": {
        "colab": {
          "base_uri": "https://localhost:8080/"
        },
        "id": "IqK5nHRnqFrF",
        "outputId": "48fade00-e64e-412a-cb80-58109716258f"
      },
      "outputs": [
        {
          "name": "stdout",
          "output_type": "stream",
          "text": [
            "['ที่พัก', 'สวย', ' ', 'วิว', 'ดีมาก']\n",
            "['วิว', 'สวย', ' ', 'ที่พัก', 'ดีมาก']\n",
            "['ที่พัก', 'วิว', 'สวย', ' ', 'บรรยากาศ', 'ดี', 'ได้ใจ']\n",
            "['ที่พัก', 'สวย', ' ', 'แถม', 'วิว', 'สุด', 'ปัง']\n"
          ]
        }
      ],
      "source": [
        "## tokenization\n",
        "text_tokens = [word_tokenize(text=sent, engine=\"newmm\") for sent in text]\n",
        "for tk in text_tokens:\n",
        "  print(tk)"
      ]
    },
    {
      "cell_type": "code",
      "execution_count": null,
      "metadata": {
        "id": "yEg-MPSoqHmv"
      },
      "outputs": [],
      "source": [
        "from sklearn.preprocessing import MultiLabelBinarizer\n",
        "mlb = MultiLabelBinarizer()"
      ]
    },
    {
      "cell_type": "code",
      "execution_count": null,
      "metadata": {
        "colab": {
          "base_uri": "https://localhost:8080/"
        },
        "id": "Bel3duW-qZxn",
        "outputId": "35eca427-b7c0-4275-80fa-3b245e2ef42e"
      },
      "outputs": [
        {
          "data": {
            "text/plain": [
              "array([[1, 0, 1, 1, 0, 0, 1, 1, 0, 0, 0],\n",
              "       [1, 0, 1, 1, 0, 0, 1, 1, 0, 0, 0],\n",
              "       [1, 1, 0, 1, 1, 0, 1, 1, 0, 0, 1],\n",
              "       [1, 0, 0, 1, 0, 1, 1, 1, 1, 1, 0]])"
            ]
          },
          "execution_count": 7,
          "metadata": {},
          "output_type": "execute_result"
        }
      ],
      "source": [
        "# one hot encoding\n",
        "mlb.fit_transform(text_tokens)"
      ]
    },
    {
      "cell_type": "code",
      "execution_count": null,
      "metadata": {
        "colab": {
          "base_uri": "https://localhost:8080/"
        },
        "id": "UK8U5bS0qzql",
        "outputId": "0d4cc887-f94a-499a-b2d1-24696403abb0"
      },
      "outputs": [
        {
          "data": {
            "text/plain": [
              "array([' ', 'ดี', 'ดีมาก', 'ที่พัก', 'บรรยากาศ', 'ปัง', 'วิว', 'สวย',\n",
              "       'สุด', 'แถม', 'ได้ใจ'], dtype=object)"
            ]
          },
          "execution_count": 8,
          "metadata": {},
          "output_type": "execute_result"
        }
      ],
      "source": [
        "# all word we have\n",
        "mlb.classes_"
      ]
    },
    {
      "cell_type": "markdown",
      "metadata": {
        "id": "-ci-MpDkrWB8"
      },
      "source": [
        "advantage:\n",
        "-simple and fast.\n",
        "\n",
        "disadvantage:\n",
        "\n",
        "-no word order.\n",
        "\n",
        "-no semantic information.\n",
        "\n",
        "-no difference between important words and non-important words."
      ]
    },
    {
      "cell_type": "markdown",
      "metadata": {
        "id": "L1RkJSxXs1Nh"
      },
      "source": [
        "# Count Vectorizer"
      ]
    },
    {
      "cell_type": "markdown",
      "metadata": {
        "id": "Uh8Hrw-otJJy"
      },
      "source": [
        "same one hot encoding but add frequency"
      ]
    },
    {
      "cell_type": "code",
      "execution_count": null,
      "metadata": {
        "colab": {
          "base_uri": "https://localhost:8080/"
        },
        "id": "TfRGUIt7q2vp",
        "outputId": "e30be98d-52db-4c1e-e4f8-4eb5c7407ead"
      },
      "outputs": [
        {
          "name": "stdout",
          "output_type": "stream",
          "text": [
            "{'cat': 4, 'dog': 3, 'fish': 4}\n"
          ]
        }
      ],
      "source": [
        "import pandas as pd\n",
        "import numpy as np\n",
        "from sklearn.feature_extraction.text import CountVectorizer\n",
        "\n",
        "texts = [\"dog cat fish\", \"dog cat cat\", \"dog cat fish fish fish\"]\n",
        "cv = CountVectorizer()\n",
        "cv_fit = cv.fit_transform(texts)\n",
        "word_list = cv.get_feature_names_out()\n",
        "\n",
        "count_list = np.asarray(cv_fit.sum(axis=0))[0]\n",
        "print(dict(zip(word_list, count_list)))"
      ]
    },
    {
      "cell_type": "code",
      "execution_count": null,
      "metadata": {
        "colab": {
          "base_uri": "https://localhost:8080/"
        },
        "id": "M7C173axunOT",
        "outputId": "2e293481-082e-4be6-d88d-1ea3c88fcad3"
      },
      "outputs": [
        {
          "data": {
            "text/plain": [
              "array(['cat', 'dog', 'fish'], dtype=object)"
            ]
          },
          "execution_count": 6,
          "metadata": {},
          "output_type": "execute_result"
        }
      ],
      "source": [
        "word_list"
      ]
    },
    {
      "cell_type": "code",
      "execution_count": null,
      "metadata": {
        "colab": {
          "base_uri": "https://localhost:8080/"
        },
        "id": "jYLHEwluu_Or",
        "outputId": "88f76525-2c91-47ee-9e3b-955fd129a410"
      },
      "outputs": [
        {
          "data": {
            "text/plain": [
              "array([[1, 1, 1],\n",
              "       [2, 1, 0],\n",
              "       [1, 1, 3]])"
            ]
          },
          "execution_count": 7,
          "metadata": {},
          "output_type": "execute_result"
        }
      ],
      "source": [
        "cv_fit.toarray()"
      ]
    },
    {
      "cell_type": "markdown",
      "metadata": {
        "id": "-YzKuljhvKiQ"
      },
      "source": [
        "advantage:\n",
        "-simple and fast.\n",
        "\n",
        "disadvantage:\n",
        "\n",
        "-no word order.\n",
        "\n",
        "-no semantic information.\n",
        "\n",
        "-no difference between important words and non-important words."
      ]
    },
    {
      "cell_type": "markdown",
      "metadata": {
        "id": "XM-YmkbLvS7J"
      },
      "source": [
        "# Tf-idf\n",
        "\n",
        "TF: Term Frequency\n",
        "IDF: Inverse document frequency"
      ]
    },
    {
      "cell_type": "code",
      "execution_count": null,
      "metadata": {
        "id": "TKZbHY76vBtA"
      },
      "outputs": [],
      "source": [
        "texts = ['ใคร|เป็น|แชมป์|ยูฟ่า','ใคร|เป็น|แชมป์|พรีเมียร์ลีก|','ใคร|เป็นแชมป์|ยูฟ่า|ปี|นี้','บอล|พรีเมียร์ลีก|ใคร|เป็น|แชมป์','ลิเวอร์พูล|เป็น|แชมป์|มั้ย|']"
      ]
    },
    {
      "cell_type": "code",
      "execution_count": null,
      "metadata": {
        "id": "WG-NSAOExe8r"
      },
      "outputs": [],
      "source": [
        "def dummy(doc):\n",
        "  return doc.split('|')"
      ]
    },
    {
      "cell_type": "code",
      "execution_count": null,
      "metadata": {
        "id": "eHY32hc6xkMw"
      },
      "outputs": [],
      "source": [
        "from sklearn.feature_extraction.text import TfidfVectorizer\n",
        "tfidf = TfidfVectorizer(max_features=10000,encoding='utf-8',use_idf=True,lowercase=False,tokenizer=dummy,preprocessor=None, stop_words=[])"
      ]
    },
    {
      "cell_type": "code",
      "execution_count": null,
      "metadata": {
        "id": "ZVAhRzYRyBWg"
      },
      "outputs": [],
      "source": [
        "# calculate by fit transform\n",
        "tfidf_fit = tfidf.fit_transform(texts)"
      ]
    },
    {
      "cell_type": "code",
      "execution_count": null,
      "metadata": {
        "colab": {
          "base_uri": "https://localhost:8080/"
        },
        "id": "0Gy1MyQYyerT",
        "outputId": "8400ce6d-b324-423e-cad0-f2645721056e"
      },
      "outputs": [
        {
          "data": {
            "text/plain": [
              "array(['', 'นี้', 'บอล', 'ปี', 'พรีเมียร์ลีก', 'มั้ย', 'ยูฟ่า',\n",
              "       'ลิเวอร์พูล', 'เป็น', 'เป็นแชมป์', 'แชมป์', 'ใคร'], dtype=object)"
            ]
          },
          "execution_count": 15,
          "metadata": {},
          "output_type": "execute_result"
        }
      ],
      "source": [
        "# all of words we have\n",
        "tfidf.get_feature_names_out()"
      ]
    },
    {
      "cell_type": "code",
      "execution_count": null,
      "metadata": {
        "colab": {
          "base_uri": "https://localhost:8080/"
        },
        "id": "GAc3k7d9yrUw",
        "outputId": "3dd25dd4-454b-48e0-c701-e315528c9e4a"
      },
      "outputs": [
        {
          "name": "stdout",
          "output_type": "stream",
          "text": [
            "ใคร|เป็น|แชมป์|ยูฟ่า\n",
            "Sent: 0 : [0.   0.   0.   0.   0.   0.   0.64 0.   0.44 0.   0.44 0.44]\n",
            "ใคร|เป็น|แชมป์|พรีเมียร์ลีก|\n",
            "Sent: 1 : [0.54 0.   0.   0.   0.54 0.   0.   0.   0.38 0.   0.38 0.38]\n",
            "ใคร|เป็นแชมป์|ยูฟ่า|ปี|นี้\n",
            "Sent: 2 : [0.   0.5  0.   0.5  0.   0.   0.41 0.   0.   0.5  0.   0.28]\n",
            "บอล|พรีเมียร์ลีก|ใคร|เป็น|แชมป์\n",
            "Sent: 3 : [0.   0.   0.62 0.   0.5  0.   0.   0.   0.35 0.   0.35 0.35]\n",
            "ลิเวอร์พูล|เป็น|แชมป์|มั้ย|\n",
            "Sent: 4 : [0.45 0.   0.   0.   0.   0.55 0.   0.55 0.31 0.   0.31 0.  ]\n"
          ]
        }
      ],
      "source": [
        "# tf-idf in each sentence\n",
        "import numpy as np\n",
        "np.set_printoptions(precision=2)\n",
        "res = tfidf_fit.toarray()\n",
        "for i, tfidf_enc in enumerate(res):\n",
        "  print(texts[i])\n",
        "  print('Sent:', i, ':', tfidf_enc)"
      ]
    },
    {
      "cell_type": "markdown",
      "metadata": {
        "id": "GrgSjS6v0FWt"
      },
      "source": [
        "advantage:\n",
        "\n",
        "-Simple and fast.\n",
        "\n",
        "-Consider the importance of word.\n",
        "\n",
        "disadvantage:\n",
        "\n",
        "-no word order.\n",
        "\n",
        "-no semantic information."
      ]
    },
    {
      "cell_type": "markdown",
      "metadata": {
        "id": "TjvoOPIi1S6t"
      },
      "source": [
        "# Word Embedding\n",
        "\n",
        "use svd(study later) for find matrix 1D to transfer matrix 3D by Co-Occurrence matrix"
      ]
    },
    {
      "cell_type": "code",
      "execution_count": null,
      "metadata": {
        "id": "1xJjjI7rzXZl"
      },
      "outputs": [],
      "source": [
        "texts = [\"I like deep learning.\", \"I like NLP.\", \"I enjoy flying.\"]\n",
        "words = ['i','like','enjoy','deep','learning','NLP','flying','.']"
      ]
    },
    {
      "cell_type": "code",
      "execution_count": null,
      "metadata": {
        "colab": {
          "base_uri": "https://localhost:8080/",
          "height": 300
        },
        "id": "qt7bRXPug-wH",
        "outputId": "6d6ae990-6763-42d0-9354-acceb010dce7"
      },
      "outputs": [
        {
          "data": {
            "text/html": [
              "\n",
              "  <div id=\"df-ae3a29b7-a202-4de2-b799-922f87247882\">\n",
              "    <div class=\"colab-df-container\">\n",
              "      <div>\n",
              "<style scoped>\n",
              "    .dataframe tbody tr th:only-of-type {\n",
              "        vertical-align: middle;\n",
              "    }\n",
              "\n",
              "    .dataframe tbody tr th {\n",
              "        vertical-align: top;\n",
              "    }\n",
              "\n",
              "    .dataframe thead th {\n",
              "        text-align: right;\n",
              "    }\n",
              "</style>\n",
              "<table border=\"1\" class=\"dataframe\">\n",
              "  <thead>\n",
              "    <tr style=\"text-align: right;\">\n",
              "      <th></th>\n",
              "      <th>i</th>\n",
              "      <th>like</th>\n",
              "      <th>enjoy</th>\n",
              "      <th>deep</th>\n",
              "      <th>learning</th>\n",
              "      <th>NLP</th>\n",
              "      <th>flying</th>\n",
              "      <th>.</th>\n",
              "    </tr>\n",
              "  </thead>\n",
              "  <tbody>\n",
              "    <tr>\n",
              "      <th>i</th>\n",
              "      <td>0</td>\n",
              "      <td>2</td>\n",
              "      <td>1</td>\n",
              "      <td>0</td>\n",
              "      <td>0</td>\n",
              "      <td>0</td>\n",
              "      <td>0</td>\n",
              "      <td>0</td>\n",
              "    </tr>\n",
              "    <tr>\n",
              "      <th>like</th>\n",
              "      <td>2</td>\n",
              "      <td>0</td>\n",
              "      <td>0</td>\n",
              "      <td>1</td>\n",
              "      <td>0</td>\n",
              "      <td>1</td>\n",
              "      <td>0</td>\n",
              "      <td>0</td>\n",
              "    </tr>\n",
              "    <tr>\n",
              "      <th>enjoy</th>\n",
              "      <td>1</td>\n",
              "      <td>0</td>\n",
              "      <td>0</td>\n",
              "      <td>0</td>\n",
              "      <td>0</td>\n",
              "      <td>0</td>\n",
              "      <td>1</td>\n",
              "      <td>0</td>\n",
              "    </tr>\n",
              "    <tr>\n",
              "      <th>deep</th>\n",
              "      <td>0</td>\n",
              "      <td>1</td>\n",
              "      <td>0</td>\n",
              "      <td>0</td>\n",
              "      <td>1</td>\n",
              "      <td>0</td>\n",
              "      <td>0</td>\n",
              "      <td>0</td>\n",
              "    </tr>\n",
              "    <tr>\n",
              "      <th>learning</th>\n",
              "      <td>0</td>\n",
              "      <td>0</td>\n",
              "      <td>0</td>\n",
              "      <td>1</td>\n",
              "      <td>0</td>\n",
              "      <td>0</td>\n",
              "      <td>0</td>\n",
              "      <td>1</td>\n",
              "    </tr>\n",
              "    <tr>\n",
              "      <th>NLP</th>\n",
              "      <td>0</td>\n",
              "      <td>1</td>\n",
              "      <td>0</td>\n",
              "      <td>0</td>\n",
              "      <td>0</td>\n",
              "      <td>0</td>\n",
              "      <td>0</td>\n",
              "      <td>1</td>\n",
              "    </tr>\n",
              "    <tr>\n",
              "      <th>flying</th>\n",
              "      <td>0</td>\n",
              "      <td>0</td>\n",
              "      <td>1</td>\n",
              "      <td>0</td>\n",
              "      <td>0</td>\n",
              "      <td>0</td>\n",
              "      <td>0</td>\n",
              "      <td>1</td>\n",
              "    </tr>\n",
              "    <tr>\n",
              "      <th>.</th>\n",
              "      <td>0</td>\n",
              "      <td>0</td>\n",
              "      <td>0</td>\n",
              "      <td>0</td>\n",
              "      <td>1</td>\n",
              "      <td>1</td>\n",
              "      <td>1</td>\n",
              "      <td>0</td>\n",
              "    </tr>\n",
              "  </tbody>\n",
              "</table>\n",
              "</div>\n",
              "      <button class=\"colab-df-convert\" onclick=\"convertToInteractive('df-ae3a29b7-a202-4de2-b799-922f87247882')\"\n",
              "              title=\"Convert this dataframe to an interactive table.\"\n",
              "              style=\"display:none;\">\n",
              "        \n",
              "  <svg xmlns=\"http://www.w3.org/2000/svg\" height=\"24px\"viewBox=\"0 0 24 24\"\n",
              "       width=\"24px\">\n",
              "    <path d=\"M0 0h24v24H0V0z\" fill=\"none\"/>\n",
              "    <path d=\"M18.56 5.44l.94 2.06.94-2.06 2.06-.94-2.06-.94-.94-2.06-.94 2.06-2.06.94zm-11 1L8.5 8.5l.94-2.06 2.06-.94-2.06-.94L8.5 2.5l-.94 2.06-2.06.94zm10 10l.94 2.06.94-2.06 2.06-.94-2.06-.94-.94-2.06-.94 2.06-2.06.94z\"/><path d=\"M17.41 7.96l-1.37-1.37c-.4-.4-.92-.59-1.43-.59-.52 0-1.04.2-1.43.59L10.3 9.45l-7.72 7.72c-.78.78-.78 2.05 0 2.83L4 21.41c.39.39.9.59 1.41.59.51 0 1.02-.2 1.41-.59l7.78-7.78 2.81-2.81c.8-.78.8-2.07 0-2.86zM5.41 20L4 18.59l7.72-7.72 1.47 1.35L5.41 20z\"/>\n",
              "  </svg>\n",
              "      </button>\n",
              "      \n",
              "  <style>\n",
              "    .colab-df-container {\n",
              "      display:flex;\n",
              "      flex-wrap:wrap;\n",
              "      gap: 12px;\n",
              "    }\n",
              "\n",
              "    .colab-df-convert {\n",
              "      background-color: #E8F0FE;\n",
              "      border: none;\n",
              "      border-radius: 50%;\n",
              "      cursor: pointer;\n",
              "      display: none;\n",
              "      fill: #1967D2;\n",
              "      height: 32px;\n",
              "      padding: 0 0 0 0;\n",
              "      width: 32px;\n",
              "    }\n",
              "\n",
              "    .colab-df-convert:hover {\n",
              "      background-color: #E2EBFA;\n",
              "      box-shadow: 0px 1px 2px rgba(60, 64, 67, 0.3), 0px 1px 3px 1px rgba(60, 64, 67, 0.15);\n",
              "      fill: #174EA6;\n",
              "    }\n",
              "\n",
              "    [theme=dark] .colab-df-convert {\n",
              "      background-color: #3B4455;\n",
              "      fill: #D2E3FC;\n",
              "    }\n",
              "\n",
              "    [theme=dark] .colab-df-convert:hover {\n",
              "      background-color: #434B5C;\n",
              "      box-shadow: 0px 1px 3px 1px rgba(0, 0, 0, 0.15);\n",
              "      filter: drop-shadow(0px 1px 2px rgba(0, 0, 0, 0.3));\n",
              "      fill: #FFFFFF;\n",
              "    }\n",
              "  </style>\n",
              "\n",
              "      <script>\n",
              "        const buttonEl =\n",
              "          document.querySelector('#df-ae3a29b7-a202-4de2-b799-922f87247882 button.colab-df-convert');\n",
              "        buttonEl.style.display =\n",
              "          google.colab.kernel.accessAllowed ? 'block' : 'none';\n",
              "\n",
              "        async function convertToInteractive(key) {\n",
              "          const element = document.querySelector('#df-ae3a29b7-a202-4de2-b799-922f87247882');\n",
              "          const dataTable =\n",
              "            await google.colab.kernel.invokeFunction('convertToInteractive',\n",
              "                                                     [key], {});\n",
              "          if (!dataTable) return;\n",
              "\n",
              "          const docLinkHtml = 'Like what you see? Visit the ' +\n",
              "            '<a target=\"_blank\" href=https://colab.research.google.com/notebooks/data_table.ipynb>data table notebook</a>'\n",
              "            + ' to learn more about interactive tables.';\n",
              "          element.innerHTML = '';\n",
              "          dataTable['output_type'] = 'display_data';\n",
              "          await google.colab.output.renderOutput(dataTable, element);\n",
              "          const docLink = document.createElement('div');\n",
              "          docLink.innerHTML = docLinkHtml;\n",
              "          element.appendChild(docLink);\n",
              "        }\n",
              "      </script>\n",
              "    </div>\n",
              "  </div>\n",
              "  "
            ],
            "text/plain": [
              "          i  like  enjoy  deep  learning  NLP  flying  .\n",
              "i         0     2      1     0         0    0       0  0\n",
              "like      2     0      0     1         0    1       0  0\n",
              "enjoy     1     0      0     0         0    0       1  0\n",
              "deep      0     1      0     0         1    0       0  0\n",
              "learning  0     0      0     1         0    0       0  1\n",
              "NLP       0     1      0     0         0    0       0  1\n",
              "flying    0     0      1     0         0    0       0  1\n",
              ".         0     0      0     0         1    1       1  0"
            ]
          },
          "execution_count": 31,
          "metadata": {},
          "output_type": "execute_result"
        }
      ],
      "source": [
        "# Co-Occurrence matrix by numpy to dataframe\n",
        "import pandas as pd\n",
        "X = np.array(\n",
        "    [\n",
        "      [0,2,1,0,0,0,0,0],\n",
        "      [2,0,0,1,0,1,0,0],\n",
        "      [1,0,0,0,0,0,1,0],\n",
        "      [0,1,0,0,1,0,0,0],\n",
        "      [0,0,0,1,0,0,0,1],\n",
        "      [0,1,0,0,0,0,0,1],\n",
        "      [0,0,1,0,0,0,0,1],\n",
        "      [0,0,0,0,1,1,1,0]\n",
        "    ]\n",
        ")\n",
        "df = pd.DataFrame(\n",
        "    data = X,\n",
        "    columns = words,\n",
        "    index = words)\n",
        "df"
      ]
    },
    {
      "cell_type": "code",
      "execution_count": null,
      "metadata": {
        "id": "Ll-y54HZheir"
      },
      "outputs": [],
      "source": [
        "# use Co-Occurrence matrix by linear argebra\n",
        "# transfer X (1D matrix) to U, s, Vh(3D matrix)\n",
        "la = np.linalg\n",
        "U, s, Vh = la.svd(X, full_matrices=False)"
      ]
    },
    {
      "cell_type": "code",
      "execution_count": null,
      "metadata": {
        "colab": {
          "base_uri": "https://localhost:8080/",
          "height": 435
        },
        "id": "d9dYPoHhjNPf",
        "outputId": "30803260-937c-47d3-9120-53f1c94e1264"
      },
      "outputs": [
        {
          "data": {
            "image/png": "[encoded data removed]",
            "text/plain": [
              "<Figure size 640x480 with 1 Axes>"
            ]
          },
          "metadata": {},
          "output_type": "display_data"
        }
      ],
      "source": [
        "# plot 3D matrix for fine relation word in sentence\n",
        "import matplotlib.pyplot as plt\n",
        "for i in range(len(words)):\n",
        "  plt.text(U[i,0], U[i,1], words[i])\n",
        "plt.ylim(-0.8,0.8)\n",
        "plt.xlim(-0.8,0.2)\n",
        "plt.show()"
      ]
    },
    {
      "cell_type": "markdown",
      "metadata": {
        "id": "SyA_mjz9knfV"
      },
      "source": [
        "advantage:\n",
        "\n",
        "-word order.\n",
        "\n",
        "-semantic information.\n",
        "\n",
        "-Co-occurrence-based\n",
        "\n",
        "disadvantage:\n",
        "\n",
        "use time to calculate and if we has a new word should calculate again\n"
      ]
    },
    {
      "cell_type": "markdown",
      "metadata": {
        "id": "AxN3vecbmfa4"
      },
      "source": [
        "other Word Embedding:\n",
        "\n",
        "GloVe and BERT"
      ]
    }
  ],
  "metadata": {
    "colab": {
      "provenance": [],
      "toc_visible": true
    },
    "kernelspec": {
      "display_name": "Python 3",
      "name": "python3"
    },
    "language_info": {
      "name": "python"
    }
  },
  "nbformat": 4,
  "nbformat_minor": 0
}