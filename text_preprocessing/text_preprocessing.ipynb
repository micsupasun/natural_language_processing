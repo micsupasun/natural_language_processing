{
  "nbformat": 4,
  "nbformat_minor": 0,
  "metadata": {
    "colab": {
      "provenance": [],
      "toc_visible": true
    },
    "kernelspec": {
      "name": "python3",
      "display_name": "Python 3"
    },
    "language_info": {
      "name": "python"
    }
  },
  "cells": [
    {
      "cell_type": "markdown",
      "source": [
        "# IMPORT LIBRARY"
      ],
      "metadata": {
        "id": "o2maWlJwsN5D"
      }
    },
    {
      "cell_type": "code",
      "execution_count": null,
      "metadata": {
        "colab": {
          "base_uri": "https://localhost:8080/"
        },
        "id": "e1YjJri_sJYR",
        "outputId": "04065870-5e82-4fde-93ef-b121fdad7918"
      },
      "outputs": [
        {
          "output_type": "stream",
          "name": "stderr",
          "text": [
            "[nltk_data] Downloading package wordnet to /root/nltk_data...\n",
            "[nltk_data]   Package wordnet is already up-to-date!\n",
            "[nltk_data] Downloading package stopwords to /root/nltk_data...\n",
            "[nltk_data]   Package stopwords is already up-to-date!\n"
          ]
        }
      ],
      "source": [
        "import pandas as pd\n",
        "import re\n",
        "import nltk\n",
        "nltk.download('wordnet')\n",
        "nltk.download('stopwords')\n",
        "# Stemming\n",
        "from nltk.stem.porter import PorterStemmer\n",
        "porter_stemmer = PorterStemmer()\n",
        "# Lemmatisation\n",
        "from nltk.stem.wordnet import WordNetLemmatizer\n",
        "wordnet_lemma = WordNetLemmatizer()\n",
        "# stopwords\n",
        "stopwords = nltk.corpus.stopwords.words('english')\n",
        "# Text Enrichment / Augmmentation\n",
        "from nltk.corpus import wordnet\n"
      ]
    },
    {
      "cell_type": "markdown",
      "source": [
        "# Text Preprocessing\n",
        "Text Preprocessing is process to clean word\n",
        "- Lowercasing\n",
        "- Stemming\n",
        "- Lemmatisation\n",
        "- Stopword Removal\n",
        "- Normalization\n",
        "- Noise Removal\n",
        "- Text Enrichment / Augmmentation"
      ],
      "metadata": {
        "id": "9Ezpu32AsTec"
      }
    },
    {
      "cell_type": "markdown",
      "source": [
        "## Lowercasing\n",
        "uppercase to smallcase"
      ],
      "metadata": {
        "id": "y-4wK_Z0-El1"
      }
    },
    {
      "cell_type": "code",
      "source": [
        "text = \"Thailand know formerly as Siam and officially as the Kingdom of Thailand, is a country in Southeast Asia\"\n",
        "lower_case = text.lower()\n",
        "lower_case"
      ],
      "metadata": {
        "colab": {
          "base_uri": "https://localhost:8080/",
          "height": 54
        },
        "id": "dD8kHXGCsWVg",
        "outputId": "fa5fb7d9-e264-4f06-858d-2c6e21180f31"
      },
      "execution_count": null,
      "outputs": [
        {
          "output_type": "execute_result",
          "data": {
            "text/plain": [
              "'thailand know formerly as siam and officially as the kingdom of thailand, is a country in southeast asia'"
            ],
            "application/vnd.google.colaboratory.intrinsic+json": {
              "type": "string"
            }
          },
          "metadata": {},
          "execution_count": 15
        }
      ]
    },
    {
      "cell_type": "markdown",
      "source": [
        "## Stemming\n",
        "Stemming is the process of cutting off the end of a word in a rough way with Heuristic, which works quite well. For most, but not all, English words.\n",
        "\n",
        "such as connected, connecting connections ==> connect"
      ],
      "metadata": {
        "id": "ToEFH8FB-t2f"
      }
    },
    {
      "cell_type": "code",
      "source": [
        "# porter_stemmer.stem(text.split(\" \"))\n",
        "list_word = lower_case.split(\" \")\n",
        "stemming_word = [porter_stemmer.stem(list_word[i]) for i in range(len(list_word))]\n",
        "stemming_word"
      ],
      "metadata": {
        "colab": {
          "base_uri": "https://localhost:8080/"
        },
        "id": "I4bIWd9F-hWd",
        "outputId": "77e60268-3421-46b8-9bc5-81a5100d5ac7"
      },
      "execution_count": null,
      "outputs": [
        {
          "output_type": "execute_result",
          "data": {
            "text/plain": [
              "['thailand',\n",
              " 'know',\n",
              " 'formerli',\n",
              " 'as',\n",
              " 'siam',\n",
              " 'and',\n",
              " 'offici',\n",
              " 'as',\n",
              " 'the',\n",
              " 'kingdom',\n",
              " 'of',\n",
              " 'thailand,',\n",
              " 'is',\n",
              " 'a',\n",
              " 'countri',\n",
              " 'in',\n",
              " 'southeast',\n",
              " 'asia']"
            ]
          },
          "metadata": {},
          "execution_count": 18
        }
      ]
    },
    {
      "cell_type": "markdown",
      "source": [
        "## Lemmatisation\n",
        "Eliminate Inflection of words such as Gender, Tense, Sound, Mood, Number.\n",
        "\n",
        "such as am, are, is ==> be\n",
        "\n",
        "better ==> good"
      ],
      "metadata": {
        "id": "P1U0I1bw_KBA"
      }
    },
    {
      "cell_type": "code",
      "source": [
        "lemmatisation_word = [wordnet_lemma.lemmatize(list_word[i]) for i in range(len(list_word))]\n",
        "lemmatisation_word"
      ],
      "metadata": {
        "colab": {
          "base_uri": "https://localhost:8080/"
        },
        "id": "acz-7Gfh_jsJ",
        "outputId": "c91cb28f-4719-44bb-9f1c-b88e5ba17822"
      },
      "execution_count": null,
      "outputs": [
        {
          "output_type": "execute_result",
          "data": {
            "text/plain": [
              "['thailand',\n",
              " 'know',\n",
              " 'formerly',\n",
              " 'a',\n",
              " 'siam',\n",
              " 'and',\n",
              " 'officially',\n",
              " 'a',\n",
              " 'the',\n",
              " 'kingdom',\n",
              " 'of',\n",
              " 'thailand,',\n",
              " 'is',\n",
              " 'a',\n",
              " 'country',\n",
              " 'in',\n",
              " 'southeast',\n",
              " 'asia']"
            ]
          },
          "metadata": {},
          "execution_count": 19
        }
      ]
    },
    {
      "cell_type": "markdown",
      "source": [
        "## Stemming vs Lemmatisation"
      ],
      "metadata": {
        "id": "Rw_g4qzbA0Fa"
      }
    },
    {
      "cell_type": "code",
      "source": [
        "def display_lemma_porter(text):\n",
        "  print(f\"{'word':<12}\\t{'lemma':<12}\\t{'stem':<12}\")\n",
        "  print(\"-\"*50)\n",
        "  for word in text:\n",
        "    print(f\"{word:12}\\t{wordnet_lemma.lemmatize(word):12}\\t{porter_stemmer.stem(word):12}\")"
      ],
      "metadata": {
        "id": "7zbXxghPAzRc"
      },
      "execution_count": null,
      "outputs": []
    },
    {
      "cell_type": "code",
      "source": [
        "# good for lemma and stem\n",
        "word_list = [\"foot\",\"feet\",\"foots\",\"footing\"]\n",
        "display_lemma_porter(word_list)"
      ],
      "metadata": {
        "colab": {
          "base_uri": "https://localhost:8080/"
        },
        "id": "q-Ud3C10B4L1",
        "outputId": "99f9fc98-a23f-4563-a413-d3cb8519bcaf"
      },
      "execution_count": null,
      "outputs": [
        {
          "output_type": "stream",
          "name": "stdout",
          "text": [
            "word        \tlemma       \tstem        \n",
            "--------------------------------------------------\n",
            "foot        \tfoot        \tfoot        \n",
            "feet        \tfoot        \tfeet        \n",
            "foots       \tfoot        \tfoot        \n",
            "footing     \tfooting     \tfoot        \n"
          ]
        }
      ]
    },
    {
      "cell_type": "code",
      "source": [
        "# stemming is not ok\n",
        "word_list = [\"fly\",\"files\",\"flying\",\"flew\",\"flown\"]\n",
        "display_lemma_porter(word_list)"
      ],
      "metadata": {
        "colab": {
          "base_uri": "https://localhost:8080/"
        },
        "id": "uhr2YFn3CNkB",
        "outputId": "de743219-76e6-4480-b212-99cc4a64e5c7"
      },
      "execution_count": null,
      "outputs": [
        {
          "output_type": "stream",
          "name": "stdout",
          "text": [
            "word        \tlemma       \tstem        \n",
            "--------------------------------------------------\n",
            "fly         \tfly         \tfli         \n",
            "files       \tfile        \tfile        \n",
            "flying      \tflying      \tfli         \n",
            "flew        \tflew        \tflew        \n",
            "flown       \tflown       \tflown       \n"
          ]
        }
      ]
    },
    {
      "cell_type": "code",
      "source": [
        "# stemming is not ok\n",
        "word_list = [\"universe\",\"university\",\"univalsal\"]\n",
        "display_lemma_porter(word_list)"
      ],
      "metadata": {
        "colab": {
          "base_uri": "https://localhost:8080/"
        },
        "id": "hi5QpSBlCUpU",
        "outputId": "ae302a81-1833-4512-ce96-d88e06bd79f9"
      },
      "execution_count": null,
      "outputs": [
        {
          "output_type": "stream",
          "name": "stdout",
          "text": [
            "word        \tlemma       \tstem        \n",
            "--------------------------------------------------\n",
            "universe    \tuniverse    \tunivers     \n",
            "university  \tuniversity  \tunivers     \n",
            "univalsal   \tunivalsal   \tunivals     \n"
          ]
        }
      ]
    },
    {
      "cell_type": "code",
      "source": [
        "# stemming is not ok\n",
        "word_list = \"The formatting operations described here exhibit a variety of quirks that lead to a number of common errors\".split(\" \")\n",
        "display_lemma_porter(word_list)"
      ],
      "metadata": {
        "colab": {
          "base_uri": "https://localhost:8080/"
        },
        "id": "jA7byu9kCsyH",
        "outputId": "df92a1b0-2266-467d-8f70-f5181f4aef36"
      },
      "execution_count": null,
      "outputs": [
        {
          "output_type": "stream",
          "name": "stdout",
          "text": [
            "word        \tlemma       \tstem        \n",
            "--------------------------------------------------\n",
            "The         \tThe         \tthe         \n",
            "formatting  \tformatting  \tformat      \n",
            "operations  \toperation   \toper        \n",
            "described   \tdescribed   \tdescrib     \n",
            "here        \there        \there        \n",
            "exhibit     \texhibit     \texhibit     \n",
            "a           \ta           \ta           \n",
            "variety     \tvariety     \tvarieti     \n",
            "of          \tof          \tof          \n",
            "quirks      \tquirk       \tquirk       \n",
            "that        \tthat        \tthat        \n",
            "lead        \tlead        \tlead        \n",
            "to          \tto          \tto          \n",
            "a           \ta           \ta           \n",
            "number      \tnumber      \tnumber      \n",
            "of          \tof          \tof          \n",
            "common      \tcommon      \tcommon      \n",
            "errors      \terror       \terror       \n"
          ]
        }
      ]
    },
    {
      "cell_type": "markdown",
      "source": [
        "## Stopword Removal\n",
        "Stop Words are common words that we often encounter in sentences or documents but rarely help convey meaning.\n",
        "\n",
        "such as a, an the"
      ],
      "metadata": {
        "id": "r6TjYZ50HB6s"
      }
    },
    {
      "cell_type": "code",
      "source": [
        "def remove_stopwords(text):\n",
        "  output = [i for i in text if i not in stopwords]\n",
        "  return output\n",
        "print(\"Original text:\", word_list)\n",
        "print(\"Remove_stopword:\", remove_stopwords(word_list))"
      ],
      "metadata": {
        "colab": {
          "base_uri": "https://localhost:8080/"
        },
        "id": "AZ0N8zVgGpMx",
        "outputId": "0b6a171e-ae84-4bce-c035-c401c3f320c6"
      },
      "execution_count": null,
      "outputs": [
        {
          "output_type": "stream",
          "name": "stdout",
          "text": [
            "Original text: ['The', 'formatting', 'operations', 'described', 'here', 'exhibit', 'a', 'variety', 'of', 'quirks', 'that', 'lead', 'to', 'a', 'number', 'of', 'common', 'errors']\n",
            "Remove_stopword: ['The', 'formatting', 'operations', 'described', 'exhibit', 'variety', 'quirks', 'lead', 'number', 'common', 'errors']\n"
          ]
        }
      ]
    },
    {
      "cell_type": "markdown",
      "source": [
        "## Normalization\n",
        "making or changing words with the same meaning but with different writing methods to be in the same form\n",
        "\n",
        "such as 2 moro, 2mrrw, 2morrow, 2mrw, tomrw ==>tomorrow\n",
        "\n",
        ":) :-) ;-) ==> smile"
      ],
      "metadata": {
        "id": "AsWaofu5Os7v"
      }
    },
    {
      "cell_type": "code",
      "source": [
        "norm_dict = {\n",
        "    '2moro':\"tomorrow\",\n",
        "    '2mrrw':\"tomorrow\",\n",
        "    '2morrow':\"tomorrow\",\n",
        "    '2mrw':\"tomorrow\",\n",
        "    'tomrw':\"tomorrow\",\n",
        "    'b4':\"before\",\n",
        "    'otw':\"on the way\",\n",
        "    ':)':\"smile\",\n",
        "    ':-)':\"smile\",\n",
        "    ';-)':\"smile\",\n",
        "}\n",
        "def normalise(text):\n",
        "  res = [norm_dict[w] if w in norm_dict else w for w in text]\n",
        "  return res\n",
        "word_list = [\"2moro\",\"2mrrw\",\"2morrow\",\"2mrw\",\"tomrw\",\"b4\"]\n",
        "normalise(word_list)"
      ],
      "metadata": {
        "colab": {
          "base_uri": "https://localhost:8080/"
        },
        "id": "z70YaRchOHXZ",
        "outputId": "cd3a8989-4809-459a-f50a-69456469cc1e"
      },
      "execution_count": null,
      "outputs": [
        {
          "output_type": "execute_result",
          "data": {
            "text/plain": [
              "['tomorrow', 'tomorrow', 'tomorrow', 'tomorrow', 'tomorrow', 'before']"
            ]
          },
          "metadata": {},
          "execution_count": 30
        }
      ]
    },
    {
      "cell_type": "markdown",
      "source": [
        "## Noise Removal\n",
        "process of deleting characters, numerals, and tex fragments that not relate word in sentence\n",
        "\n",
        "such as \"...test..a> ==>test"
      ],
      "metadata": {
        "id": "5dp0_wnuQyZd"
      }
    },
    {
      "cell_type": "code",
      "source": [
        "import pandas as pd\n",
        "import re\n",
        "def scrub_words(text):\n",
        "  # remove html markup\n",
        "  text = re.sub(\"(<.*?>)\",\"\",text)\n",
        "  # remove non-ascii and digits\n",
        "  text = re.sub(\"(\\\\W|\\\\d)\",\" \", text)\n",
        "  # remove whitespace\n",
        "  text = text.strip()\n",
        "  return text\n",
        "raw_words = [\"..trouble..\", \"trouble<\",\"trouble!\",\"<a>trouble</a>\",\"1.trouble\"]\n",
        "cleaned_words = [scrub_words(w) for w in raw_words]\n",
        "stemdf = pd.DataFrame({'raw_word': raw_words, 'cleaned_word':cleaned_words})\n",
        "stemdf = stemdf[['raw_word','cleaned_word']]\n",
        "stemdf"
      ],
      "metadata": {
        "colab": {
          "base_uri": "https://localhost:8080/",
          "height": 206
        },
        "id": "8IG2PjBmQaMJ",
        "outputId": "95fd53ae-a3cf-4b3d-c338-06a99577a0ab"
      },
      "execution_count": null,
      "outputs": [
        {
          "output_type": "execute_result",
          "data": {
            "text/plain": [
              "         raw_word cleaned_word\n",
              "0     ..trouble..      trouble\n",
              "1        trouble<      trouble\n",
              "2        trouble!      trouble\n",
              "3  <a>trouble</a>      trouble\n",
              "4       1.trouble      trouble"
            ],
            "text/html": [
              "\n",
              "  <div id=\"df-30890bba-e42c-4a0e-8db7-4c8fb3e85770\">\n",
              "    <div class=\"colab-df-container\">\n",
              "      <div>\n",
              "<style scoped>\n",
              "    .dataframe tbody tr th:only-of-type {\n",
              "        vertical-align: middle;\n",
              "    }\n",
              "\n",
              "    .dataframe tbody tr th {\n",
              "        vertical-align: top;\n",
              "    }\n",
              "\n",
              "    .dataframe thead th {\n",
              "        text-align: right;\n",
              "    }\n",
              "</style>\n",
              "<table border=\"1\" class=\"dataframe\">\n",
              "  <thead>\n",
              "    <tr style=\"text-align: right;\">\n",
              "      <th></th>\n",
              "      <th>raw_word</th>\n",
              "      <th>cleaned_word</th>\n",
              "    </tr>\n",
              "  </thead>\n",
              "  <tbody>\n",
              "    <tr>\n",
              "      <th>0</th>\n",
              "      <td>..trouble..</td>\n",
              "      <td>trouble</td>\n",
              "    </tr>\n",
              "    <tr>\n",
              "      <th>1</th>\n",
              "      <td>trouble&lt;</td>\n",
              "      <td>trouble</td>\n",
              "    </tr>\n",
              "    <tr>\n",
              "      <th>2</th>\n",
              "      <td>trouble!</td>\n",
              "      <td>trouble</td>\n",
              "    </tr>\n",
              "    <tr>\n",
              "      <th>3</th>\n",
              "      <td>&lt;a&gt;trouble&lt;/a&gt;</td>\n",
              "      <td>trouble</td>\n",
              "    </tr>\n",
              "    <tr>\n",
              "      <th>4</th>\n",
              "      <td>1.trouble</td>\n",
              "      <td>trouble</td>\n",
              "    </tr>\n",
              "  </tbody>\n",
              "</table>\n",
              "</div>\n",
              "      <button class=\"colab-df-convert\" onclick=\"convertToInteractive('df-30890bba-e42c-4a0e-8db7-4c8fb3e85770')\"\n",
              "              title=\"Convert this dataframe to an interactive table.\"\n",
              "              style=\"display:none;\">\n",
              "        \n",
              "  <svg xmlns=\"http://www.w3.org/2000/svg\" height=\"24px\"viewBox=\"0 0 24 24\"\n",
              "       width=\"24px\">\n",
              "    <path d=\"M0 0h24v24H0V0z\" fill=\"none\"/>\n",
              "    <path d=\"M18.56 5.44l.94 2.06.94-2.06 2.06-.94-2.06-.94-.94-2.06-.94 2.06-2.06.94zm-11 1L8.5 8.5l.94-2.06 2.06-.94-2.06-.94L8.5 2.5l-.94 2.06-2.06.94zm10 10l.94 2.06.94-2.06 2.06-.94-2.06-.94-.94-2.06-.94 2.06-2.06.94z\"/><path d=\"M17.41 7.96l-1.37-1.37c-.4-.4-.92-.59-1.43-.59-.52 0-1.04.2-1.43.59L10.3 9.45l-7.72 7.72c-.78.78-.78 2.05 0 2.83L4 21.41c.39.39.9.59 1.41.59.51 0 1.02-.2 1.41-.59l7.78-7.78 2.81-2.81c.8-.78.8-2.07 0-2.86zM5.41 20L4 18.59l7.72-7.72 1.47 1.35L5.41 20z\"/>\n",
              "  </svg>\n",
              "      </button>\n",
              "      \n",
              "  <style>\n",
              "    .colab-df-container {\n",
              "      display:flex;\n",
              "      flex-wrap:wrap;\n",
              "      gap: 12px;\n",
              "    }\n",
              "\n",
              "    .colab-df-convert {\n",
              "      background-color: #E8F0FE;\n",
              "      border: none;\n",
              "      border-radius: 50%;\n",
              "      cursor: pointer;\n",
              "      display: none;\n",
              "      fill: #1967D2;\n",
              "      height: 32px;\n",
              "      padding: 0 0 0 0;\n",
              "      width: 32px;\n",
              "    }\n",
              "\n",
              "    .colab-df-convert:hover {\n",
              "      background-color: #E2EBFA;\n",
              "      box-shadow: 0px 1px 2px rgba(60, 64, 67, 0.3), 0px 1px 3px 1px rgba(60, 64, 67, 0.15);\n",
              "      fill: #174EA6;\n",
              "    }\n",
              "\n",
              "    [theme=dark] .colab-df-convert {\n",
              "      background-color: #3B4455;\n",
              "      fill: #D2E3FC;\n",
              "    }\n",
              "\n",
              "    [theme=dark] .colab-df-convert:hover {\n",
              "      background-color: #434B5C;\n",
              "      box-shadow: 0px 1px 3px 1px rgba(0, 0, 0, 0.15);\n",
              "      filter: drop-shadow(0px 1px 2px rgba(0, 0, 0, 0.3));\n",
              "      fill: #FFFFFF;\n",
              "    }\n",
              "  </style>\n",
              "\n",
              "      <script>\n",
              "        const buttonEl =\n",
              "          document.querySelector('#df-30890bba-e42c-4a0e-8db7-4c8fb3e85770 button.colab-df-convert');\n",
              "        buttonEl.style.display =\n",
              "          google.colab.kernel.accessAllowed ? 'block' : 'none';\n",
              "\n",
              "        async function convertToInteractive(key) {\n",
              "          const element = document.querySelector('#df-30890bba-e42c-4a0e-8db7-4c8fb3e85770');\n",
              "          const dataTable =\n",
              "            await google.colab.kernel.invokeFunction('convertToInteractive',\n",
              "                                                     [key], {});\n",
              "          if (!dataTable) return;\n",
              "\n",
              "          const docLinkHtml = 'Like what you see? Visit the ' +\n",
              "            '<a target=\"_blank\" href=https://colab.research.google.com/notebooks/data_table.ipynb>data table notebook</a>'\n",
              "            + ' to learn more about interactive tables.';\n",
              "          element.innerHTML = '';\n",
              "          dataTable['output_type'] = 'display_data';\n",
              "          await google.colab.output.renderOutput(dataTable, element);\n",
              "          const docLink = document.createElement('div');\n",
              "          docLink.innerHTML = docLinkHtml;\n",
              "          element.appendChild(docLink);\n",
              "        }\n",
              "      </script>\n",
              "    </div>\n",
              "  </div>\n",
              "  "
            ]
          },
          "metadata": {},
          "execution_count": 34
        }
      ]
    },
    {
      "cell_type": "markdown",
      "source": [
        "## Text Enrichment / Augmmentation\n",
        "looking synonym words from wordnet or add some word for improve model"
      ],
      "metadata": {
        "id": "tpeHx7ZsTL_u"
      }
    },
    {
      "cell_type": "code",
      "source": [
        "syns = wordnet.synsets(\"program\")\n",
        "syns"
      ],
      "metadata": {
        "colab": {
          "base_uri": "https://localhost:8080/"
        },
        "id": "0ZSE5rZKS9AE",
        "outputId": "3a4c1f5e-8d3e-4f8e-912d-499bccb7cf04"
      },
      "execution_count": null,
      "outputs": [
        {
          "output_type": "execute_result",
          "data": {
            "text/plain": [
              "[Synset('plan.n.01'),\n",
              " Synset('program.n.02'),\n",
              " Synset('broadcast.n.02'),\n",
              " Synset('platform.n.02'),\n",
              " Synset('program.n.05'),\n",
              " Synset('course_of_study.n.01'),\n",
              " Synset('program.n.07'),\n",
              " Synset('program.n.08'),\n",
              " Synset('program.v.01'),\n",
              " Synset('program.v.02')]"
            ]
          },
          "metadata": {},
          "execution_count": 36
        }
      ]
    },
    {
      "cell_type": "code",
      "source": [
        "[s.lemmas()[0].name() for s in syns]"
      ],
      "metadata": {
        "colab": {
          "base_uri": "https://localhost:8080/"
        },
        "id": "-b2c7KRET0SQ",
        "outputId": "ec1d5612-cebe-49e6-fa48-98a5fc26d315"
      },
      "execution_count": null,
      "outputs": [
        {
          "output_type": "execute_result",
          "data": {
            "text/plain": [
              "['plan',\n",
              " 'program',\n",
              " 'broadcast',\n",
              " 'platform',\n",
              " 'program',\n",
              " 'course_of_study',\n",
              " 'program',\n",
              " 'program',\n",
              " 'program',\n",
              " 'program']"
            ]
          },
          "metadata": {},
          "execution_count": 37
        }
      ]
    },
    {
      "cell_type": "code",
      "source": [],
      "metadata": {
        "id": "Rpr-B557UElK"
      },
      "execution_count": null,
      "outputs": []
    }
  ]
}