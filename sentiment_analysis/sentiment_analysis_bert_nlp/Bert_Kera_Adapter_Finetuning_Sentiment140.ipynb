{
  "nbformat": 4,
  "nbformat_minor": 0,
  "metadata": {
    "colab": {
      "provenance": []
    },
    "kernelspec": {
      "name": "python3",
      "display_name": "Python 3"
    },
    "accelerator": "GPU"
  },
  "cells": [
    {
      "cell_type": "markdown",
      "metadata": {
        "id": "dCpvgG0vwXAZ"
      },
      "source": [
        "#Predicting Text Sentimental Analysis with BERT\n",
        "## Technique: Bert-Keras\n",
        "## Model: Softmax\n",
        "## Data: Sentiment140\n"
      ]
    },
    {
      "cell_type": "markdown",
      "metadata": {
        "id": "gBzNbr4wHEvY"
      },
      "source": [
        "General Concept:\n",
        "\n",
        "\n",
        "*   https://ai.googleblog.com/2018/11/open-sourcing-bert-state-of-art-pre.html\n",
        "*   https://github.com/google-research/bert\n",
        "\n"
      ]
    },
    {
      "cell_type": "code",
      "metadata": {
        "id": "hsZvic2YxnTz",
        "outputId": "639345bc-734a-45b1-b22d-ef6a68d1d102",
        "colab": {
          "base_uri": "https://localhost:8080/",
          "height": 34
        }
      },
      "source": [
        "%tensorflow_version 1.x\n",
        "import pandas as pd\n",
        "import tensorflow as tf\n",
        "import tensorflow_hub as hub\n",
        "from datetime import datetime\n",
        "from tensorflow import keras\n",
        "import os\n",
        "import re\n",
        "import numpy as np"
      ],
      "execution_count": null,
      "outputs": [
        {
          "output_type": "stream",
          "text": [
            "TensorFlow 1.x selected.\n"
          ],
          "name": "stdout"
        }
      ]
    },
    {
      "cell_type": "code",
      "metadata": {
        "id": "p6yuJNSVZHcs"
      },
      "source": [
        "import matplotlib.pyplot as plt\n",
        "import pandas as pd"
      ],
      "execution_count": null,
      "outputs": []
    },
    {
      "cell_type": "markdown",
      "metadata": {
        "id": "NWQGmFF8HcEy"
      },
      "source": [
        "Loading bert-tensorflow library\n",
        "\n",
        "\n",
        "*   https://pypi.org/project/bert-tensorflow/\n",
        "*   https://github.com/google-research/bert\n",
        "\n"
      ]
    },
    {
      "cell_type": "code",
      "metadata": {
        "id": "jviywGyWyKsA",
        "outputId": "cc3b77cf-82a0-4d52-ccd6-d6a3b3078491",
        "colab": {
          "base_uri": "https://localhost:8080/",
          "height": 119
        }
      },
      "source": [
        "!pip install bert-tensorflow"
      ],
      "execution_count": null,
      "outputs": [
        {
          "output_type": "stream",
          "text": [
            "Collecting bert-tensorflow\n",
            "\u001b[?25l  Downloading https://files.pythonhosted.org/packages/20/16/0f9376af49c6adcfbaf2470a8f500105a74dd803aa54ac0110af445837b5/bert_tensorflow-1.0.4-py2.py3-none-any.whl (64kB)\n",
            "\r\u001b[K     |█████                           | 10kB 29.6MB/s eta 0:00:01\r\u001b[K     |██████████▏                     | 20kB 21.7MB/s eta 0:00:01\r\u001b[K     |███████████████▎                | 30kB 17.2MB/s eta 0:00:01\r\u001b[K     |████████████████████▍           | 40kB 13.0MB/s eta 0:00:01\r\u001b[K     |█████████████████████████▍      | 51kB 11.8MB/s eta 0:00:01\r\u001b[K     |██████████████████████████████▌ | 61kB 11.1MB/s eta 0:00:01\r\u001b[K     |████████████████████████████████| 71kB 6.4MB/s \n",
            "\u001b[?25hRequirement already satisfied: six in /usr/local/lib/python3.6/dist-packages (from bert-tensorflow) (1.15.0)\n",
            "Installing collected packages: bert-tensorflow\n",
            "Successfully installed bert-tensorflow-1.0.4\n"
          ],
          "name": "stdout"
        }
      ]
    },
    {
      "cell_type": "code",
      "metadata": {
        "id": "hhbGEfwgdEtw"
      },
      "source": [
        "import bert\n",
        "from bert import run_classifier\n",
        "from bert import optimization\n",
        "from bert import tokenization"
      ],
      "execution_count": null,
      "outputs": []
    },
    {
      "cell_type": "markdown",
      "metadata": {
        "id": "AQTSVnlelBG0"
      },
      "source": [
        "Save model to Google Cloud Storage: https://github.com/google-research/bert/blob/0a0ea64a3ac1f43ed27d75278b9578708f9febcf/predicting_movie_reviews_with_bert_on_tf_hub.ipynb"
      ]
    },
    {
      "cell_type": "code",
      "metadata": {
        "id": "US_EAnICvP7f",
        "cellView": "both"
      },
      "source": [
        "# OUTPUT_DIR = 'output_bert_softmax_sentiment140'\n",
        "# DO_DELETE = False\n",
        "# USE_BUCKET = True\n",
        "# BUCKET = 'bert-finetune-kobkrit'\n",
        "# if USE_BUCKET:\n",
        "#   OUTPUT_DIR = 'gs://{}/{}'.format(BUCKET, OUTPUT_DIR)\n",
        "#   from google.colab import auth\n",
        "#   auth.authenticate_user()\n",
        "\n",
        "# if DO_DELETE:\n",
        "#   try:\n",
        "#     tf.gfile.DeleteRecursively(OUTPUT_DIR)\n",
        "#   except:\n",
        "#     # Doesn't matter if the directory didn't exist\n",
        "#     pass\n",
        "# tf.gfile.MakeDirs(OUTPUT_DIR)\n",
        "# print('***** Model output directory: {} *****'.format(OUTPUT_DIR))\n"
      ],
      "execution_count": null,
      "outputs": []
    },
    {
      "cell_type": "markdown",
      "metadata": {
        "id": "pmFYvkylMwXn"
      },
      "source": [
        "#Data"
      ]
    },
    {
      "cell_type": "markdown",
      "metadata": {
        "id": "LGJNMmJMPmj6"
      },
      "source": [
        "## Sentiment140\n"
      ]
    },
    {
      "cell_type": "markdown",
      "metadata": {
        "id": "MC_w8SRqN0fr"
      },
      "source": [
        "Original Sentiment140 Dataset Download: https://docs.google.com/file/d/0B04GJPshIjmPRnZManQwWEdTZjg/edit\n",
        "\n",
        "\n"
      ]
    },
    {
      "cell_type": "code",
      "metadata": {
        "id": "ZvViHOSEGVnI",
        "outputId": "f5d09e03-69e8-4fec-9dfa-ebb22e59c59c",
        "colab": {
          "base_uri": "https://localhost:8080/",
          "height": 85
        }
      },
      "source": [
        "!gdown --id \"0B04GJPshIjmPRnZManQwWEdTZjg\""
      ],
      "execution_count": null,
      "outputs": [
        {
          "output_type": "stream",
          "text": [
            "Downloading...\n",
            "From: https://drive.google.com/uc?id=0B04GJPshIjmPRnZManQwWEdTZjg\n",
            "To: /content/trainingandtestdata.zip\n",
            "81.4MB [00:00, 99.8MB/s]\n"
          ],
          "name": "stdout"
        }
      ]
    },
    {
      "cell_type": "code",
      "metadata": {
        "id": "CrXLmJB5Gklr",
        "outputId": "8e7d7dba-58a1-4975-d5b8-1bb6dab844ff",
        "colab": {
          "base_uri": "https://localhost:8080/",
          "height": 102
        }
      },
      "source": [
        "!unzip trainingandtestdata.zip\n",
        "!ls"
      ],
      "execution_count": null,
      "outputs": [
        {
          "output_type": "stream",
          "text": [
            "Archive:  trainingandtestdata.zip\n",
            "  inflating: testdata.manual.2009.06.14.csv  \n",
            "  inflating: training.1600000.processed.noemoticon.csv  \n",
            "sample_data\t\t\ttraining.1600000.processed.noemoticon.csv\n",
            "testdata.manual.2009.06.14.csv\ttrainingandtestdata.zip\n"
          ],
          "name": "stdout"
        }
      ]
    },
    {
      "cell_type": "code",
      "metadata": {
        "id": "fom_ff20gyy6"
      },
      "source": [
        "all_df = pd.read_csv(\"./training.1600000.processed.noemoticon.csv\", encoding=\"latin-1\")\n",
        "train = all_df.sample(100000)\n",
        "test = all_df.sample(10000)"
      ],
      "execution_count": null,
      "outputs": []
    },
    {
      "cell_type": "code",
      "metadata": {
        "id": "0D-7eFxQ3PUe",
        "outputId": "0a542653-fd2d-49f6-a7f2-d1113a765e74",
        "colab": {
          "base_uri": "https://localhost:8080/",
          "height": 221
        }
      },
      "source": [
        "train.head()"
      ],
      "execution_count": null,
      "outputs": [
        {
          "output_type": "execute_result",
          "data": {
            "text/html": [
              "<div>\n",
              "<style scoped>\n",
              "    .dataframe tbody tr th:only-of-type {\n",
              "        vertical-align: middle;\n",
              "    }\n",
              "\n",
              "    .dataframe tbody tr th {\n",
              "        vertical-align: top;\n",
              "    }\n",
              "\n",
              "    .dataframe thead th {\n",
              "        text-align: right;\n",
              "    }\n",
              "</style>\n",
              "<table border=\"1\" class=\"dataframe\">\n",
              "  <thead>\n",
              "    <tr style=\"text-align: right;\">\n",
              "      <th></th>\n",
              "      <th>0</th>\n",
              "      <th>1467810369</th>\n",
              "      <th>Mon Apr 06 22:19:45 PDT 2009</th>\n",
              "      <th>NO_QUERY</th>\n",
              "      <th>_TheSpecialOne_</th>\n",
              "      <th>@switchfoot http://twitpic.com/2y1zl - Awww, that's a bummer.  You shoulda got David Carr of Third Day to do it. ;D</th>\n",
              "    </tr>\n",
              "  </thead>\n",
              "  <tbody>\n",
              "    <tr>\n",
              "      <th>1582738</th>\n",
              "      <td>4</td>\n",
              "      <td>2190350327</td>\n",
              "      <td>Tue Jun 16 02:28:45 PDT 2009</td>\n",
              "      <td>NO_QUERY</td>\n",
              "      <td>KatyCaptivated</td>\n",
              "      <td>Franz Ferdinand - No you Girls...great song.</td>\n",
              "    </tr>\n",
              "    <tr>\n",
              "      <th>1422420</th>\n",
              "      <td>4</td>\n",
              "      <td>2058484312</td>\n",
              "      <td>Sat Jun 06 15:02:04 PDT 2009</td>\n",
              "      <td>NO_QUERY</td>\n",
              "      <td>AbbieFletcher_</td>\n",
              "      <td>@samjmoody everyone is saying that they are in...</td>\n",
              "    </tr>\n",
              "    <tr>\n",
              "      <th>136069</th>\n",
              "      <td>0</td>\n",
              "      <td>1880023562</td>\n",
              "      <td>Thu May 21 23:51:43 PDT 2009</td>\n",
              "      <td>NO_QUERY</td>\n",
              "      <td>Fluffy_Cupycake</td>\n",
              "      <td>@chris_slater seriously.. i was sitting here w...</td>\n",
              "    </tr>\n",
              "    <tr>\n",
              "      <th>573617</th>\n",
              "      <td>0</td>\n",
              "      <td>2209940985</td>\n",
              "      <td>Wed Jun 17 10:58:57 PDT 2009</td>\n",
              "      <td>NO_QUERY</td>\n",
              "      <td>lisacat</td>\n",
              "      <td>@PRsarahevans Yes, losing an iPhone is crummy ...</td>\n",
              "    </tr>\n",
              "    <tr>\n",
              "      <th>674253</th>\n",
              "      <td>0</td>\n",
              "      <td>2247733795</td>\n",
              "      <td>Fri Jun 19 19:32:31 PDT 2009</td>\n",
              "      <td>NO_QUERY</td>\n",
              "      <td>GenMac</td>\n",
              "      <td>on the floor with Goblin, Zil and me. Not sure...</td>\n",
              "    </tr>\n",
              "  </tbody>\n",
              "</table>\n",
              "</div>"
            ],
            "text/plain": [
              "         0  ...  @switchfoot http://twitpic.com/2y1zl - Awww, that's a bummer.  You shoulda got David Carr of Third Day to do it. ;D\n",
              "1582738  4  ...      Franz Ferdinand - No you Girls...great song.                                                                   \n",
              "1422420  4  ...  @samjmoody everyone is saying that they are in...                                                                  \n",
              "136069   0  ...  @chris_slater seriously.. i was sitting here w...                                                                  \n",
              "573617   0  ...  @PRsarahevans Yes, losing an iPhone is crummy ...                                                                  \n",
              "674253   0  ...  on the floor with Goblin, Zil and me. Not sure...                                                                  \n",
              "\n",
              "[5 rows x 6 columns]"
            ]
          },
          "metadata": {
            "tags": []
          },
          "execution_count": 8
        }
      ]
    },
    {
      "cell_type": "code",
      "metadata": {
        "id": "3JPRuwFYBbln",
        "outputId": "f44e5478-93e8-4803-b167-ae0ada16183f",
        "colab": {
          "base_uri": "https://localhost:8080/",
          "height": 34
        }
      },
      "source": [
        "train.shape"
      ],
      "execution_count": null,
      "outputs": [
        {
          "output_type": "execute_result",
          "data": {
            "text/plain": [
              "(100000, 6)"
            ]
          },
          "metadata": {
            "tags": []
          },
          "execution_count": 9
        }
      ]
    },
    {
      "cell_type": "code",
      "metadata": {
        "id": "cZM5SXb_Bd65",
        "outputId": "2d164ca1-6bc8-4f57-96d5-56a27b389e14",
        "colab": {
          "base_uri": "https://localhost:8080/",
          "height": 34
        }
      },
      "source": [
        "test.shape"
      ],
      "execution_count": null,
      "outputs": [
        {
          "output_type": "execute_result",
          "data": {
            "text/plain": [
              "(10000, 6)"
            ]
          },
          "metadata": {
            "tags": []
          },
          "execution_count": 10
        }
      ]
    },
    {
      "cell_type": "code",
      "metadata": {
        "id": "XgDMiNRZ8z8d",
        "outputId": "abf2ecf8-1a6e-4890-87c5-3e50d6f5a033",
        "colab": {
          "base_uri": "https://localhost:8080/",
          "height": 436
        }
      },
      "source": [
        "test"
      ],
      "execution_count": null,
      "outputs": [
        {
          "output_type": "execute_result",
          "data": {
            "text/html": [
              "<div>\n",
              "<style scoped>\n",
              "    .dataframe tbody tr th:only-of-type {\n",
              "        vertical-align: middle;\n",
              "    }\n",
              "\n",
              "    .dataframe tbody tr th {\n",
              "        vertical-align: top;\n",
              "    }\n",
              "\n",
              "    .dataframe thead th {\n",
              "        text-align: right;\n",
              "    }\n",
              "</style>\n",
              "<table border=\"1\" class=\"dataframe\">\n",
              "  <thead>\n",
              "    <tr style=\"text-align: right;\">\n",
              "      <th></th>\n",
              "      <th>0</th>\n",
              "      <th>1467810369</th>\n",
              "      <th>Mon Apr 06 22:19:45 PDT 2009</th>\n",
              "      <th>NO_QUERY</th>\n",
              "      <th>_TheSpecialOne_</th>\n",
              "      <th>@switchfoot http://twitpic.com/2y1zl - Awww, that's a bummer.  You shoulda got David Carr of Third Day to do it. ;D</th>\n",
              "    </tr>\n",
              "  </thead>\n",
              "  <tbody>\n",
              "    <tr>\n",
              "      <th>952842</th>\n",
              "      <td>4</td>\n",
              "      <td>1824526548</td>\n",
              "      <td>Sun May 17 01:45:59 PDT 2009</td>\n",
              "      <td>NO_QUERY</td>\n",
              "      <td>flahlah</td>\n",
              "      <td>live long &amp;amp; prosper</td>\n",
              "    </tr>\n",
              "    <tr>\n",
              "      <th>202232</th>\n",
              "      <td>0</td>\n",
              "      <td>1972076421</td>\n",
              "      <td>Sat May 30 08:30:39 PDT 2009</td>\n",
              "      <td>NO_QUERY</td>\n",
              "      <td>TCFS</td>\n",
              "      <td>do you know whats not cool? going to drinks th...</td>\n",
              "    </tr>\n",
              "    <tr>\n",
              "      <th>1299735</th>\n",
              "      <td>4</td>\n",
              "      <td>2006301750</td>\n",
              "      <td>Tue Jun 02 10:57:59 PDT 2009</td>\n",
              "      <td>NO_QUERY</td>\n",
              "      <td>mnwin</td>\n",
              "      <td>@michaelcavitt Smart thinking!  I decided to k...</td>\n",
              "    </tr>\n",
              "    <tr>\n",
              "      <th>1308729</th>\n",
              "      <td>4</td>\n",
              "      <td>2012896551</td>\n",
              "      <td>Tue Jun 02 21:30:07 PDT 2009</td>\n",
              "      <td>NO_QUERY</td>\n",
              "      <td>Brywv</td>\n",
              "      <td>Just love weddings</td>\n",
              "    </tr>\n",
              "    <tr>\n",
              "      <th>1364818</th>\n",
              "      <td>4</td>\n",
              "      <td>2049839877</td>\n",
              "      <td>Fri Jun 05 17:35:36 PDT 2009</td>\n",
              "      <td>NO_QUERY</td>\n",
              "      <td>geee_geee</td>\n",
              "      <td>Making myself a grilled cheese sandwich.. quic...</td>\n",
              "    </tr>\n",
              "    <tr>\n",
              "      <th>...</th>\n",
              "      <td>...</td>\n",
              "      <td>...</td>\n",
              "      <td>...</td>\n",
              "      <td>...</td>\n",
              "      <td>...</td>\n",
              "      <td>...</td>\n",
              "    </tr>\n",
              "    <tr>\n",
              "      <th>727080</th>\n",
              "      <td>0</td>\n",
              "      <td>2262740871</td>\n",
              "      <td>Sat Jun 20 23:08:03 PDT 2009</td>\n",
              "      <td>NO_QUERY</td>\n",
              "      <td>bookie_17_87</td>\n",
              "      <td>Tonight was awful fighting with the bf and bab...</td>\n",
              "    </tr>\n",
              "    <tr>\n",
              "      <th>911925</th>\n",
              "      <td>4</td>\n",
              "      <td>1752123392</td>\n",
              "      <td>Sat May 09 21:06:20 PDT 2009</td>\n",
              "      <td>NO_QUERY</td>\n",
              "      <td>sippinslow</td>\n",
              "      <td>ang payat ko na, yes! hoping to go down to my ...</td>\n",
              "    </tr>\n",
              "    <tr>\n",
              "      <th>69773</th>\n",
              "      <td>0</td>\n",
              "      <td>1693423420</td>\n",
              "      <td>Sun May 03 22:30:16 PDT 2009</td>\n",
              "      <td>NO_QUERY</td>\n",
              "      <td>DrManhattan_</td>\n",
              "      <td>Those heady times we shared - I miss you alrea...</td>\n",
              "    </tr>\n",
              "    <tr>\n",
              "      <th>1171106</th>\n",
              "      <td>4</td>\n",
              "      <td>1980455739</td>\n",
              "      <td>Sun May 31 06:47:45 PDT 2009</td>\n",
              "      <td>NO_QUERY</td>\n",
              "      <td>mandyyjiroux</td>\n",
              "      <td>@kaseypoole thank u ! it means a lot</td>\n",
              "    </tr>\n",
              "    <tr>\n",
              "      <th>469766</th>\n",
              "      <td>0</td>\n",
              "      <td>2176282317</td>\n",
              "      <td>Mon Jun 15 03:26:23 PDT 2009</td>\n",
              "      <td>NO_QUERY</td>\n",
              "      <td>Jemz_ADQ</td>\n",
              "      <td>@Realradiorobin Never got to listen to you thi...</td>\n",
              "    </tr>\n",
              "  </tbody>\n",
              "</table>\n",
              "<p>10000 rows × 6 columns</p>\n",
              "</div>"
            ],
            "text/plain": [
              "         0  ...  @switchfoot http://twitpic.com/2y1zl - Awww, that's a bummer.  You shoulda got David Carr of Third Day to do it. ;D\n",
              "952842   4  ...                           live long &amp; prosper                                                                   \n",
              "202232   0  ...  do you know whats not cool? going to drinks th...                                                                  \n",
              "1299735  4  ...  @michaelcavitt Smart thinking!  I decided to k...                                                                  \n",
              "1308729  4  ...                                Just love weddings                                                                   \n",
              "1364818  4  ...  Making myself a grilled cheese sandwich.. quic...                                                                  \n",
              "...     ..  ...                                                ...                                                                  \n",
              "727080   0  ...  Tonight was awful fighting with the bf and bab...                                                                  \n",
              "911925   4  ...  ang payat ko na, yes! hoping to go down to my ...                                                                  \n",
              "69773    0  ...  Those heady times we shared - I miss you alrea...                                                                  \n",
              "1171106  4  ...              @kaseypoole thank u ! it means a lot                                                                   \n",
              "469766   0  ...  @Realradiorobin Never got to listen to you thi...                                                                  \n",
              "\n",
              "[10000 rows x 6 columns]"
            ]
          },
          "metadata": {
            "tags": []
          },
          "execution_count": 11
        }
      ]
    },
    {
      "cell_type": "markdown",
      "metadata": {
        "id": "vNxFFzxNCLcg"
      },
      "source": [
        "From: https://www.kaggle.com/kazanova/sentiment140\n",
        "\n",
        "The data is a CSV with emoticons removed. Data file format has 6 fields:\n",
        "0 - the polarity of the tweet (0 = negative, 2 = neutral, 4 = positive)\n",
        "1 - the id of the tweet (2087)\n",
        "2 - the date of the tweet (Sat May 16 23:58:44 UTC 2009)\n",
        "3 - the query (lyx). If there is no query, then this value is NO_QUERY.\n",
        "4 - the user that tweeted (robotickilldozr)\n",
        "5 - the text of the tweet (Lyx is cool)\n"
      ]
    },
    {
      "cell_type": "code",
      "metadata": {
        "id": "EJS7_VcFB69x"
      },
      "source": [
        "# clean data\n",
        "test.columns = train.columns = all_df.columns = ['sentiment','id','date','query','userid','text']\n",
        ""
      ],
      "execution_count": null,
      "outputs": []
    },
    {
      "cell_type": "code",
      "metadata": {
        "id": "prRQM8pDi8xI",
        "outputId": "a2c66354-ca6f-4629-917b-e2f80bbdbb33",
        "colab": {
          "base_uri": "https://localhost:8080/",
          "height": 34
        }
      },
      "source": [
        "train.columns"
      ],
      "execution_count": null,
      "outputs": [
        {
          "output_type": "execute_result",
          "data": {
            "text/plain": [
              "Index(['sentiment', 'id', 'date', 'query', 'userid', 'text'], dtype='object')"
            ]
          },
          "metadata": {
            "tags": []
          },
          "execution_count": 13
        }
      ]
    },
    {
      "cell_type": "code",
      "metadata": {
        "id": "0yL3eOyxRsE9",
        "outputId": "56041809-f7eb-42e2-8a65-0f84b9fb9e52",
        "colab": {
          "base_uri": "https://localhost:8080/",
          "height": 282
        }
      },
      "source": [
        "# class + = 50000, class - = 50000\n",
        "train['sentiment'].plot(kind='hist')"
      ],
      "execution_count": null,
      "outputs": [
        {
          "output_type": "execute_result",
          "data": {
            "text/plain": [
              "<matplotlib.axes._subplots.AxesSubplot at 0x7fea8663c710>"
            ]
          },
          "metadata": {
            "tags": []
          },
          "execution_count": 14
        },
        {
          "output_type": "display_data",
          "data": {
            "image/png": "[encoded data removed]",
            "text/plain": [
              "<Figure size 432x288 with 1 Axes>"
            ]
          },
          "metadata": {
            "tags": [],
            "needs_background": "light"
          }
        }
      ]
    },
    {
      "cell_type": "markdown",
      "metadata": {
        "id": "sfRnHSz3iSXz"
      },
      "source": [
        "For us, our input data is the 'sentence' column and our label is the 'polarity' column (0, 1 for negative and positive, respecitvely)"
      ]
    },
    {
      "cell_type": "code",
      "metadata": {
        "id": "IuMOGwFui4it"
      },
      "source": [
        "DATA_COLUMN = 'text'\n",
        "LABEL_COLUMN = 'sentiment'\n",
        "\n",
        "train['sentiment'] = train.sentiment.astype(int)\n",
        "test['sentiment'] = test.sentiment.astype(int)\n",
        "\n",
        "# the polarity of the tweet (0 = negative,4 = positive)\n",
        "# the polarity of the tweet (0 = negative,1 = positive)\n",
        "# positive is 1 negative is 0\n",
        "train.loc[train.sentiment > 0, 'sentiment'] = 1\n",
        "test.loc[test.sentiment > 0, 'sentiment'] = 1\n",
        "\n",
        "label_list = [0, 1]"
      ],
      "execution_count": null,
      "outputs": []
    },
    {
      "cell_type": "code",
      "metadata": {
        "id": "gBcgF1qEJFAu",
        "outputId": "93f9cd65-9465-406a-b027-55605defcbae",
        "colab": {
          "base_uri": "https://localhost:8080/",
          "height": 282
        }
      },
      "source": [
        "import matplotlib.pyplot as plt\n",
        "import pandas as pd\n",
        "\n",
        "train['sentiment'].plot(kind='hist')"
      ],
      "execution_count": null,
      "outputs": [
        {
          "output_type": "execute_result",
          "data": {
            "text/plain": [
              "<matplotlib.axes._subplots.AxesSubplot at 0x7fea86533978>"
            ]
          },
          "metadata": {
            "tags": []
          },
          "execution_count": 16
        },
        {
          "output_type": "display_data",
          "data": {
            "image/png": "[encoded data removed]",
            "text/plain": [
              "<Figure size 432x288 with 1 Axes>"
            ]
          },
          "metadata": {
            "tags": [],
            "needs_background": "light"
          }
        }
      ]
    },
    {
      "cell_type": "markdown",
      "metadata": {
        "id": "V399W0rqNJ-Z"
      },
      "source": [
        "#Data Preprocessing\n",
        "\n",
        "From: https://github.com/google-research/bert/blob/0a0ea64a3ac1f43ed27d75278b9578708f9febcf/predicting_movie_reviews_with_bert_on_tf_hub.ipynb\n",
        "\n",
        "We'll need to transform our data into a format BERT understands. This involves two steps. First, we create  `InputExample`'s using the constructor provided in the BERT library.\n",
        "\n",
        "- `text_a` is the text we want to classify, which in this case, is the `Request` field in our Dataframe.\n",
        "- `text_b` is used if we're training a model to understand the relationship between sentences (i.e. is `text_b` a translation of `text_a`? Is `text_b` an answer to the question asked by `text_a`?). This doesn't apply to our task, so we can leave `text_b` blank.\n",
        "- `label` is the label for our example, i.e. True, False"
      ]
    },
    {
      "cell_type": "code",
      "metadata": {
        "id": "p9gEt5SmM6i6"
      },
      "source": [
        "# Use the InputExample class from BERT's run_classifier code to create examples from the data\n",
        "# convert text to InputExample that generate bert embedding to prepare for each layers\n",
        "train_InputExamples = train.apply(lambda x: bert.run_classifier.InputExample(guid=None, # Globally unique ID for bookkeeping, unused in this example\n",
        "                                                                   text_a = x[DATA_COLUMN],\n",
        "                                                                   text_b = None,\n",
        "                                                                   label = x[LABEL_COLUMN]), axis = 1)\n",
        "\n",
        "test_InputExamples = test.apply(lambda x: bert.run_classifier.InputExample(guid=None,\n",
        "                                                                   text_a = x[DATA_COLUMN],\n",
        "                                                                   text_b = None,\n",
        "                                                                   label = x[LABEL_COLUMN]), axis = 1)"
      ],
      "execution_count": null,
      "outputs": []
    },
    {
      "cell_type": "markdown",
      "metadata": {
        "id": "SCZWZtKxObjh"
      },
      "source": [
        "Next, we need to preprocess our data so that it matches the data BERT was trained on. For this, we'll need to do a couple of things (but don't worry--this is also included in the Python library):\n",
        "\n",
        "\n",
        "1. Lowercase our text (if we're using a BERT lowercase model)\n",
        "2. Tokenize it (i.e. \"sally says hi\" -> [\"sally\", \"says\", \"hi\"])\n",
        "3. Break words into WordPieces (i.e. \"calling\" -> [\"call\", \"##ing\"])\n",
        "4. Map our words to indexes using a vocab file that BERT provides\n",
        "5. Add special \"CLS\" and \"SEP\" tokens (see the [readme](https://github.com/google-research/bert))\n",
        "6. Append \"index\" and \"segment\" tokens to each input (see the [BERT paper](https://arxiv.org/pdf/1810.04805.pdf))\n",
        "\n",
        "Happily, we don't have to worry about most of these details.\n",
        "\n",
        "\n"
      ]
    },
    {
      "cell_type": "code",
      "metadata": {
        "id": "IhJSe0QHNG7U",
        "outputId": "70052cd6-88cc-4edb-a34b-b55b7f3271c6",
        "colab": {
          "base_uri": "https://localhost:8080/",
          "height": 51
        }
      },
      "source": [
        "# This is a path to an uncased (all lowercase) version of BERT\n",
        "# load model and use tenserflowhub model\n",
        "BERT_MODEL_HUB = \"https://tfhub.dev/google/bert_uncased_L-12_H-768_A-12/1\"\n",
        "\n",
        "def create_tokenizer_from_hub_module():\n",
        "  \"\"\"Get the vocab file and casing info from the Hub module.\"\"\"\n",
        "  with tf.Graph().as_default():\n",
        "    bert_module = hub.Module(BERT_MODEL_HUB)\n",
        "    tokenization_info = bert_module(signature=\"tokenization_info\", as_dict=True)\n",
        "    with tf.Session() as sess:\n",
        "      vocab_file, do_lower_case = sess.run([tokenization_info[\"vocab_file\"],\n",
        "                                            tokenization_info[\"do_lower_case\"]])\n",
        "\n",
        "  return bert.tokenization.FullTokenizer(\n",
        "      vocab_file=vocab_file, do_lower_case=do_lower_case)\n",
        "\n",
        "tokenizer = create_tokenizer_from_hub_module()"
      ],
      "execution_count": null,
      "outputs": [
        {
          "output_type": "stream",
          "text": [
            "INFO:tensorflow:Saver not created because there are no variables in the graph to restore\n"
          ],
          "name": "stdout"
        },
        {
          "output_type": "stream",
          "text": [
            "INFO:tensorflow:Saver not created because there are no variables in the graph to restore\n"
          ],
          "name": "stderr"
        }
      ]
    },
    {
      "cell_type": "markdown",
      "metadata": {
        "id": "z4oFkhpZBDKm"
      },
      "source": [
        "Great--we just learned that the BERT model we're using expects lowercase data (that's what stored in tokenization_info[\"do_lower_case\"]) and we also loaded BERT's vocab file. We also created a tokenizer, which breaks words into word pieces:"
      ]
    },
    {
      "cell_type": "code",
      "metadata": {
        "id": "LL5W8gEGRTAf"
      },
      "source": [
        "# We'll set sequences to be at most 128 tokens long.\n",
        "MAX_SEQ_LENGTH = 128\n",
        "# Convert our train and test features to InputFeatures that BERT understands.\n",
        "train_features = bert.run_classifier.convert_examples_to_features(train_InputExamples, label_list, MAX_SEQ_LENGTH, tokenizer)\n",
        "test_features = bert.run_classifier.convert_examples_to_features(test_InputExamples, label_list, MAX_SEQ_LENGTH, tokenizer)"
      ],
      "execution_count": null,
      "outputs": []
    },
    {
      "cell_type": "markdown",
      "metadata": {
        "id": "evqIct50dt_r"
      },
      "source": [
        "# BERT Keras Model"
      ]
    },
    {
      "cell_type": "markdown",
      "metadata": {
        "id": "qMWiDtpyQSoU"
      },
      "source": [
        "To start with LSTM, we'll need create our own Keras BERT Layer\n",
        "https://github.com/strongio/keras-bert/\n",
        "\n"
      ]
    },
    {
      "cell_type": "code",
      "metadata": {
        "id": "5WPIJOOfjhl3"
      },
      "source": [
        "from tensorflow.keras import backend as K\n",
        "from tensorflow.keras import optimizers\n"
      ],
      "execution_count": null,
      "outputs": []
    },
    {
      "cell_type": "code",
      "metadata": {
        "id": "IOm4LGCxdkza"
      },
      "source": [
        "# bert layer that we can use for our keras\n",
        "class BertLayer(tf.keras.layers.Layer):\n",
        "    def __init__(\n",
        "        self,\n",
        "        n_fine_tune_layers=10,\n",
        "        pooling=\"mean\",\n",
        "        bert_path=\"https://tfhub.dev/google/bert_uncased_L-12_H-768_A-12/1\",\n",
        "        **kwargs,\n",
        "    ):\n",
        "        self.n_fine_tune_layers = n_fine_tune_layers\n",
        "        self.trainable = True\n",
        "        self.output_size = 768\n",
        "        self.pooling = pooling\n",
        "        self.bert_path = bert_path\n",
        "        if self.pooling not in [\"first\", \"mean\"]:\n",
        "            raise NameError(\n",
        "                f\"Undefined pooling type (must be either first or mean, but is {self.pooling}\"\n",
        "            )\n",
        "\n",
        "        super(BertLayer, self).__init__(**kwargs)\n",
        "\n",
        "    def build(self, input_shape):\n",
        "        self.bert = hub.Module(\n",
        "            self.bert_path, trainable=self.trainable, name=f\"{self.name}_module\"\n",
        "        )\n",
        "\n",
        "        # Remove unused layers\n",
        "        trainable_vars = self.bert.variables\n",
        "        if self.pooling == \"first\":\n",
        "            trainable_vars = [var for var in trainable_vars if not \"/cls/\" in var.name]\n",
        "            trainable_layers = [\"pooler/dense\"]\n",
        "\n",
        "        elif self.pooling == \"mean\":\n",
        "            trainable_vars = [\n",
        "                var\n",
        "                for var in trainable_vars\n",
        "                if not \"/cls/\" in var.name and not \"/pooler/\" in var.name\n",
        "            ]\n",
        "            trainable_layers = []\n",
        "        else:\n",
        "            raise NameError(\n",
        "                f\"Undefined pooling type (must be either first or mean, but is {self.pooling}\"\n",
        "            )\n",
        "\n",
        "        # Select how many layers to fine tune\n",
        "        for i in range(self.n_fine_tune_layers):\n",
        "            trainable_layers.append(f\"encoder/layer_{str(11 - i)}\")\n",
        "\n",
        "        # Update trainable vars to contain only the specified layers\n",
        "        trainable_vars = [\n",
        "            var\n",
        "            for var in trainable_vars\n",
        "            if any([l in var.name for l in trainable_layers])\n",
        "        ]\n",
        "\n",
        "        # Add to trainable weights\n",
        "        for var in trainable_vars:\n",
        "            self._trainable_weights.append(var)\n",
        "\n",
        "        for var in self.bert.variables:\n",
        "            if var not in self._trainable_weights:\n",
        "                self._non_trainable_weights.append(var)\n",
        "\n",
        "        super(BertLayer, self).build(input_shape)\n",
        "\n",
        "    def call(self, inputs):\n",
        "        inputs = [K.cast(x, dtype=\"int32\") for x in inputs]\n",
        "        input_ids, input_mask, segment_ids = inputs\n",
        "        bert_inputs = dict(\n",
        "            input_ids=input_ids, input_mask=input_mask, segment_ids=segment_ids\n",
        "        )\n",
        "        if self.pooling == \"first\":\n",
        "            pooled = self.bert(inputs=bert_inputs, signature=\"tokens\", as_dict=True)[\n",
        "                \"pooled_output\"\n",
        "            ]\n",
        "        elif self.pooling == \"mean\":\n",
        "            result = self.bert(inputs=bert_inputs, signature=\"tokens\", as_dict=True)[\n",
        "                \"sequence_output\"\n",
        "            ]\n",
        "\n",
        "            mul_mask = lambda x, m: x * tf.expand_dims(m, axis=-1)\n",
        "            masked_reduce_mean = lambda x, m: tf.reduce_sum(mul_mask(x, m), axis=1) / (\n",
        "                    tf.reduce_sum(m, axis=1, keepdims=True) + 1e-10)\n",
        "            input_mask = tf.cast(input_mask, tf.float32)\n",
        "            pooled = masked_reduce_mean(result, input_mask)\n",
        "        else:\n",
        "            raise NameError(f\"Undefined pooling type (must be either first or mean, but is {self.pooling}\")\n",
        "\n",
        "        return pooled\n",
        "\n",
        "    def compute_output_shape(self, input_shape):\n",
        "        return (input_shape[0], self.output_size)\n"
      ],
      "execution_count": null,
      "outputs": []
    },
    {
      "cell_type": "code",
      "metadata": {
        "id": "hOhxDhDZgXvA"
      },
      "source": [
        "def build_model(max_seq_length):\n",
        "    # input id, masks, seqment\n",
        "    in_id = tf.keras.layers.Input(shape=(max_seq_length,), name=\"input_ids\")\n",
        "    in_mask = tf.keras.layers.Input(shape=(max_seq_length,), name=\"input_masks\")\n",
        "    in_segment = tf.keras.layers.Input(shape=(max_seq_length,), name=\"segment_ids\")\n",
        "    # get bert input by input id, masks, seqment\n",
        "    bert_inputs = [in_id, in_mask, in_segment]\n",
        "\n",
        "    bert_output = BertLayer(n_fine_tune_layers=1, pooling=\"first\")(bert_inputs)\n",
        "    # Option A.\n",
        "    # dense = tf.keras.layers.Dense(256, activation='relu')(bert_output)\n",
        "\n",
        "    # Option B.\n",
        "    # reshape = tf.keras.layers.Reshape((1,768), input_shape=(None,768))(bert_output)\n",
        "    # lstm = tf.keras.layers.Bidirectional(tf.keras.layers.LSTM(256, input_shape=(1, 768)))(reshape)\n",
        "\n",
        "    pred = tf.keras.layers.Dense(2, activation='softmax')(bert_output)\n",
        "\n",
        "    model = tf.keras.models.Model(inputs=bert_inputs, outputs=pred)\n",
        "    model.compile(loss='sparse_categorical_crossentropy', optimizer=optimizers.Adam(learning_rate=1e-4), metrics=['accuracy'])\n",
        "    model.summary()\n",
        "\n",
        "    return model\n",
        "\n",
        "def initialize_vars(sess):\n",
        "    sess.run(tf.local_variables_initializer())\n",
        "    sess.run(tf.global_variables_initializer())\n",
        "    sess.run(tf.tables_initializer())\n",
        "    K.set_session(sess)"
      ],
      "execution_count": null,
      "outputs": []
    },
    {
      "cell_type": "code",
      "metadata": {
        "id": "AggixsYAgRHQ"
      },
      "source": [
        "train_input_ids = []\n",
        "train_input_masks = []\n",
        "train_segment_ids = []\n",
        "train_label_ids = []\n",
        "\n",
        "for i in range(len(train_features)):\n",
        "  train_input_ids.append(train_features[i].input_ids)\n",
        "  train_input_masks.append(train_features[i].input_mask)\n",
        "  train_segment_ids.append(train_features[i].segment_ids)\n",
        "  train_label_ids.append(train_features[i].label_id)\n",
        "\n",
        "test_input_ids = []\n",
        "test_input_masks = []\n",
        "test_segment_ids = []\n",
        "test_label_ids = []\n",
        "\n",
        "for i in range(len(test_features)):\n",
        "  test_input_ids.append(test_features[i].input_ids)\n",
        "  test_input_masks.append(test_features[i].input_mask)\n",
        "  test_segment_ids.append(test_features[i].segment_ids)\n",
        "  test_label_ids.append(test_features[i].label_id)\n"
      ],
      "execution_count": null,
      "outputs": []
    },
    {
      "cell_type": "code",
      "metadata": {
        "id": "rWYFcve1_5C6"
      },
      "source": [
        "# Initialize session\n",
        "sess = tf.Session()"
      ],
      "execution_count": null,
      "outputs": []
    },
    {
      "cell_type": "markdown",
      "metadata": {
        "id": "qUhmZmp8nMTZ"
      },
      "source": [
        "# Load Model"
      ]
    },
    {
      "cell_type": "code",
      "metadata": {
        "id": "_grxBp8YnRw_"
      },
      "source": [
        "# # Clear and load model\n",
        "# model = None\n",
        "# model = build_model(MAX_SEQ_LENGTH)\n",
        "# initialize_vars(sess)\n",
        "\n",
        "# tf.gfile.Copy(\n",
        "#      OUTPUT_DIR+\"/BertLSTM.h5\",\n",
        "#     \"BertLSTM.h5\",\n",
        "#     overwrite=True\n",
        "# )\n",
        "# model.load_weights('BertLSTM.h5')"
      ],
      "execution_count": null,
      "outputs": []
    },
    {
      "cell_type": "markdown",
      "metadata": {
        "id": "k0mcGoWMnGfc"
      },
      "source": [
        "# Train Model (Optional)"
      ]
    },
    {
      "cell_type": "code",
      "metadata": {
        "id": "IJer9ckmikkV"
      },
      "source": [
        "model = build_model(MAX_SEQ_LENGTH)\n",
        "\n",
        "# Instantiate variables\n",
        "initialize_vars(sess)"
      ],
      "execution_count": null,
      "outputs": []
    },
    {
      "cell_type": "code",
      "metadata": {
        "id": "GH6goBF4MU-p"
      },
      "source": [
        "model.fit(\n",
        "    [train_input_ids, train_input_masks, train_segment_ids],\n",
        "    train_label_ids,\n",
        "    validation_data=([test_input_ids, test_input_masks, test_segment_ids], test_label_ids),\n",
        "    epochs=1,\n",
        "    batch_size=32\n",
        ")"
      ],
      "execution_count": null,
      "outputs": []
    },
    {
      "cell_type": "code",
      "metadata": {
        "id": "WYQ8KSMPk6WP"
      },
      "source": [
        "# model.save('BertLSTM.h5')\n",
        "# tf.gfile.Copy(\n",
        "#     \"BertLSTM.h5\",\n",
        "#     OUTPUT_DIR+\"/BertLSTM.h5\",\n",
        "#     overwrite=True\n",
        "# )"
      ],
      "execution_count": null,
      "outputs": []
    },
    {
      "cell_type": "markdown",
      "metadata": {
        "id": "M3K9y76fB8V0"
      },
      "source": [
        "# Test set prediction  "
      ]
    },
    {
      "cell_type": "code",
      "metadata": {
        "id": "6zC5PEz2m2BG"
      },
      "source": [
        "predictions = model.predict([test_input_ids,\n",
        "                            test_input_masks,\n",
        "                            test_segment_ids]\n",
        "                           )\n"
      ],
      "execution_count": null,
      "outputs": []
    },
    {
      "cell_type": "code",
      "metadata": {
        "id": "IK7xi8t2nexk"
      },
      "source": [
        "predictions"
      ],
      "execution_count": null,
      "outputs": []
    },
    {
      "cell_type": "code",
      "metadata": {
        "id": "KNKvhywoCZ3u"
      },
      "source": [
        "labels = [\"Negative\", \"Positive\"]\n",
        "results = [(sentence, prediction, labels[np.argmax(prediction)]) for sentence, prediction in zip(test[DATA_COLUMN], predictions)]"
      ],
      "execution_count": null,
      "outputs": []
    },
    {
      "cell_type": "code",
      "metadata": {
        "id": "iU_4jT35JtrO"
      },
      "source": [
        "results"
      ],
      "execution_count": null,
      "outputs": []
    },
    {
      "cell_type": "code",
      "metadata": {
        "id": "OWG5MYfTOi03"
      },
      "source": [
        "labels = [x[2] for x in results]\n",
        "plt.hist(labels)"
      ],
      "execution_count": null,
      "outputs": []
    },
    {
      "cell_type": "markdown",
      "metadata": {
        "id": "C11d6pciD6m4"
      },
      "source": [
        "# Prediction on Input Sentence\n"
      ]
    },
    {
      "cell_type": "markdown",
      "metadata": {
        "id": "ueKsULteiz1B"
      },
      "source": [
        "Now let's write code to make predictions on new sentences:\n",
        "cite: https://github.com/google-research/bert/issues/322"
      ]
    },
    {
      "cell_type": "code",
      "metadata": {
        "id": "-thbodgih_VJ"
      },
      "source": [
        "pred_sentences = [\n",
        "  \"Microsft lost a trillion of dollar, People hate this\",\n",
        "  \"Saudis Race to Restore Oil Output After Aramco Attacks\",\n",
        "  \"Trump Defends Brett Kavanaugh After New Revelations\",\n",
        "  \"Google got double the profit\"\n",
        "]"
      ],
      "execution_count": null,
      "outputs": []
    },
    {
      "cell_type": "code",
      "metadata": {
        "id": "OsrbTD2EJTVl"
      },
      "source": [
        "def getPrediction(in_sentences):\n",
        "  labels = [\"Negative\", \"Positive\"]\n",
        "\n",
        "  input_examples = [run_classifier.InputExample(guid=\"\", text_a = x, text_b = None, label = 0) for x in in_sentences] # here, \"\" is just a dummy label\n",
        "  input_features = run_classifier.convert_examples_to_features(input_examples, label_list, MAX_SEQ_LENGTH, tokenizer)\n",
        "  input_input_ids = []\n",
        "  input_input_masks = []\n",
        "  input_segment_ids = []\n",
        "\n",
        "  for i in range(len(input_features)):\n",
        "    input_input_ids.append(input_features[i].input_ids)\n",
        "    input_input_masks.append(input_features[i].input_mask)\n",
        "    input_segment_ids.append(input_features[i].segment_ids)\n",
        "\n",
        "  predictions = model.predict([input_input_ids,\n",
        "                            input_input_masks,\n",
        "                            input_segment_ids]\n",
        "                           )\n",
        "\n",
        "  return [(sentence, prediction, labels[np.argmax(prediction)]) for sentence, prediction in zip(in_sentences, predictions)]"
      ],
      "execution_count": null,
      "outputs": []
    },
    {
      "cell_type": "code",
      "metadata": {
        "id": "QrZmvZySKQTm"
      },
      "source": [
        "predictions = getPrediction(pred_sentences)"
      ],
      "execution_count": null,
      "outputs": []
    },
    {
      "cell_type": "markdown",
      "metadata": {
        "id": "MXkRiEBUqN3n"
      },
      "source": [
        "Voila! We have a sentiment classifier!"
      ]
    },
    {
      "cell_type": "code",
      "metadata": {
        "id": "ERkTE8-7oQLZ"
      },
      "source": [
        "predictions"
      ],
      "execution_count": null,
      "outputs": []
    },
    {
      "cell_type": "code",
      "metadata": {
        "id": "IPLy0YB9F5j0"
      },
      "source": [],
      "execution_count": null,
      "outputs": []
    }
  ]
}