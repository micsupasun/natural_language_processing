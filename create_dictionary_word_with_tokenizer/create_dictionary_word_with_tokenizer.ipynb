{
  "nbformat": 4,
  "nbformat_minor": 0,
  "metadata": {
    "colab": {
      "provenance": [],
      "authorship_tag": "ABX9TyPotbprRrqdKXlUQU6aWxHA",
      "include_colab_link": true
    },
    "kernelspec": {
      "name": "python3",
      "display_name": "Python 3"
    },
    "language_info": {
      "name": "python"
    }
  },
  "cells": [
    {
      "cell_type": "markdown",
      "metadata": {
        "id": "view-in-github",
        "colab_type": "text"
      },
      "source": [
        "<a href=\"https://colab.research.google.com/github/micsupasun/natural_language_processing/blob/main/create_dictionary_word_with_tokenizer/create_dictionary_word_with_tokenizer.ipynb\" target=\"_parent\"><img src=\"https://colab.research.google.com/assets/colab-badge.svg\" alt=\"Open In Colab\"/></a>"
      ]
    },
    {
      "cell_type": "markdown",
      "source": [
        "# Import Library"
      ],
      "metadata": {
        "id": "zX9O6IFk3YdC"
      }
    },
    {
      "cell_type": "code",
      "execution_count": 1,
      "metadata": {
        "id": "9wsE3_ju3Xj-"
      },
      "outputs": [],
      "source": [
        "import tensorflow as tf\n",
        "from tensorflow import keras\n",
        "from tensorflow.keras.preprocessing.text import Tokenizer"
      ]
    },
    {
      "cell_type": "markdown",
      "source": [
        "# Import Dataset"
      ],
      "metadata": {
        "id": "lYxb0Gls3hkn"
      }
    },
    {
      "cell_type": "code",
      "source": [
        "sentence = [\"Last month, Cyclone Gabrielle smashed into New Zealand's North Island - killing 11 people and displacing at least 10,000 more. It's triggered a national debate about climate change and whether vulnerable homes should be rebuilt or written off.\",\n",
        "            \"The mother of two lived in the Hawkes Bay area, one of the regions worst hit by Cyclone Gabrielle. When the Category 3 storm hit with wind speeds of up to 159km/h (99mph), her home was completely destroyed.\"]"
      ],
      "metadata": {
        "id": "B0rkAVaA3a2_"
      },
      "execution_count": 2,
      "outputs": []
    },
    {
      "cell_type": "markdown",
      "source": [
        "# Seperate word with tokenizer not duplicate in dictionary"
      ],
      "metadata": {
        "id": "Tndw2Wiv8Mi4"
      }
    },
    {
      "cell_type": "code",
      "source": [
        "#at this point we are providing the values or assigning the values of the object token to the variable\n",
        "tokenizer = Tokenizer(num_words=100)\n",
        "#here we are fitting the model and saving the parameters into the object to do further analysis\n",
        "tokenizer.fit_on_texts(sentence)\n",
        "#we will going to create the dictionary of the above text\n",
        "word_index = tokenizer.word_index \n",
        "word_index"
      ],
      "metadata": {
        "colab": {
          "base_uri": "https://localhost:8080/"
        },
        "id": "J5VOh6wf3mPG",
        "outputId": "083c0e0a-8224-4692-ea0b-efe730e54312"
      },
      "execution_count": 3,
      "outputs": [
        {
          "output_type": "execute_result",
          "data": {
            "text/plain": [
              "{'the': 1,\n",
              " 'of': 2,\n",
              " 'cyclone': 3,\n",
              " 'gabrielle': 4,\n",
              " 'and': 5,\n",
              " 'hit': 6,\n",
              " 'last': 7,\n",
              " 'month': 8,\n",
              " 'smashed': 9,\n",
              " 'into': 10,\n",
              " 'new': 11,\n",
              " \"zealand's\": 12,\n",
              " 'north': 13,\n",
              " 'island': 14,\n",
              " 'killing': 15,\n",
              " '11': 16,\n",
              " 'people': 17,\n",
              " 'displacing': 18,\n",
              " 'at': 19,\n",
              " 'least': 20,\n",
              " '10': 21,\n",
              " '000': 22,\n",
              " 'more': 23,\n",
              " \"it's\": 24,\n",
              " 'triggered': 25,\n",
              " 'a': 26,\n",
              " 'national': 27,\n",
              " 'debate': 28,\n",
              " 'about': 29,\n",
              " 'climate': 30,\n",
              " 'change': 31,\n",
              " 'whether': 32,\n",
              " 'vulnerable': 33,\n",
              " 'homes': 34,\n",
              " 'should': 35,\n",
              " 'be': 36,\n",
              " 'rebuilt': 37,\n",
              " 'or': 38,\n",
              " 'written': 39,\n",
              " 'off': 40,\n",
              " 'mother': 41,\n",
              " 'two': 42,\n",
              " 'lived': 43,\n",
              " 'in': 44,\n",
              " 'hawkes': 45,\n",
              " 'bay': 46,\n",
              " 'area': 47,\n",
              " 'one': 48,\n",
              " 'regions': 49,\n",
              " 'worst': 50,\n",
              " 'by': 51,\n",
              " 'when': 52,\n",
              " 'category': 53,\n",
              " '3': 54,\n",
              " 'storm': 55,\n",
              " 'with': 56,\n",
              " 'wind': 57,\n",
              " 'speeds': 58,\n",
              " 'up': 59,\n",
              " 'to': 60,\n",
              " '159km': 61,\n",
              " 'h': 62,\n",
              " '99mph': 63,\n",
              " 'her': 64,\n",
              " 'home': 65,\n",
              " 'was': 66,\n",
              " 'completely': 67,\n",
              " 'destroyed': 68}"
            ]
          },
          "metadata": {},
          "execution_count": 3
        }
      ]
    },
    {
      "cell_type": "code",
      "source": [
        "sequences = tokenizer.texts_to_sequences(sentence)"
      ],
      "metadata": {
        "id": "CYYM3pN832Kh"
      },
      "execution_count": 4,
      "outputs": []
    },
    {
      "cell_type": "code",
      "source": [
        "print(f\"the index of the sentence is {word_index}\")\n",
        "print(f\"the squence of the sentence is {sequences}\")"
      ],
      "metadata": {
        "colab": {
          "base_uri": "https://localhost:8080/"
        },
        "id": "PZ5wDRO339wt",
        "outputId": "219d01b5-57e3-4877-b59a-62f24524da5d"
      },
      "execution_count": 5,
      "outputs": [
        {
          "output_type": "stream",
          "name": "stdout",
          "text": [
            "the index of the sentence is {'the': 1, 'of': 2, 'cyclone': 3, 'gabrielle': 4, 'and': 5, 'hit': 6, 'last': 7, 'month': 8, 'smashed': 9, 'into': 10, 'new': 11, \"zealand's\": 12, 'north': 13, 'island': 14, 'killing': 15, '11': 16, 'people': 17, 'displacing': 18, 'at': 19, 'least': 20, '10': 21, '000': 22, 'more': 23, \"it's\": 24, 'triggered': 25, 'a': 26, 'national': 27, 'debate': 28, 'about': 29, 'climate': 30, 'change': 31, 'whether': 32, 'vulnerable': 33, 'homes': 34, 'should': 35, 'be': 36, 'rebuilt': 37, 'or': 38, 'written': 39, 'off': 40, 'mother': 41, 'two': 42, 'lived': 43, 'in': 44, 'hawkes': 45, 'bay': 46, 'area': 47, 'one': 48, 'regions': 49, 'worst': 50, 'by': 51, 'when': 52, 'category': 53, '3': 54, 'storm': 55, 'with': 56, 'wind': 57, 'speeds': 58, 'up': 59, 'to': 60, '159km': 61, 'h': 62, '99mph': 63, 'her': 64, 'home': 65, 'was': 66, 'completely': 67, 'destroyed': 68}\n",
            "the squence of the sentence is [[7, 8, 3, 4, 9, 10, 11, 12, 13, 14, 15, 16, 17, 5, 18, 19, 20, 21, 22, 23, 24, 25, 26, 27, 28, 29, 30, 31, 5, 32, 33, 34, 35, 36, 37, 38, 39, 40], [1, 41, 2, 42, 43, 44, 1, 45, 46, 47, 48, 2, 1, 49, 50, 6, 51, 3, 4, 52, 1, 53, 54, 55, 6, 56, 57, 58, 2, 59, 60, 61, 62, 63, 64, 65, 66, 67, 68]]\n"
          ]
        }
      ]
    },
    {
      "cell_type": "code",
      "source": [
        "#checking our the sentences from only one statement\n",
        "print(sentence[0])\n",
        "print(sequences[0])"
      ],
      "metadata": {
        "colab": {
          "base_uri": "https://localhost:8080/"
        },
        "id": "PzkwG-t-4BBY",
        "outputId": "ddb577ad-ad8b-4067-de95-a4578e515887"
      },
      "execution_count": 6,
      "outputs": [
        {
          "output_type": "stream",
          "name": "stdout",
          "text": [
            "Last month, Cyclone Gabrielle smashed into New Zealand's North Island - killing 11 people and displacing at least 10,000 more. It's triggered a national debate about climate change and whether vulnerable homes should be rebuilt or written off.\n",
            "[7, 8, 3, 4, 9, 10, 11, 12, 13, 14, 15, 16, 17, 5, 18, 19, 20, 21, 22, 23, 24, 25, 26, 27, 28, 29, 30, 31, 5, 32, 33, 34, 35, 36, 37, 38, 39, 40]\n"
          ]
        }
      ]
    },
    {
      "cell_type": "code",
      "source": [],
      "metadata": {
        "id": "lLXmL7qt4MqW"
      },
      "execution_count": 6,
      "outputs": []
    }
  ]
}